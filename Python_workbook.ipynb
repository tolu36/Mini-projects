{
 "metadata": {
  "language_info": {
   "codemirror_mode": {
    "name": "ipython",
    "version": 3
   },
   "file_extension": ".py",
   "mimetype": "text/x-python",
   "name": "python",
   "nbconvert_exporter": "python",
   "pygments_lexer": "ipython3",
   "version": "3.7.6"
  },
  "orig_nbformat": 2,
  "kernelspec": {
   "name": "python3",
   "display_name": "Python 3.7.6 64-bit ('base': conda)"
  },
  "interpreter": {
   "hash": "ddb8f349f21f43b4ad42d7af31233383b79d6864496bd81fc9ddf0042223aee9"
  }
 },
 "nbformat": 4,
 "nbformat_minor": 2,
 "cells": [
  {
   "cell_type": "code",
   "execution_count": 8,
   "metadata": {},
   "outputs": [],
   "source": [
    "def isopen(weekday, hour):\n",
    "\n",
    "    days = ['monday', 'tuesday', 'wednesday', 'thursday', 'friday']\n",
    "\n",
    "    workhours = range(9,18)\n",
    "\n",
    "    if weekday.lower() in days and hour in workhours:\n",
    "        return True\n",
    "\n",
    "    else:\n",
    "\n",
    "        return False"
   ]
  },
  {
   "cell_type": "code",
   "execution_count": 12,
   "metadata": {},
   "outputs": [
    {
     "output_type": "execute_result",
     "data": {
      "text/plain": [
       "False"
      ]
     },
     "metadata": {},
     "execution_count": 12
    }
   ],
   "source": [
    "isopen('sunday', 12)"
   ]
  },
  {
   "cell_type": "code",
   "execution_count": null,
   "metadata": {},
   "outputs": [],
   "source": [
    "# What EOE means?\n",
    "# This is a term often used by actuaries to indicate an adjustment needed to historical premiums to put them at \"current rate level\". This is needed when there was a rate change during the experience period. When actuaries do indication (analysis of premium vs losses), they want to have earned exposure to be at the latest version of premium calculation. In the Werner & Modlin link above, you have more details about EOE on page 73. Basically, there are 2 methods to put premium at current rate level. The parallelogram method which is an approximation and the extension of exposures (EOE) which recalculate premium for every risk at current level (most accurate approach).\n",
    "\n",
    "# What's the difference between actuaries and underwriters?\n",
    "# Underwriting is one of the core functions of an insurance company. Underwriting is ultimately responsible for choosing the types of risks we want to assume, i.e. what kind of business we want to write. What we want to write depends on a variety of factors:\n",
    "\n",
    "# ·       Risk appetite: i.e. how much risk are we comfortable taking on. The old team I worked on, economic capital, looked at the different risks our company faced and modeled them (it's a value at risk (VaR) methodology). Using these risk models you can see what size losses you would expect in a particular time horizon. This is how companies set their capital requirements. The more volatility you see from certain risks, the more capital you have to hold for it.\n",
    "\n",
    "# ·       Reinsurance coverage available: this is done by the reinsurance team. The more coverage that is available the more risky business you can take on. Actuaries help determine what kind of reinsurance coverage is necessary.\n",
    "\n",
    "# ·       Loss experience: analyzed by pricing actuaries. Can see if for the losses we're seeing in certain types of business it even makes sense to write that kind of business, i.e. can we even make a profit there.\n",
    "\n",
    "# JK-20180608: I only went into actuarial stuff above but there is a lot of input from other teams, e.g. claims, legal, marketing, etc.\n",
    "\n",
    "# Actuaries work in a variety of these functions which provide information that guide the underwriting policy. One of the outcomes of this is the Underwriting (UW) Guidelines. Here's an example of an UW guideline (for New Brunswick auto business):\n",
    "# L:\\nudata-NU\\Analytics\\Projects\\Pricing_UW\\RSP\\201711 Atlantic\\Files from ATL Pricing\\Manuals\\Aviva NB Auto Manual - Complete Version - 20171012.pdf\n",
    "\n",
    "# The UW guidelines are the result of all this collaboration and drive a lot of decisions, i.e. this is an insurance company's secret sauce.\n",
    "\n",
    "# So underwriters work more on the frontlines with brokers/agents/etc using the information that is provided to them by actuaries, etc. \n",
    "\n",
    " \n",
    "\n",
    "# Miscellaneous topics\n",
    "\n",
    "# ·       Alberta Grid Rating: https://airb-applications.alberta.ca/Grid\n",
    "\n",
    "# ·       Insurance Bureau of Canada: http://www.ibc.ca/\n",
    "\n",
    "# ·       Industry-wide organization that collects data, conducts research, etc.\n",
    "\n",
    "# ·       Risk Sharing Pool (RSP) and Residual Market (FARM)\n",
    "\n",
    "# ·       Summary: \n",
    "\n",
    "# ·       https://www.casact.org/sites/default/files/2021-03/6C_Dutil.pdf\n",
    "\n",
    "# ·       Detailed guidelines:\n",
    "\n",
    "# ·       http://www.facilityassociation.com/Manual_menu.asp\n",
    "\n",
    "# ·       Facility Association Plan of Operation\n",
    "\n",
    " \n",
    "\n",
    " \n",
    "\n",
    "# Jocelyn LeBlanc-Courchaine FCAS, FICA\n",
    "\n",
    "# Spécialiste actuariel | Science des données\n",
    "\n",
    "# Tél. : 514-399-1412\n",
    "\n",
    " \n",
    "\n",
    "# jocelyn.leblanc-courchaine@aviva.com\n",
    "\n",
    "# www.avivacanada.com\n",
    "\n",
    " \n",
    "\n",
    "\n",
    "\n",
    " \n",
    "\n",
    " \n",
    "\n",
    "# Aviva: Public\n",
    "\n",
    "\n",
    "# This message may contain confidential information and is intended only for the named recipient. Please do not forward this message to any other party or distribute it in any manner without prior approval of the sender. If you have received this message in error, telephone or email the sender immediately and delete this message and any attachment from your system.\n",
    "# For environmental concerns, please print this email only if necessary.\n",
    "\n",
    "\n",
    "# Ce message est à l'usage exclusif de son destinataire et peut contenir des renseignements confidentiels. Ne le transmettez à personne, de quelque façon que ce soit, sans l'autorisation de son expéditeur. Si vous avez reçu ce message par erreur, communiquez immédiatement avec l’expéditeur et supprimez le message ainsi que toutes pièces jointes de votre ordinateur.\n",
    "# À des fins de protection de l’environnement, veuillez imprimer le présent message seulement s’il est nécessaire de le faire.\n",
    "# ...\n",
    "\n",
    "# [Message clipped]  View entire message\n"
   ]
  },
  {
   "cell_type": "code",
   "execution_count": 51,
   "metadata": {},
   "outputs": [],
   "source": [
    "def user_choice():\n",
    "    choice= \"Wrong\"\n",
    "    while choice.isdigit() == False  or int(choice) not in range(0,11):\n",
    "        choice = input('Please enter a number between 0-10: ')\n",
    "        if choice.isdigit() ==False:\n",
    "            print(f\"{choice} is not a digit.\")\n",
    "        elif int(choice) not in range(0,11):\n",
    "            print('This value is outside the range of 0-10')\n",
    "    return int(choice)\n",
    "    \n"
   ]
  },
  {
   "cell_type": "code",
   "execution_count": 52,
   "metadata": {},
   "outputs": [
    {
     "output_type": "stream",
     "name": "stdout",
     "text": [
      "best day ever is not a digit.\n",
      "yo you  is not a digit.\n",
      "This value is outside the range of 0-10\n"
     ]
    },
    {
     "output_type": "execute_result",
     "data": {
      "text/plain": [
       "10"
      ]
     },
     "metadata": {},
     "execution_count": 52
    }
   ],
   "source": [
    "user_choice()"
   ]
  },
  {
   "cell_type": "code",
   "execution_count": 103,
   "metadata": {},
   "outputs": [],
   "source": [
    "def game():\n",
    "    game_list=[1,2,3]\n",
    "    i = 'start'\n",
    "    while i.isdigit() == False or i not in range(1,len(game_list)+1):\n",
    "        print(\"Here's the current list:\\n\", game_list)\n",
    "        i = input('Please enter position of the value you wish to change.')\n",
    "        if i.isdigit() ==False:\n",
    "            print(f\"{i} is not a digit.\")\n",
    "            keep_playing = input ('Keep playing Yes/No?')\n",
    "            if keep_playing=='Yes':\n",
    "                continue\n",
    "            else:\n",
    "                return 'Thanks for playing!'\n",
    "        elif int(i) not in range(1,len(game_list)+1):\n",
    "            print('This value is out of range.')\n",
    "            keep_playing = input ('Keep playing Yes/No?')\n",
    "            if keep_playing=='Yes':\n",
    "                continue\n",
    "            else:\n",
    "                return 'Thanks for playing!'\n",
    "        else:\n",
    "            new_value=input('Enter the new value. ')\n",
    "            game_list[int(i)-1]= new_value\n",
    "            print(game_list)\n",
    "            i='end'\n",
    "            keep_playing = input ('Keep playing Yes/No?')\n",
    "            if keep_playing=='Yes':\n",
    "                continue\n",
    "            else:\n",
    "                return 'Thanks for playing!'"
   ]
  },
  {
   "cell_type": "code",
   "execution_count": 106,
   "metadata": {},
   "outputs": [
    {
     "output_type": "stream",
     "name": "stdout",
     "text": [
      "Here's the current list:\n",
      " [1, 2, 3]\n",
      "[1, 'Friend', 3]\n",
      "Here's the current list:\n",
      " [1, 'Friend', 3]\n",
      "[1, 'Friend', 'Bob']\n"
     ]
    },
    {
     "output_type": "execute_result",
     "data": {
      "text/plain": [
       "'Thanks for playing!'"
      ]
     },
     "metadata": {},
     "execution_count": 106
    }
   ],
   "source": [
    "game()\n"
   ]
  },
  {
   "source": [
    "import random\n",
    "\n",
    "def tic_tac():\n",
    "    game = \"begin\"\n",
    "    position_dict = {\n",
    "        \"a\": 1,\n",
    "        \"b\": 2,\n",
    "        \"c\": 3,\n",
    "        \"d\": 4,\n",
    "        \"e\": 5,\n",
    "        \"f\": 6,\n",
    "        \"g\": 7,\n",
    "        \"h\": 8,\n",
    "        \"i\": 9,\n",
    "    }\n",
    "    win = [\n",
    "        [1, 2, 3],\n",
    "        [4, 5, 6],\n",
    "        [7, 8, 9],\n",
    "        [1, 4, 7],\n",
    "        [2, 5, 8],\n",
    "        [3, 6, 9],\n",
    "        [1, 5, 9],\n",
    "        [3, 5, 7],\n",
    "    ]\n",
    "    moves = []\n",
    "    player1_choice = []\n",
    "    player2_choice = []\n",
    "    position_list = [1, 2, 3, 4, 5, 6, 7, 8, 9]\n",
    "\n",
    "    print(\n",
    "        \"Welcome to the Tic Tac Toe!\\nYour position options ranges from 1-9, as shown below.\\n\"\n",
    "    )\n",
    "    disp = display(game, position_dict)\n",
    "    print(disp)\n",
    "\n",
    "    game = \"start\"\n",
    "    disp, position_dict = display(game, position_dict)\n",
    "    print(disp)\n",
    "    order = goes_first()\n",
    "    if len(order) < 3:\n",
    "        first, second = order\n",
    "    else:\n",
    "        return order\n",
    "    players = [first, second]\n",
    "\n",
    "    while moves.sort() != position_list:\n",
    "        game = \"playing\"\n",
    "        game_on = True\n",
    "\n",
    "        while game_on:\n",
    "            for player in players:\n",
    "                current_player = input(f\"{player}, pick a postion from 1-9.\")\n",
    "                if (\n",
    "                    current_player.isdigit() == False\n",
    "                    or int(current_player) not in position_list\n",
    "                    or int(current_player) in moves\n",
    "                ):\n",
    "                    print(\"Wrong choice.\\n\")\n",
    "                    keep_playing = input(\"Keep playing Yes/No?\")\n",
    "                    if keep_playing == \"Yes\":\n",
    "                        continue\n",
    "                    else:\n",
    "                        return f\"{player} forfeits, {[x for x in players if x not in player][0]} wins!! Thanks for playing!\"\n",
    "                else:\n",
    "                    game_on = False\n",
    "\n",
    "                current_player = int(current_player)\n",
    "                moves.append(current_player)\n",
    "                if player == first:\n",
    "                    player1_choice.append(current_player)\n",
    "                else:\n",
    "                    player2_choice.append(current_player)\n",
    "\n",
    "                position = list(position_dict.keys())[current_player - 1]\n",
    "                disp, position_dict = display(game, position_dict, player, position)\n",
    "                print(disp)\n",
    "\n",
    "                if len(moves) > 4:\n",
    "                    if len(player1_choice) > 2:\n",
    "                        for i in win:\n",
    "                            if set(i).issubset(set(player1_choice)):\n",
    "                                return f\"{first} wins!!\"\n",
    "                    if len(player2_choice) > 2:\n",
    "                        for i in win:\n",
    "                            if set(i).issubset(set(player2_choice)):\n",
    "                                return f\"{second} wins!!\"\n",
    "                    if len(moves) == 9:\n",
    "                        return \"Draw!\"\n",
    "\n",
    "\n",
    "def display(\n",
    "    game,\n",
    "    position_dict,\n",
    "    player_flag=None,\n",
    "    position=None,\n",
    "):\n",
    "    if game == \"begin\":\n",
    "        a = position_dict[\"a\"]\n",
    "        b = position_dict[\"b\"]\n",
    "        c = position_dict[\"c\"]\n",
    "        d = position_dict[\"d\"]\n",
    "        e = position_dict[\"e\"]\n",
    "        f = position_dict[\"f\"]\n",
    "        g = position_dict[\"g\"]\n",
    "        h = position_dict[\"h\"]\n",
    "        i = position_dict[\"i\"]\n",
    "        return f\"{a}|{b}|{c}\\n-----\\n{d}|{e}|{f}\\n-----\\n{g}|{h}|{i}\\n\"\n",
    "\n",
    "    elif game == \"start\":\n",
    "        position_dict = dict.fromkeys(position_dict, \" \")\n",
    "        a = position_dict[\"a\"]\n",
    "        b = position_dict[\"b\"]\n",
    "        c = position_dict[\"c\"]\n",
    "        d = position_dict[\"d\"]\n",
    "        e = position_dict[\"e\"]\n",
    "        f = position_dict[\"f\"]\n",
    "        g = position_dict[\"g\"]\n",
    "        h = position_dict[\"h\"]\n",
    "        i = position_dict[\"i\"]\n",
    "        return f\"{a}|{b}|{c}\\n-----\\n{d}|{e}|{f}\\n-----\\n{g}|{h}|{i}\\n\", position_dict\n",
    "\n",
    "    elif game == \"playing\":\n",
    "        position_dict[position] = player_flag\n",
    "        a = position_dict[\"a\"]\n",
    "        b = position_dict[\"b\"]\n",
    "        c = position_dict[\"c\"]\n",
    "        d = position_dict[\"d\"]\n",
    "        e = position_dict[\"e\"]\n",
    "        f = position_dict[\"f\"]\n",
    "        g = position_dict[\"g\"]\n",
    "        h = position_dict[\"h\"]\n",
    "        i = position_dict[\"i\"]\n",
    "        return f\"{a}|{b}|{c}\\n-----\\n{d}|{e}|{f}\\n-----\\n{g}|{h}|{i}\\n\", position_dict\n",
    "\n",
    "\n",
    "def goes_first():\n",
    "    choice = \"start\"\n",
    "    choice2 = \"\"\n",
    "    while choice not in [\"X\", \"O\"]:\n",
    "        choice = input(\"Player 1, X or O?\").upper()\n",
    "        if choice not in [\"X\", \"O\"]:\n",
    "            print(\"\\nWrong choice.\\n\")\n",
    "            keep_playing = input(\"Keep playing Yes/No?\")\n",
    "            if keep_playing == \"Yes\":\n",
    "                continue\n",
    "            else:\n",
    "                return \"Thanks for playing!\"\n",
    "    if choice == \"X\":\n",
    "        choice2 = \"O\"\n",
    "    else:\n",
    "        choice2 = \"X\"\n",
    "\n",
    "    print(f\"Player 1 is {choice} and Player 2 is {choice2}.\\n\")\n",
    "\n",
    "    n = \"\"\n",
    "    m = \"\"\n",
    "    while n == m:\n",
    "        n = random.randint(1, 9)\n",
    "        m = random.randint(1, 9)\n",
    "    if n > m:\n",
    "        print(f\"{choice} is first.\\n\")\n",
    "        first = choice\n",
    "        second = choice2\n",
    "    else:\n",
    "        print(f\"{choice2} is first.\\n\")\n",
    "        first = choice2\n",
    "        second = choice\n",
    "    return first, second\n"
   ],
   "cell_type": "code",
   "metadata": {},
   "execution_count": 31,
   "outputs": []
  },
  {
   "cell_type": "code",
   "execution_count": 33,
   "metadata": {},
   "outputs": [
    {
     "output_type": "stream",
     "name": "stdout",
     "text": [
      "Welcome to the Tic Tac Toe!\n",
      "Your position options ranges from 1-9, as shown below.\n",
      "\n",
      "1|2|3\n",
      "-----\n",
      "4|5|6\n",
      "-----\n",
      "7|8|9\n",
      "\n",
      " | | \n",
      "-----\n",
      " | | \n",
      "-----\n",
      " | | \n",
      "\n",
      "Player 1 is X and Player 2 is O.\n",
      "\n",
      "X is first.\n",
      "\n",
      "X| | \n",
      "-----\n",
      " | | \n",
      "-----\n",
      " | | \n",
      "\n",
      "X| |O\n",
      "-----\n",
      " | | \n",
      "-----\n",
      " | | \n",
      "\n",
      "X| |O\n",
      "-----\n",
      " | | \n",
      "-----\n",
      "X| | \n",
      "\n",
      "X| |O\n",
      "-----\n",
      "O| | \n",
      "-----\n",
      "X| | \n",
      "\n",
      "X| |O\n",
      "-----\n",
      "O| |X\n",
      "-----\n",
      "X| | \n",
      "\n",
      "X| |O\n",
      "-----\n",
      "O|O|X\n",
      "-----\n",
      "X| | \n",
      "\n",
      "X| |O\n",
      "-----\n",
      "O|O|X\n",
      "-----\n",
      "X| |X\n",
      "\n",
      "X| |O\n",
      "-----\n",
      "O|O|X\n",
      "-----\n",
      "X|O|X\n",
      "\n",
      "X|X|O\n",
      "-----\n",
      "O|O|X\n",
      "-----\n",
      "X|O|X\n",
      "\n"
     ]
    },
    {
     "output_type": "execute_result",
     "data": {
      "text/plain": [
       "'Draw!'"
      ]
     },
     "metadata": {},
     "execution_count": 33
    }
   ],
   "source": [
    "tic_tac()"
   ]
  },
  {
   "cell_type": "code",
   "execution_count": 51,
   "metadata": {},
   "outputs": [
    {
     "output_type": "stream",
     "name": "stdout",
     "text": [
      "7 1\n"
     ]
    }
   ],
   "source": [
    "n=''\n",
    "m=''\n",
    "while n==m:\n",
    "    n = random.randint(1,9)\n",
    "    m = random.randint(1,9)\n",
    "print(n,m)"
   ]
  },
  {
   "cell_type": "code",
   "execution_count": 83,
   "metadata": {},
   "outputs": [
    {
     "output_type": "stream",
     "name": "stdout",
     "text": [
      " | | \n-----\n | | \n-----\n | | \n\n"
     ]
    },
    {
     "output_type": "execute_result",
     "data": {
      "text/plain": [
       "{'a': 't',\n",
       " 'b': ' ',\n",
       " 'c': ' ',\n",
       " 'd': ' ',\n",
       " 'e': ' ',\n",
       " 'f': ' ',\n",
       " 'g': ' ',\n",
       " 'h': ' ',\n",
       " 'i': ' '}"
      ]
     },
     "metadata": {},
     "execution_count": 83
    }
   ],
   "source": [
    "position_dict={'a':' ', \"b\":' ', \"c\":' ', \"d\":' ', \"e\":' ', \"f\":' ', \"g\":' ', \"h\":' ', \"i\":' '}\n",
    "a=position_dict['a']; b=position_dict['b']; c=position_dict['c']; d=position_dict['d']; e=position_dict['e']; f=position_dict['f']; g=position_dict['g']; h=position_dict['h']; i=position_dict['i']    \n",
    "print(f'{a}|{b}|{c}\\n-----\\n{d}|{e}|{f}\\n-----\\n{g}|{h}|{i}\\n')\n",
    "player_1=1\n",
    "position=list(position_dict.keys())[player_1-1]\n",
    "position_dict[position]='t'\n",
    "position_dict"
   ]
  },
  {
   "cell_type": "code",
   "execution_count": 42,
   "metadata": {},
   "outputs": [
    {
     "output_type": "execute_result",
     "data": {
      "text/plain": [
       "True"
      ]
     },
     "metadata": {},
     "execution_count": 42
    }
   ],
   "source": [
    "n=''\n",
    "m=''\n",
    "n==m"
   ]
  },
  {
   "cell_type": "code",
   "execution_count": 103,
   "metadata": {},
   "outputs": [],
   "source": [
    "    def goes_first():\n",
    "        choice = \"start\"\n",
    "        choice2 = \"\"\n",
    "        while choice not in [\"X\", \"O\"]:\n",
    "            choice = input(\"Player 1, X or O?\").upper()\n",
    "            if choice not in [\"X\", \"O\"]:\n",
    "                print(\"\\nWrong choice.\\n\")\n",
    "                keep_playing = input(\"Keep playing Yes/No?\")\n",
    "                if keep_playing == \"Yes\":\n",
    "                    continue\n",
    "                else:\n",
    "                    return \"Thanks for playing!\"\n",
    "        if choice == \"X\":\n",
    "            choice2 = \"O\"\n",
    "        else:\n",
    "            choice2 = \"X\"\n",
    "\n",
    "        print(f\"Player 1 is {choice} and Player 2 is {choice2}.\\n\")\n",
    "\n",
    "        n = \"\"\n",
    "        m = \"\"\n",
    "        while n == m:\n",
    "            n = random.randint(1, 9)\n",
    "            m = random.randint(1, 9)\n",
    "        if n > m:\n",
    "            print(f\"{choice} is first.\\n\")\n",
    "            first = choice\n",
    "            second = choice2\n",
    "        else:\n",
    "            print(f\"{choice2} is first.\\n\")\n",
    "            first = choice2\n",
    "            second = choice\n",
    "        return [first, second]"
   ]
  },
  {
   "cell_type": "code",
   "execution_count": 104,
   "metadata": {},
   "outputs": [
    {
     "output_type": "stream",
     "name": "stdout",
     "text": [
      "Player 1 is X and Player 2 is O.\n\nX is first.\n\n"
     ]
    },
    {
     "output_type": "execute_result",
     "data": {
      "text/plain": [
       "['X', 'O']"
      ]
     },
     "metadata": {},
     "execution_count": 104
    }
   ],
   "source": [
    "goes_first()"
   ]
  },
  {
   "cell_type": "code",
   "execution_count": 105,
   "metadata": {},
   "outputs": [
    {
     "output_type": "stream",
     "name": "stdout",
     "text": [
      "Player 1 is X and Player 2 is O.\n\nX is first.\n\n"
     ]
    }
   ],
   "source": [
    "    order = goes_first()\n",
    "    first=order[0]\n",
    "    second=order[1]"
   ]
  },
  {
   "cell_type": "code",
   "execution_count": 10,
   "metadata": {},
   "outputs": [
    {
     "output_type": "execute_result",
     "data": {
      "text/plain": [
       "'j'"
      ]
     },
     "metadata": {},
     "execution_count": 10
    }
   ],
   "source": [
    "g=['j','k']\n",
    "h='k'\n",
    "[x for x in g if x not in h][0]\n"
   ]
  },
  {
   "cell_type": "code",
   "execution_count": null,
   "metadata": {},
   "outputs": [],
   "source": []
  }
 ]
}
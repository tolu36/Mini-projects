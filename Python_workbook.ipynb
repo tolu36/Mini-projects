{
 "metadata": {
  "language_info": {
   "codemirror_mode": {
    "name": "ipython",
    "version": 3
   },
   "file_extension": ".py",
   "mimetype": "text/x-python",
   "name": "python",
   "nbconvert_exporter": "python",
   "pygments_lexer": "ipython3",
   "version": "3.7.6"
  },
  "orig_nbformat": 2,
  "kernelspec": {
   "name": "python3",
   "display_name": "Python 3.7.6 64-bit ('base': conda)"
  },
  "interpreter": {
   "hash": "ddb8f349f21f43b4ad42d7af31233383b79d6864496bd81fc9ddf0042223aee9"
  }
 },
 "nbformat": 4,
 "nbformat_minor": 2,
 "cells": [
  {
   "cell_type": "code",
   "execution_count": 8,
   "metadata": {},
   "outputs": [],
   "source": [
    "def isopen(weekday, hour):\n",
    "\n",
    "    days = ['monday', 'tuesday', 'wednesday', 'thursday', 'friday']\n",
    "\n",
    "    workhours = range(9,18)\n",
    "\n",
    "    if weekday.lower() in days and hour in workhours:\n",
    "        return True\n",
    "\n",
    "    else:\n",
    "\n",
    "        return False"
   ]
  },
  {
   "cell_type": "code",
   "execution_count": 12,
   "metadata": {},
   "outputs": [
    {
     "output_type": "execute_result",
     "data": {
      "text/plain": [
       "False"
      ]
     },
     "metadata": {},
     "execution_count": 12
    }
   ],
   "source": [
    "isopen('sunday', 12)"
   ]
  },
  {
   "cell_type": "code",
   "execution_count": null,
   "metadata": {},
   "outputs": [],
   "source": [
    "# What EOE means?\n",
    "# This is a term often used by actuaries to indicate an adjustment needed to historical premiums to put them at \"current rate level\". This is needed when there was a rate change during the experience period. When actuaries do indication (analysis of premium vs losses), they want to have earned exposure to be at the latest version of premium calculation. In the Werner & Modlin link above, you have more details about EOE on page 73. Basically, there are 2 methods to put premium at current rate level. The parallelogram method which is an approximation and the extension of exposures (EOE) which recalculate premium for every risk at current level (most accurate approach).\n",
    "\n",
    "# What's the difference between actuaries and underwriters?\n",
    "# Underwriting is one of the core functions of an insurance company. Underwriting is ultimately responsible for choosing the types of risks we want to assume, i.e. what kind of business we want to write. What we want to write depends on a variety of factors:\n",
    "\n",
    "# ·       Risk appetite: i.e. how much risk are we comfortable taking on. The old team I worked on, economic capital, looked at the different risks our company faced and modeled them (it's a value at risk (VaR) methodology). Using these risk models you can see what size losses you would expect in a particular time horizon. This is how companies set their capital requirements. The more volatility you see from certain risks, the more capital you have to hold for it.\n",
    "\n",
    "# ·       Reinsurance coverage available: this is done by the reinsurance team. The more coverage that is available the more risky business you can take on. Actuaries help determine what kind of reinsurance coverage is necessary.\n",
    "\n",
    "# ·       Loss experience: analyzed by pricing actuaries. Can see if for the losses we're seeing in certain types of business it even makes sense to write that kind of business, i.e. can we even make a profit there.\n",
    "\n",
    "# JK-20180608: I only went into actuarial stuff above but there is a lot of input from other teams, e.g. claims, legal, marketing, etc.\n",
    "\n",
    "# Actuaries work in a variety of these functions which provide information that guide the underwriting policy. One of the outcomes of this is the Underwriting (UW) Guidelines. Here's an example of an UW guideline (for New Brunswick auto business):\n",
    "# L:\\nudata-NU\\Analytics\\Projects\\Pricing_UW\\RSP\\201711 Atlantic\\Files from ATL Pricing\\Manuals\\Aviva NB Auto Manual - Complete Version - 20171012.pdf\n",
    "\n",
    "# The UW guidelines are the result of all this collaboration and drive a lot of decisions, i.e. this is an insurance company's secret sauce.\n",
    "\n",
    "# So underwriters work more on the frontlines with brokers/agents/etc using the information that is provided to them by actuaries, etc. \n",
    "\n",
    " \n",
    "\n",
    "# Miscellaneous topics\n",
    "\n",
    "# ·       Alberta Grid Rating: https://airb-applications.alberta.ca/Grid\n",
    "\n",
    "# ·       Insurance Bureau of Canada: http://www.ibc.ca/\n",
    "\n",
    "# ·       Industry-wide organization that collects data, conducts research, etc.\n",
    "\n",
    "# ·       Risk Sharing Pool (RSP) and Residual Market (FARM)\n",
    "\n",
    "# ·       Summary: \n",
    "\n",
    "# ·       https://www.casact.org/sites/default/files/2021-03/6C_Dutil.pdf\n",
    "\n",
    "# ·       Detailed guidelines:\n",
    "\n",
    "# ·       http://www.facilityassociation.com/Manual_menu.asp\n",
    "\n",
    "# ·       Facility Association Plan of Operation\n",
    "\n",
    " \n",
    "\n",
    " \n",
    "\n",
    "# Jocelyn LeBlanc-Courchaine FCAS, FICA\n",
    "\n",
    "# Spécialiste actuariel | Science des données\n",
    "\n",
    "# Tél. : 514-399-1412\n",
    "\n",
    " \n",
    "\n",
    "# jocelyn.leblanc-courchaine@aviva.com\n",
    "\n",
    "# www.avivacanada.com\n",
    "\n",
    " \n",
    "\n",
    "\n",
    "\n",
    " \n",
    "\n",
    " \n",
    "\n",
    "# Aviva: Public\n",
    "\n",
    "\n",
    "# This message may contain confidential information and is intended only for the named recipient. Please do not forward this message to any other party or distribute it in any manner without prior approval of the sender. If you have received this message in error, telephone or email the sender immediately and delete this message and any attachment from your system.\n",
    "# For environmental concerns, please print this email only if necessary.\n",
    "\n",
    "\n",
    "# Ce message est à l'usage exclusif de son destinataire et peut contenir des renseignements confidentiels. Ne le transmettez à personne, de quelque façon que ce soit, sans l'autorisation de son expéditeur. Si vous avez reçu ce message par erreur, communiquez immédiatement avec l’expéditeur et supprimez le message ainsi que toutes pièces jointes de votre ordinateur.\n",
    "# À des fins de protection de l’environnement, veuillez imprimer le présent message seulement s’il est nécessaire de le faire.\n",
    "# ...\n",
    "\n",
    "# [Message clipped]  View entire message\n"
   ]
  },
  {
   "cell_type": "code",
   "execution_count": 51,
   "metadata": {},
   "outputs": [],
   "source": [
    "def user_choice():\n",
    "    choice= \"Wrong\"\n",
    "    while choice.isdigit() == False  or int(choice) not in range(0,11):\n",
    "        choice = input('Please enter a number between 0-10: ')\n",
    "        if choice.isdigit() ==False:\n",
    "            print(f\"{choice} is not a digit.\")\n",
    "        elif int(choice) not in range(0,11):\n",
    "            print('This value is outside the range of 0-10')\n",
    "    return int(choice)\n",
    "    \n"
   ]
  },
  {
   "cell_type": "code",
   "execution_count": 52,
   "metadata": {},
   "outputs": [
    {
     "output_type": "stream",
     "name": "stdout",
     "text": [
      "best day ever is not a digit.\n",
      "yo you  is not a digit.\n",
      "This value is outside the range of 0-10\n"
     ]
    },
    {
     "output_type": "execute_result",
     "data": {
      "text/plain": [
       "10"
      ]
     },
     "metadata": {},
     "execution_count": 52
    }
   ],
   "source": [
    "user_choice()"
   ]
  },
  {
   "cell_type": "code",
   "execution_count": 103,
   "metadata": {},
   "outputs": [],
   "source": [
    "def game():\n",
    "    game_list=[1,2,3]\n",
    "    i = 'start'\n",
    "    while i.isdigit() == False or i not in range(1,len(game_list)+1):\n",
    "        print(\"Here's the current list:\\n\", game_list)\n",
    "        i = input('Please enter position of the value you wish to change.')\n",
    "        if i.isdigit() ==False:\n",
    "            print(f\"{i} is not a digit.\")\n",
    "            keep_playing = input ('Keep playing Yes/No?')\n",
    "            if keep_playing=='Yes':\n",
    "                continue\n",
    "            else:\n",
    "                return 'Thanks for playing!'\n",
    "        elif int(i) not in range(1,len(game_list)+1):\n",
    "            print('This value is out of range.')\n",
    "            keep_playing = input ('Keep playing Yes/No?')\n",
    "            if keep_playing=='Yes':\n",
    "                continue\n",
    "            else:\n",
    "                return 'Thanks for playing!'\n",
    "        else:\n",
    "            new_value=input('Enter the new value. ')\n",
    "            game_list[int(i)-1]= new_value\n",
    "            print(game_list)\n",
    "            i='end'\n",
    "            keep_playing = input ('Keep playing Yes/No?')\n",
    "            if keep_playing=='Yes':\n",
    "                continue\n",
    "            else:\n",
    "                return 'Thanks for playing!'"
   ]
  },
  {
   "cell_type": "code",
   "execution_count": 106,
   "metadata": {},
   "outputs": [
    {
     "output_type": "stream",
     "name": "stdout",
     "text": [
      "Here's the current list:\n",
      " [1, 2, 3]\n",
      "[1, 'Friend', 3]\n",
      "Here's the current list:\n",
      " [1, 'Friend', 3]\n",
      "[1, 'Friend', 'Bob']\n"
     ]
    },
    {
     "output_type": "execute_result",
     "data": {
      "text/plain": [
       "'Thanks for playing!'"
      ]
     },
     "metadata": {},
     "execution_count": 106
    }
   ],
   "source": [
    "game()\n"
   ]
  },
  {
   "source": [
    "import random\n",
    "\n",
    "def tic_tac():\n",
    "    \"\"\"\n",
    "    This a tic-tac-toe game that randomly deteremines who goes first.\n",
    "    The function will notify who the winner is and when there is a draw.\n",
    "    \"\"\"\n",
    "    game = \"begin\"\n",
    "    position_dict = {\n",
    "        \"a\": 1,\n",
    "        \"b\": 2,\n",
    "        \"c\": 3,\n",
    "        \"d\": 4,\n",
    "        \"e\": 5,\n",
    "        \"f\": 6,\n",
    "        \"g\": 7,\n",
    "        \"h\": 8,\n",
    "        \"i\": 9,\n",
    "    }\n",
    "    win = [\n",
    "        [1, 2, 3],\n",
    "        [4, 5, 6],\n",
    "        [7, 8, 9],\n",
    "        [1, 4, 7],\n",
    "        [2, 5, 8],\n",
    "        [3, 6, 9],\n",
    "        [1, 5, 9],\n",
    "        [3, 5, 7],\n",
    "    ]\n",
    "    moves = []\n",
    "    player1_choice = []\n",
    "    player2_choice = []\n",
    "    position_list = [1, 2, 3, 4, 5, 6, 7, 8, 9]\n",
    "\n",
    "    print(\n",
    "        \"Welcome to the Tic Tac Toe!\\nYour position options ranges from 1-9, as shown below.\\n\"\n",
    "    )\n",
    "    disp = display(game, position_dict)\n",
    "    print(disp)\n",
    "\n",
    "    game = \"start\"\n",
    "    disp, position_dict = display(game, position_dict)\n",
    "    print(\"\\n\" * 100)\n",
    "    print(disp)\n",
    "    order = goes_first()\n",
    "    if len(order) < 3:\n",
    "        first, second = order\n",
    "    else:\n",
    "        return order\n",
    "    players = [first, second]\n",
    "\n",
    "    while moves.sort() != position_list:\n",
    "        game = \"playing\"\n",
    "        game_on = True\n",
    "\n",
    "        while game_on:\n",
    "            for player in players:\n",
    "                current_player = input(f\"{player}, pick a postion from 1-9.\")\n",
    "                if (\n",
    "                    current_player.isdigit() == False\n",
    "                    or int(current_player) not in position_list\n",
    "                    or int(current_player) in moves\n",
    "                ):\n",
    "                    print(\"Wrong choice.\\n\")\n",
    "                    keep_playing = input(\"Keep playing Yes/No?\")\n",
    "                    if keep_playing == \"Yes\":\n",
    "                        continue\n",
    "                    else:\n",
    "                        return f\"{player} forfeits, {[x for x in players if x not in player][0]} wins!! Thanks for playing!\"\n",
    "                else:\n",
    "                    game_on = False\n",
    "\n",
    "                current_player = int(current_player)\n",
    "                moves.append(current_player)\n",
    "                if player == first:\n",
    "                    player1_choice.append(current_player)\n",
    "                else:\n",
    "                    player2_choice.append(current_player)\n",
    "\n",
    "                position = list(position_dict.keys())[current_player - 1]\n",
    "                disp, position_dict = display(game, position_dict, player, position)\n",
    "                print(\"\\n\" * 100)\n",
    "                print(disp)\n",
    "\n",
    "                if len(moves) > 4:\n",
    "                    if len(player1_choice) > 2:\n",
    "                        for i in win:\n",
    "                            if set(i).issubset(set(player1_choice)):\n",
    "                                return f\"{first} wins!!\"\n",
    "                    if len(player2_choice) > 2:\n",
    "                        for i in win:\n",
    "                            if set(i).issubset(set(player2_choice)):\n",
    "                                return f\"{second} wins!!\"\n",
    "                    if len(moves) == 9:\n",
    "                        return \"Draw!\"\n",
    "\n",
    "\n",
    "def display(\n",
    "    game,\n",
    "    position_dict,\n",
    "    player_flag=None,\n",
    "    position=None,\n",
    "):\n",
    "    if game == \"begin\":\n",
    "        a = position_dict[\"a\"]\n",
    "        b = position_dict[\"b\"]\n",
    "        c = position_dict[\"c\"]\n",
    "        d = position_dict[\"d\"]\n",
    "        e = position_dict[\"e\"]\n",
    "        f = position_dict[\"f\"]\n",
    "        g = position_dict[\"g\"]\n",
    "        h = position_dict[\"h\"]\n",
    "        i = position_dict[\"i\"]\n",
    "        return f\"{a}|{b}|{c}\\n-----\\n{d}|{e}|{f}\\n-----\\n{g}|{h}|{i}\\n\"\n",
    "\n",
    "    elif game == \"start\":\n",
    "        position_dict = dict.fromkeys(position_dict, \" \")\n",
    "        a = position_dict[\"a\"]\n",
    "        b = position_dict[\"b\"]\n",
    "        c = position_dict[\"c\"]\n",
    "        d = position_dict[\"d\"]\n",
    "        e = position_dict[\"e\"]\n",
    "        f = position_dict[\"f\"]\n",
    "        g = position_dict[\"g\"]\n",
    "        h = position_dict[\"h\"]\n",
    "        i = position_dict[\"i\"]\n",
    "        return f\"{a}|{b}|{c}\\n-----\\n{d}|{e}|{f}\\n-----\\n{g}|{h}|{i}\\n\", position_dict\n",
    "\n",
    "    elif game == \"playing\":\n",
    "        position_dict[position] = player_flag\n",
    "        a = position_dict[\"a\"]\n",
    "        b = position_dict[\"b\"]\n",
    "        c = position_dict[\"c\"]\n",
    "        d = position_dict[\"d\"]\n",
    "        e = position_dict[\"e\"]\n",
    "        f = position_dict[\"f\"]\n",
    "        g = position_dict[\"g\"]\n",
    "        h = position_dict[\"h\"]\n",
    "        i = position_dict[\"i\"]\n",
    "        return f\"{a}|{b}|{c}\\n-----\\n{d}|{e}|{f}\\n-----\\n{g}|{h}|{i}\\n\", position_dict\n",
    "\n",
    "\n",
    "def goes_first():\n",
    "    choice = \"start\"\n",
    "    choice2 = \"\"\n",
    "    while choice not in [\"X\", \"O\"]:\n",
    "        choice = input(\"Player 1, X or O?\").upper()\n",
    "        if choice not in [\"X\", \"O\"]:\n",
    "            print(\"\\nWrong choice.\\n\")\n",
    "            keep_playing = input(\"Keep playing Yes/No?\")\n",
    "            if keep_playing == \"Yes\":\n",
    "                continue\n",
    "            else:\n",
    "                return \"Thanks for playing!\"\n",
    "    if choice == \"X\":\n",
    "        choice2 = \"O\"\n",
    "    else:\n",
    "        choice2 = \"X\"\n",
    "\n",
    "    print(f\"Player 1 is {choice} and Player 2 is {choice2}.\\n\")\n",
    "\n",
    "    n = \"\"\n",
    "    m = \"\"\n",
    "    while n == m:\n",
    "        n = random.randint(1, 9)\n",
    "        m = random.randint(1, 9)\n",
    "    if n > m:\n",
    "        print(f\"{choice} is first.\\n\")\n",
    "        first = choice\n",
    "        second = choice2\n",
    "    else:\n",
    "        print(f\"{choice2} is first.\\n\")\n",
    "        first = choice2\n",
    "        second = choice\n",
    "    return first, second\n"
   ],
   "cell_type": "code",
   "metadata": {},
   "execution_count": 1,
   "outputs": []
  },
  {
   "cell_type": "code",
   "execution_count": 2,
   "metadata": {},
   "outputs": [
    {
     "output_type": "stream",
     "name": "stdout",
     "text": [
      "Welcome to the Tic Tac Toe!\n",
      "Your position options ranges from 1-9, as shown below.\n",
      "\n",
      "1|2|3\n",
      "-----\n",
      "4|5|6\n",
      "-----\n",
      "7|8|9\n",
      "\n",
      "\n",
      "\n",
      "\n",
      "\n",
      "\n",
      "\n",
      "\n",
      "\n",
      "\n",
      "\n",
      "\n",
      "\n",
      "\n",
      "\n",
      "\n",
      "\n",
      "\n",
      "\n",
      "\n",
      "\n",
      "\n",
      "\n",
      "\n",
      "\n",
      "\n",
      "\n",
      "\n",
      "\n",
      "\n",
      "\n",
      "\n",
      "\n",
      "\n",
      "\n",
      "\n",
      "\n",
      "\n",
      "\n",
      "\n",
      "\n",
      "\n",
      "\n",
      "\n",
      "\n",
      "\n",
      "\n",
      "\n",
      "\n",
      "\n",
      "\n",
      "\n",
      "\n",
      "\n",
      "\n",
      "\n",
      "\n",
      "\n",
      "\n",
      "\n",
      "\n",
      "\n",
      "\n",
      "\n",
      "\n",
      "\n",
      "\n",
      "\n",
      "\n",
      "\n",
      "\n",
      "\n",
      "\n",
      "\n",
      "\n",
      "\n",
      "\n",
      "\n",
      "\n",
      "\n",
      "\n",
      "\n",
      "\n",
      "\n",
      "\n",
      "\n",
      "\n",
      "\n",
      "\n",
      "\n",
      "\n",
      "\n",
      "\n",
      "\n",
      "\n",
      "\n",
      "\n",
      "\n",
      "\n",
      "\n",
      "\n",
      "\n",
      " | | \n",
      "-----\n",
      " | | \n",
      "-----\n",
      " | | \n",
      "\n",
      "Player 1 is X and Player 2 is O.\n",
      "\n",
      "X is first.\n",
      "\n",
      "\n",
      "\n",
      "\n",
      "\n",
      "\n",
      "\n",
      "\n",
      "\n",
      "\n",
      "\n",
      "\n",
      "\n",
      "\n",
      "\n",
      "\n",
      "\n",
      "\n",
      "\n",
      "\n",
      "\n",
      "\n",
      "\n",
      "\n",
      "\n",
      "\n",
      "\n",
      "\n",
      "\n",
      "\n",
      "\n",
      "\n",
      "\n",
      "\n",
      "\n",
      "\n",
      "\n",
      "\n",
      "\n",
      "\n",
      "\n",
      "\n",
      "\n",
      "\n",
      "\n",
      "\n",
      "\n",
      "\n",
      "\n",
      "\n",
      "\n",
      "\n",
      "\n",
      "\n",
      "\n",
      "\n",
      "\n",
      "\n",
      "\n",
      "\n",
      "\n",
      "\n",
      "\n",
      "\n",
      "\n",
      "\n",
      "\n",
      "\n",
      "\n",
      "\n",
      "\n",
      "\n",
      "\n",
      "\n",
      "\n",
      "\n",
      "\n",
      "\n",
      "\n",
      "\n",
      "\n",
      "\n",
      "\n",
      "\n",
      "\n",
      "\n",
      "\n",
      "\n",
      "\n",
      "\n",
      "\n",
      "\n",
      "\n",
      "\n",
      "\n",
      "\n",
      "\n",
      "\n",
      "\n",
      "\n",
      "\n",
      "\n",
      "X| | \n",
      "-----\n",
      " | | \n",
      "-----\n",
      " | | \n",
      "\n",
      "Wrong choice.\n",
      "\n"
     ]
    },
    {
     "output_type": "execute_result",
     "data": {
      "text/plain": [
       "'O forfeits, X wins!! Thanks for playing!'"
      ]
     },
     "metadata": {},
     "execution_count": 2
    }
   ],
   "source": [
    "tic_tac()"
   ]
  },
  {
   "cell_type": "code",
   "execution_count": 28,
   "metadata": {},
   "outputs": [],
   "source": [
    "class Dog():\n",
    "    family='Canidae'\n",
    "    def __init__(self,bread,name,spots):\n",
    "        self.bread=bread\n",
    "        self.name=name\n",
    "        self.spots=spots\n",
    "\n",
    "    def bark(self, number):\n",
    "        print(f'WOOF! My name is {self.name}, and the number is {number}.')"
   ]
  },
  {
   "cell_type": "code",
   "execution_count": 30,
   "metadata": {},
   "outputs": [
    {
     "output_type": "execute_result",
     "data": {
      "text/plain": [
       "__main__.Dog"
      ]
     },
     "metadata": {},
     "execution_count": 30
    }
   ],
   "source": [
    "my_dog=Dog('Bulldog','Sammy',False)\n",
    "type(my_dog)"
   ]
  },
  {
   "cell_type": "code",
   "execution_count": 31,
   "metadata": {},
   "outputs": [
    {
     "output_type": "stream",
     "name": "stdout",
     "text": [
      "False Canidae Sammy\nWOOF! My name is Sammy, and the number is 69.\n"
     ]
    }
   ],
   "source": [
    "print(my_dog.spots,\n",
    "my_dog.family,\n",
    "my_dog.name)\n",
    "my_dog.bark(69)"
   ]
  },
  {
   "cell_type": "code",
   "execution_count": 42,
   "metadata": {},
   "outputs": [],
   "source": [
    "class Circle():\n",
    "\n",
    "    pi=3.14\n",
    "\n",
    "    def __init__(self,radius=1):\n",
    "        self.radius=radius\n",
    "        self.area=radius**2*Circle.pi\n",
    "\n",
    "    def get_circumference(self):\n",
    "        return self.radius*Circle.pi*2"
   ]
  },
  {
   "cell_type": "code",
   "execution_count": 43,
   "metadata": {},
   "outputs": [],
   "source": [
    "my_circle=Circle(30)"
   ]
  },
  {
   "cell_type": "code",
   "execution_count": 44,
   "metadata": {},
   "outputs": [
    {
     "output_type": "execute_result",
     "data": {
      "text/plain": [
       "2826.0"
      ]
     },
     "metadata": {},
     "execution_count": 44
    }
   ],
   "source": [
    "my_circle.pi\n",
    "my_circle.get_circumference()\n",
    "my_circle.area"
   ]
  },
  {
   "cell_type": "code",
   "execution_count": 45,
   "metadata": {},
   "outputs": [],
   "source": [
    "class Animal():\n",
    "\n",
    "    def __init__(self):\n",
    "        print('ANIMAL CREATED')\n",
    "    def who_am_i(self):\n",
    "        print('I am an animal')\n",
    "    def eat(self):\n",
    "        print('I am eating')"
   ]
  },
  {
   "cell_type": "code",
   "execution_count": 49,
   "metadata": {},
   "outputs": [
    {
     "output_type": "stream",
     "name": "stdout",
     "text": [
      "ANIMAL CREATED\nI am eating\nI am an animal\n"
     ]
    }
   ],
   "source": [
    "myanimal=Animal()\n",
    "myanimal.eat()\n",
    "myanimal.who_am_i()"
   ]
  },
  {
   "cell_type": "code",
   "execution_count": 54,
   "metadata": {},
   "outputs": [],
   "source": [
    "class Dog(Animal):\n",
    "    def __init__(self):\n",
    "        Animal.__init__(self)\n",
    "        print('Dog Created')\n",
    "    def who_am_i(self):\n",
    "        print('I am a Dog!')"
   ]
  },
  {
   "cell_type": "code",
   "execution_count": 55,
   "metadata": {},
   "outputs": [
    {
     "output_type": "stream",
     "name": "stdout",
     "text": [
      "ANIMAL CREATED\nDog Created\nI am eating\nI am a Dog!\n"
     ]
    }
   ],
   "source": [
    "mydog=Dog()\n",
    "mydog.eat()\n",
    "mydog.who_am_i()"
   ]
  },
  {
   "cell_type": "code",
   "execution_count": 62,
   "metadata": {},
   "outputs": [],
   "source": [
    "class Dog():\n",
    "    def __init__(self, name):\n",
    "        self.name=name\n",
    "    def speak(self):\n",
    "        return self.name + ' says woof.'"
   ]
  },
  {
   "cell_type": "code",
   "execution_count": 63,
   "metadata": {},
   "outputs": [],
   "source": [
    "class Cat():\n",
    "    def __init__(self, name):\n",
    "        self.name=name\n",
    "    def speak(self):\n",
    "        return self.name + ' says meow.'"
   ]
  },
  {
   "cell_type": "code",
   "execution_count": 64,
   "metadata": {},
   "outputs": [
    {
     "output_type": "execute_result",
     "data": {
      "text/plain": [
       "'felix says meow.'"
      ]
     },
     "metadata": {},
     "execution_count": 64
    }
   ],
   "source": [
    "niko=Dog('Niko')\n",
    "niko.speak()\n",
    "felix=Cat('felix')\n",
    "felix.speak()"
   ]
  },
  {
   "cell_type": "code",
   "execution_count": 65,
   "metadata": {},
   "outputs": [
    {
     "output_type": "stream",
     "name": "stdout",
     "text": [
      "<class '__main__.Dog'>\nNiko says woof.\n<class '__main__.Cat'>\nfelix says meow.\n"
     ]
    }
   ],
   "source": [
    "for pet in [niko,felix]:\n",
    "    print(type(pet))\n",
    "    print(pet.speak())"
   ]
  },
  {
   "cell_type": "code",
   "execution_count": 66,
   "metadata": {},
   "outputs": [],
   "source": [
    "def pet_speaks(pet):\n",
    "    print(pet.speak())"
   ]
  },
  {
   "cell_type": "code",
   "execution_count": 68,
   "metadata": {},
   "outputs": [
    {
     "output_type": "stream",
     "name": "stdout",
     "text": [
      "Niko says woof.\nfelix says meow.\n"
     ]
    }
   ],
   "source": [
    "pet_speaks(niko)\n",
    "pet_speaks(felix)"
   ]
  },
  {
   "cell_type": "code",
   "execution_count": 69,
   "metadata": {},
   "outputs": [],
   "source": [
    "class Animal():\n",
    "    def __init__(self,name):\n",
    "        self.name=name\n",
    "    def speak(self):\n",
    "        raise NotImplementedError('Subclass must implement this abstract method.')"
   ]
  },
  {
   "cell_type": "code",
   "execution_count": 73,
   "metadata": {},
   "outputs": [],
   "source": [
    "class Dog(Animal):\n",
    "    def speak(self):\n",
    "        return self.name + ' says woof.'"
   ]
  },
  {
   "cell_type": "code",
   "execution_count": 74,
   "metadata": {},
   "outputs": [
    {
     "output_type": "execute_result",
     "data": {
      "text/plain": [
       "'Tom says woof.'"
      ]
     },
     "metadata": {},
     "execution_count": 74
    }
   ],
   "source": [
    "my_dog=Dog('Tom')\n",
    "my_dog.speak()"
   ]
  },
  {
   "cell_type": "code",
   "execution_count": 75,
   "metadata": {},
   "outputs": [],
   "source": [
    "class Cat(Animal):\n",
    "    def speak(self):\n",
    "        return self.name + ' says meow.'"
   ]
  },
  {
   "cell_type": "code",
   "execution_count": 76,
   "metadata": {},
   "outputs": [
    {
     "output_type": "execute_result",
     "data": {
      "text/plain": [
       "'Isis says meow.'"
      ]
     },
     "metadata": {},
     "execution_count": 76
    }
   ],
   "source": [
    "my_cat=Cat('Isis')\n",
    "my_cat.speak()"
   ]
  },
  {
   "cell_type": "code",
   "execution_count": 86,
   "metadata": {},
   "outputs": [],
   "source": [
    "class Book():\n",
    "    def __init__(self, title, author, pages):\n",
    "        self.title=title\n",
    "        self.auothor=author\n",
    "        self.pages=pages\n",
    "\n",
    "    def __str__(self):\n",
    "        return f'{self.title} by {self.auothor}'\n",
    "\n",
    "    def __len__(self):\n",
    "        return self.pages\n",
    "\n",
    "    def __del__(self):\n",
    "        print('A book object has been deleted.')"
   ]
  },
  {
   "cell_type": "code",
   "execution_count": 89,
   "metadata": {},
   "outputs": [
    {
     "output_type": "execute_result",
     "data": {
      "text/plain": [
       "200"
      ]
     },
     "metadata": {},
     "execution_count": 89
    }
   ],
   "source": [
    "b=Book('Learning', 'Tolu', 200)\n",
    "len(b)\n",
    "# del(b)"
   ]
  },
  {
   "cell_type": "code",
   "execution_count": 90,
   "metadata": {},
   "outputs": [
    {
     "output_type": "execute_result",
     "data": {
      "text/plain": [
       "<__main__.Book at 0x21d561bd508>"
      ]
     },
     "metadata": {},
     "execution_count": 90
    }
   ],
   "source": [
    "b"
   ]
  },
  {
   "cell_type": "code",
   "execution_count": 96,
   "metadata": {},
   "outputs": [],
   "source": [
    "class Line:\n",
    "    \n",
    "    def __init__(self,coor1,coor2):\n",
    "        self.x_1=coor1[0]\n",
    "        self.y_1=coor1[1]\n",
    "        self.x_2=coor2[0]\n",
    "        self.y_2=coor2[1]\n",
    "    \n",
    "    def distance(self):\n",
    "        dist=((self.x_2-self.x_1)**2 + (self.y_2-self.y_1)**2)**0.5\n",
    "        return dist\n",
    "    \n",
    "    def slope(self):\n",
    "        sl=(self.y_2-self.y_1)/(self.x_2-self.x_1)\n",
    "        return sl"
   ]
  },
  {
   "cell_type": "code",
   "execution_count": 97,
   "metadata": {},
   "outputs": [],
   "source": [
    "coordinate1 = (3,2)\n",
    "coordinate2 = (8,10)\n",
    "\n",
    "li = Line(coordinate1,coordinate2)"
   ]
  },
  {
   "cell_type": "code",
   "execution_count": 98,
   "metadata": {},
   "outputs": [
    {
     "output_type": "execute_result",
     "data": {
      "text/plain": [
       "9.433981132056603"
      ]
     },
     "metadata": {},
     "execution_count": 98
    }
   ],
   "source": [
    "li.distance()"
   ]
  },
  {
   "cell_type": "code",
   "execution_count": 99,
   "metadata": {},
   "outputs": [
    {
     "output_type": "execute_result",
     "data": {
      "text/plain": [
       "1.6"
      ]
     },
     "metadata": {},
     "execution_count": 99
    }
   ],
   "source": [
    "li.slope()"
   ]
  },
  {
   "cell_type": "code",
   "execution_count": 102,
   "metadata": {},
   "outputs": [],
   "source": [
    "class Cylinder:\n",
    "    pi=3.14\n",
    "    def __init__(self,height=1,radius=1):\n",
    "        self.radius=radius\n",
    "        self.height=height\n",
    "        \n",
    "    def volume(self):\n",
    "        vol=self.pi*self.radius**2*self.height\n",
    "        return vol\n",
    "\n",
    "    def surface_area(self):\n",
    "        surf=2*self.pi*self.radius*self.height + 2*self.pi*self.radius**2\n",
    "        return surf"
   ]
  },
  {
   "cell_type": "code",
   "execution_count": 104,
   "metadata": {},
   "outputs": [
    {
     "output_type": "execute_result",
     "data": {
      "text/plain": [
       "56.52"
      ]
     },
     "metadata": {},
     "execution_count": 104
    }
   ],
   "source": [
    "c = Cylinder(2,3)\n",
    "c.volume()\n"
   ]
  },
  {
   "cell_type": "code",
   "execution_count": 105,
   "metadata": {},
   "outputs": [
    {
     "output_type": "execute_result",
     "data": {
      "text/plain": [
       "94.2"
      ]
     },
     "metadata": {},
     "execution_count": 105
    }
   ],
   "source": [
    "c.surface_area()"
   ]
  },
  {
   "cell_type": "code",
   "execution_count": 153,
   "metadata": {},
   "outputs": [],
   "source": [
    "class Account:\n",
    "    def __init__(self,owner, balance):\n",
    "        self.owner=owner\n",
    "        self.balance=balance\n",
    "    def __str__(self):\n",
    "        return f'Account owner: {self.owner}\\nAccount balance: ${self.balance}'\n",
    "    def deposit(self, num):\n",
    "        self.balance=self.balance + num\n",
    "        return f'Your deposit of ${num} Accepted'\n",
    "    def withdraw(self, number):\n",
    "        if self.balance < number:\n",
    "            return 'Withdrawals may not exceed the available balance.'\n",
    "        else:\n",
    "            self.balance=self.balance - number\n",
    "            return 'Withdrawal Accepted'\n"
   ]
  },
  {
   "cell_type": "code",
   "execution_count": 154,
   "metadata": {},
   "outputs": [],
   "source": [
    "acct1 = Account('Jose',100)"
   ]
  },
  {
   "cell_type": "code",
   "execution_count": 149,
   "metadata": {},
   "outputs": [
    {
     "output_type": "stream",
     "name": "stdout",
     "text": [
      "Account owner: Jose\nAccount balance: $100\n"
     ]
    }
   ],
   "source": [
    "print(acct1)"
   ]
  },
  {
   "cell_type": "code",
   "execution_count": 150,
   "metadata": {},
   "outputs": [
    {
     "output_type": "execute_result",
     "data": {
      "text/plain": [
       "'Jose'"
      ]
     },
     "metadata": {},
     "execution_count": 150
    }
   ],
   "source": [
    "acct1.owner"
   ]
  },
  {
   "cell_type": "code",
   "execution_count": 151,
   "metadata": {},
   "outputs": [
    {
     "output_type": "execute_result",
     "data": {
      "text/plain": [
       "100"
      ]
     },
     "metadata": {},
     "execution_count": 151
    }
   ],
   "source": [
    "acct1.balance"
   ]
  },
  {
   "cell_type": "code",
   "execution_count": 155,
   "metadata": {},
   "outputs": [
    {
     "output_type": "execute_result",
     "data": {
      "text/plain": [
       "'Your deposit of $50 Accepted'"
      ]
     },
     "metadata": {},
     "execution_count": 155
    }
   ],
   "source": [
    "acct1.deposit(50)"
   ]
  },
  {
   "cell_type": "code",
   "execution_count": 156,
   "metadata": {},
   "outputs": [
    {
     "output_type": "execute_result",
     "data": {
      "text/plain": [
       "'Withdrawal Accepted'"
      ]
     },
     "metadata": {},
     "execution_count": 156
    }
   ],
   "source": [
    "acct1.withdraw(75)"
   ]
  },
  {
   "cell_type": "code",
   "execution_count": 163,
   "metadata": {},
   "outputs": [
    {
     "output_type": "execute_result",
     "data": {
      "text/plain": [
       "'Withdrawal Accepted'"
      ]
     },
     "metadata": {},
     "execution_count": 163
    }
   ],
   "source": [
    "acct1.withdraw(500)"
   ]
  },
  {
   "cell_type": "code",
   "execution_count": 158,
   "metadata": {},
   "outputs": [
    {
     "output_type": "stream",
     "name": "stdout",
     "text": [
      "Account owner: Jose\nAccount balance: $75\n"
     ]
    }
   ],
   "source": [
    "print(acct1)"
   ]
  },
  {
   "cell_type": "code",
   "execution_count": 161,
   "metadata": {},
   "outputs": [
    {
     "output_type": "execute_result",
     "data": {
      "text/plain": [
       "'Your deposit of $1000 Accepted'"
      ]
     },
     "metadata": {},
     "execution_count": 161
    }
   ],
   "source": [
    "acct1.deposit(1000)"
   ]
  },
  {
   "cell_type": "code",
   "execution_count": 164,
   "metadata": {},
   "outputs": [
    {
     "output_type": "stream",
     "name": "stdout",
     "text": [
      "Account owner: Jose\nAccount balance: $675\n"
     ]
    }
   ],
   "source": [
    "print(acct1)"
   ]
  },
  {
   "cell_type": "code",
   "execution_count": 169,
   "metadata": {},
   "outputs": [
    {
     "output_type": "stream",
     "name": "stdout",
     "text": [
      "List is not ints\n"
     ]
    }
   ],
   "source": [
    "try:\n",
    "    for i in ['a','b','c']:\n",
    "        print(i**2)\n",
    "except:\n",
    "    print('List is not ints')"
   ]
  },
  {
   "cell_type": "code",
   "execution_count": 172,
   "metadata": {},
   "outputs": [
    {
     "output_type": "stream",
     "name": "stdout",
     "text": [
      "You can not divide by zero.\nAll done!\n"
     ]
    }
   ],
   "source": [
    "try:\n",
    "    x = 5\n",
    "    y = 0\n",
    "\n",
    "    z = x/y\n",
    "except ZeroDivisionError:\n",
    "    print('You can not divide by zero.')\n",
    "finally:\n",
    "    print('All done!')"
   ]
  },
  {
   "cell_type": "code",
   "execution_count": 173,
   "metadata": {},
   "outputs": [],
   "source": [
    "def ask():\n",
    "    while True:\n",
    "        try:\n",
    "            num=int(input('Input an integer:'))\n",
    "            return f'Thank you, your number squared is: {num**2}'   \n",
    "        except:\n",
    "            print('An error occurred! Please try again!')\n",
    "            continue\n"
   ]
  },
  {
   "cell_type": "code",
   "execution_count": 174,
   "metadata": {},
   "outputs": [
    {
     "output_type": "stream",
     "name": "stdout",
     "text": [
      "An error occurred! Please try again!\n"
     ]
    },
    {
     "output_type": "execute_result",
     "data": {
      "text/plain": [
       "'Thank you, your number squared is: 16'"
      ]
     },
     "metadata": {},
     "execution_count": 174
    }
   ],
   "source": [
    "ask()"
   ]
  },
  {
   "cell_type": "code",
   "execution_count": 110,
   "metadata": {},
   "outputs": [],
   "source": [
    "import random\n",
    "suits=('Clubs', 'Diamonds', 'Hearts', 'Spades')\n",
    "ranks=('Two', 'Three', 'Four', 'Five','Six', 'Seven', 'Eight', 'Nine', 'Ten', 'Jack', 'Queen', 'King', 'Ace')\n",
    "values={'Two':2, 'Three':3, 'Four':4, 'Five':5, 'Six':6, 'Seven':7, 'Eight':8, 'Nine':9, 'Ten':10, 'Jack':11, 'Queen':12, 'King':13, 'Ace':14}\n",
    "class card:\n",
    "    def __init__(self, suit, rank):\n",
    "        self.suit=suit\n",
    "        self.rank=rank\n",
    "        self.value=values[rank]\n",
    "\n",
    "    def __str__(self):\n",
    "        return self.rank + \" of \" + self.suit\n"
   ]
  },
  {
   "cell_type": "code",
   "execution_count": 111,
   "metadata": {},
   "outputs": [],
   "source": [
    "class Deck:\n",
    "    def __init__(self):\n",
    "        self.all_cards=[]\n",
    "        for suit in suits:\n",
    "            for rank in ranks:\n",
    "                create_card=card(suit, rank)\n",
    "                self.all_cards.append(create_card)\n",
    "    def shuffle(self):\n",
    "        random.shuffle(self.all_cards)\n",
    "    def deal_one(self):\n",
    "        try:\n",
    "            return self.all_cards.pop()\n",
    "        except:\n",
    "            return 'No more cards left to deal.'"
   ]
  },
  {
   "cell_type": "code",
   "execution_count": 112,
   "metadata": {},
   "outputs": [],
   "source": [
    "class Player:\n",
    "    def __init__(self,name):\n",
    "        self.name=name\n",
    "        self.all_cards=[]\n",
    "\n",
    "    def remove_one(self):\n",
    "        return self.all_cards.pop(0)\n",
    "\n",
    "    def add_cards(self, new_cards):\n",
    "        if type(new_cards)==list:\n",
    "            self.all_cards.extend(new_cards)\n",
    "        else:\n",
    "            self.all_cards.append(new_cards)\n",
    "\n",
    "    def __str__(self): \n",
    "       return f'Player {self.name} has {len(self.all_cards)} cards.'  "
   ]
  },
  {
   "cell_type": "code",
   "execution_count": 123,
   "metadata": {},
   "outputs": [],
   "source": [
    "# Game setup \n",
    "player_one=Player('One')\n",
    "player_two=Player('Two')\n",
    "\n",
    "new_deck=Deck()\n",
    "new_deck.shuffle()\n",
    "\n",
    "for x in range(26):\n",
    "    player_one.add_cards(new_deck.deal_one())\n",
    "    player_two.add_cards(new_deck.deal_one())\n",
    "\n",
    "game_on=True"
   ]
  },
  {
   "cell_type": "code",
   "execution_count": 124,
   "metadata": {},
   "outputs": [
    {
     "output_type": "stream",
     "name": "stdout",
     "text": [
      "Round 1.\nRound 2.\nRound 3.\nRound 4.\nRound 5.\nRound 6.\nRound 7.\nRound 8.\nRound 9.\nRound 10.\nRound 11.\nRound 12.\nRound 13.\nRound 14.\nRound 15.\nRound 16.\nRound 17.\nRound 18.\nRound 19.\nRound 20.\nRound 21.\nRound 22.\nRound 23.\nRound 24.\nRound 25.\nRound 26.\nRound 27.\nRound 28.\nRound 29.\nRound 30.\nRound 31.\nRound 32.\nRound 33.\nRound 34.\nRound 35.\nWAR!\nRound 36.\nRound 37.\nRound 38.\nRound 39.\nRound 40.\nRound 41.\nRound 42.\nRound 43.\nRound 44.\nRound 45.\nRound 46.\nRound 47.\nRound 48.\nRound 49.\nWAR!\nRound 50.\nRound 51.\nRound 52.\nRound 53.\nRound 54.\nRound 55.\nRound 56.\nRound 57.\nRound 58.\nRound 59.\nRound 60.\nRound 61.\nRound 62.\nRound 63.\nRound 64.\nRound 65.\nRound 66.\nRound 67.\nRound 68.\nRound 69.\nRound 70.\nRound 71.\nRound 72.\nRound 73.\nRound 74.\nRound 75.\nRound 76.\nRound 77.\nRound 78.\nRound 79.\nRound 80.\nRound 81.\nRound 82.\nRound 83.\nRound 84.\nRound 85.\nRound 86.\nRound 87.\nRound 88.\nRound 89.\nRound 90.\nWAR!\nRound 91.\nRound 92.\nRound 93.\nRound 94.\nRound 95.\nRound 96.\nRound 97.\nWAR!\nRound 98.\nRound 99.\nRound 100.\nRound 101.\nRound 102.\nRound 103.\nRound 104.\nRound 105.\nRound 106.\nRound 107.\nRound 108.\nRound 109.\nRound 110.\nRound 111.\nRound 112.\nRound 113.\nRound 114.\nRound 115.\nRound 116.\nRound 117.\nRound 118.\nRound 119.\nRound 120.\nRound 121.\nRound 122.\nRound 123.\nRound 124.\nRound 125.\nRound 126.\nRound 127.\nRound 128.\nRound 129.\nRound 130.\nWAR!\nRound 131.\nRound 132.\nRound 133.\nWAR!\nRound 134.\nRound 135.\nRound 136.\nRound 137.\nRound 138.\nRound 139.\nRound 140.\nRound 141.\nRound 142.\nRound 143.\nRound 144.\nRound 145.\nRound 146.\nRound 147.\nRound 148.\nRound 149.\nRound 150.\nRound 151.\nWAR!\nRound 152.\nRound 153.\nRound 154.\nWAR!\nRound 155.\nRound 156.\nRound 157.\nRound 158.\nRound 159.\nRound 160.\nRound 161.\nRound 162.\nRound 163.\nRound 164.\nRound 165.\nRound 166.\nRound 167.\nRound 168.\nRound 169.\nWAR!\nRound 170.\nRound 171.\nRound 172.\nRound 173.\nRound 174.\nWAR!\nRound 175.\nRound 176.\nRound 177.\nRound 178.\nRound 179.\nRound 180.\nRound 181.\nRound 182.\nRound 183.\nWAR!\nRound 184.\nRound 185.\nRound 186.\nRound 187.\nWAR!\nRound 188.\nRound 189.\nRound 190.\nRound 191.\nRound 192.\nRound 193.\nRound 194.\nRound 195.\nWAR!\nRound 196.\nRound 197.\nRound 198.\nRound 199.\nRound 200.\nRound 201.\nRound 202.\nRound 203.\nRound 204.\nRound 205.\nRound 206.\nRound 207.\nRound 208.\nRound 209.\nRound 210.\nRound 211.\nRound 212.\nRound 213.\nRound 214.\nRound 215.\nRound 216.\nRound 217.\nRound 218.\nRound 219.\nRound 220.\nRound 221.\nRound 222.\nRound 223.\nRound 224.\nRound 225.\nRound 226.\nWAR!\nRound 227.\nRound 228.\nRound 229.\nRound 230.\nRound 231.\nRound 232.\nRound 233.\nRound 234.\nRound 235.\nRound 236.\nRound 237.\nRound 238.\nRound 239.\nRound 240.\nRound 241.\nRound 242.\nRound 243.\nRound 244.\nRound 245.\nRound 246.\nRound 247.\nRound 248.\nRound 249.\nRound 250.\nRound 251.\nRound 252.\nRound 253.\nRound 254.\nRound 255.\nRound 256.\nRound 257.\nRound 258.\nRound 259.\nRound 260.\nRound 261.\nRound 262.\nRound 263.\nRound 264.\nRound 265.\nRound 266.\nRound 267.\nWAR!\nRound 268.\nRound 269.\nRound 270.\nRound 271.\nRound 272.\nRound 273.\nWAR!\nRound 274.\nRound 275.\nRound 276.\nWAR!\nRound 277.\nRound 278.\nRound 279.\nRound 280.\nRound 281.\nRound 282.\nRound 283.\nRound 284.\nRound 285.\nRound 286.\nWAR!\nWAR!\nRound 287.\nRound 288.\nRound 289.\nRound 290.\nRound 291.\nRound 292.\nRound 293.\nWAR!\nRound 294.\nRound 295.\nRound 296.\nRound 297.\nRound 298.\nRound 299.\nRound 300.\nRound 301.\nRound 302.\nRound 303.\nWAR!\nRound 304.\nRound 305.\nRound 306.\nRound 307.\nRound 308.\nRound 309.\nRound 310.\nRound 311.\nRound 312.\nRound 313.\nRound 314.\nRound 315.\nRound 316.\nRound 317.\nRound 318.\nRound 319.\nRound 320.\nRound 321.\nRound 322.\nRound 323.\nRound 324.\nRound 325.\nRound 326.\nRound 327.\nRound 328.\nRound 329.\nRound 330.\nRound 331.\nRound 332.\nRound 333.\nRound 334.\nRound 335.\nRound 336.\nRound 337.\nRound 338.\nRound 339.\nRound 340.\nRound 341.\nRound 342.\nRound 343.\nRound 344.\nRound 345.\nRound 346.\nRound 347.\nRound 348.\nRound 349.\nRound 350.\nRound 351.\nRound 352.\nRound 353.\nRound 354.\nRound 355.\nRound 356.\nRound 357.\nRound 358.\nRound 359.\nRound 360.\nRound 361.\nRound 362.\nRound 363.\nRound 364.\nRound 365.\nRound 366.\nRound 367.\nRound 368.\nRound 369.\nRound 370.\nRound 371.\nRound 372.\nRound 373.\nWAR!\nRound 374.\nRound 375.\nRound 376.\nRound 377.\nRound 378.\nRound 379.\nWAR!\nRound 380.\nRound 381.\nRound 382.\nRound 383.\nWAR!\nRound 384.\nRound 385.\nRound 386.\nRound 387.\nRound 388.\nRound 389.\nRound 390.\nRound 391.\nRound 392.\nRound 393.\nRound 394.\nRound 395.\nRound 396.\nRound 397.\nRound 398.\nRound 399.\nRound 400.\nRound 401.\nRound 402.\nRound 403.\nRound 404.\nRound 405.\nRound 406.\nRound 407.\nRound 408.\nRound 409.\nRound 410.\nRound 411.\nRound 412.\nRound 413.\nRound 414.\nRound 415.\nRound 416.\nRound 417.\nRound 418.\nRound 419.\nRound 420.\nRound 421.\nRound 422.\nRound 423.\nRound 424.\nRound 425.\nRound 426.\nRound 427.\nRound 428.\nRound 429.\nRound 430.\nRound 431.\nRound 432.\nRound 433.\nRound 434.\nRound 435.\nRound 436.\nRound 437.\nRound 438.\nRound 439.\nRound 440.\nRound 441.\nRound 442.\nRound 443.\nRound 444.\nRound 445.\nRound 446.\nRound 447.\nRound 448.\nRound 449.\nRound 450.\nRound 451.\nRound 452.\nRound 453.\nRound 454.\nRound 455.\nRound 456.\nRound 457.\nRound 458.\nRound 459.\nRound 460.\nRound 461.\nRound 462.\nRound 463.\nRound 464.\nRound 465.\nRound 466.\nRound 467.\nRound 468.\nRound 469.\nRound 470.\nRound 471.\nRound 472.\nRound 473.\nRound 474.\nRound 475.\nRound 476.\nRound 477.\nRound 478.\nRound 479.\nRound 480.\nRound 481.\nRound 482.\nRound 483.\nRound 484.\nRound 485.\nRound 486.\nRound 487.\nRound 488.\nRound 489.\nRound 490.\nRound 491.\nRound 492.\nRound 493.\nRound 494.\nRound 495.\nRound 496.\nRound 497.\nRound 498.\nRound 499.\nRound 500.\nRound 501.\nRound 502.\nRound 503.\nRound 504.\nRound 505.\nRound 506.\nRound 507.\nRound 508.\nRound 509.\nRound 510.\nRound 511.\nRound 512.\nRound 513.\nRound 514.\nRound 515.\nRound 516.\nRound 517.\nRound 518.\nRound 519.\nRound 520.\nRound 521.\nRound 522.\nRound 523.\nRound 524.\nRound 525.\nRound 526.\nRound 527.\nRound 528.\nRound 529.\nRound 530.\nRound 531.\nRound 532.\nRound 533.\nRound 534.\nRound 535.\nRound 536.\nRound 537.\nRound 538.\nRound 539.\nRound 540.\nRound 541.\nRound 542.\nRound 543.\nRound 544.\nRound 545.\nRound 546.\nRound 547.\nRound 548.\nRound 549.\nRound 550.\nRound 551.\nRound 552.\nRound 553.\nRound 554.\nRound 555.\nRound 556.\nRound 557.\nRound 558.\nRound 559.\nRound 560.\nRound 561.\nRound 562.\nRound 563.\nRound 564.\nRound 565.\nRound 566.\nRound 567.\nRound 568.\nRound 569.\nRound 570.\nRound 571.\nRound 572.\nRound 573.\nRound 574.\nRound 575.\nRound 576.\nRound 577.\nRound 578.\nRound 579.\nRound 580.\nRound 581.\nRound 582.\nRound 583.\nRound 584.\nRound 585.\nRound 586.\nRound 587.\nRound 588.\nRound 589.\nRound 590.\nRound 591.\nRound 592.\nRound 593.\nRound 594.\nRound 595.\nRound 596.\nRound 597.\nRound 598.\nRound 599.\nRound 600.\nRound 601.\nRound 602.\nRound 603.\nRound 604.\nRound 605.\nRound 606.\nRound 607.\nRound 608.\nRound 609.\nRound 610.\nRound 611.\nRound 612.\nWAR!\nPlayer One unable to play war\nPlayer Two wins!\n"
     ]
    }
   ],
   "source": [
    "round_num=0\n",
    "while game_on:\n",
    "    round_num+=1\n",
    "    print(f'Round {round_num}.')\n",
    "    if len(player_one.all_cards)==0:\n",
    "        print('Player One is out of cards, Player Two wins!')\n",
    "        game_on=False\n",
    "        break\n",
    "    if len(player_two.all_cards)==0:\n",
    "        print('Player Two is out of cards, Player One wins!')\n",
    "        game_on=False\n",
    "        break\n",
    "\n",
    "    player_one_cards=[]\n",
    "    player_one_cards.append(player_one.remove_one())\n",
    "    player_two_cards=[]\n",
    "    player_two_cards.append(player_two.remove_one())\n",
    "    \n",
    "    at_war=True\n",
    "\n",
    "    while at_war:\n",
    "        if player_one_cards[-1].value>player_two_cards[-1].value:\n",
    "            player_one.add_cards(player_one_cards)\n",
    "            player_one.add_cards(player_two_cards)\n",
    "            at_war=False\n",
    "\n",
    "        elif player_one_cards[-1].value<player_two_cards[-1].value:\n",
    "            player_two.add_cards(player_one_cards)\n",
    "            player_two.add_cards(player_two_cards)\n",
    "            at_war=False\n",
    "\n",
    "        else:\n",
    "            print('WAR!')\n",
    "            if len(player_one.all_cards) <5:\n",
    "                print('Player One unable to play war')\n",
    "                print('Player Two wins!')\n",
    "                game_on=False\n",
    "                break\n",
    "\n",
    "            elif len(player_two.all_cards) <5:\n",
    "                print('Player Two unable to play war')\n",
    "                print('Player One wins!')\n",
    "                game_on=False\n",
    "                break\n",
    "\n",
    "            else:\n",
    "                for num in range(5):\n",
    "                    player_one_cards.append(player_one.remove_one())\n",
    "                    player_two_cards.append(player_two.remove_one())"
   ]
  },
  {
   "cell_type": "code",
   "execution_count": 5,
   "metadata": {},
   "outputs": [],
   "source": [
    "import random\n",
    "\n",
    "suits = (\"Clubs\", \"Diamonds\", \"Hearts\", \"Spades\")\n",
    "ranks = (\n",
    "    \"Two\",\n",
    "    \"Three\",\n",
    "    \"Four\",\n",
    "    \"Five\",\n",
    "    \"Six\",\n",
    "    \"Seven\",\n",
    "    \"Eight\",\n",
    "    \"Nine\",\n",
    "    \"Ten\",\n",
    "    \"Jack\",\n",
    "    \"Queen\",\n",
    "    \"King\",\n",
    "    \"Ace\",\n",
    ")\n",
    "bj_values = {\n",
    "    \"Two\": 2,\n",
    "    \"Three\": 3,\n",
    "    \"Four\": 4,\n",
    "    \"Five\": 5,\n",
    "    \"Six\": 6,\n",
    "    \"Seven\": 7,\n",
    "    \"Eight\": 8,\n",
    "    \"Nine\": 9,\n",
    "    \"Ten\": 10,\n",
    "    \"Jack\": 10,\n",
    "    \"Queen\": 10,\n",
    "    \"King\": 10,\n",
    "    \"Ace\": 11,\n",
    "}\n",
    "\n",
    "class BJ_Card:\n",
    "    def __init__(self, suit, rank):\n",
    "        self.suit = suit\n",
    "        self.rank = rank\n",
    "        self.value = bj_values[rank]\n",
    "\n",
    "    def __str__(self):\n",
    "        return self.rank + \" of \" + self.suit\n",
    "\n",
    "\n",
    "class BJ_Deck:\n",
    "    def __init__(self):\n",
    "        self.all_cards = []\n",
    "        for suit in suits:\n",
    "            for rank in ranks:\n",
    "                create_card = BJ_Card(suit, rank)\n",
    "                self.all_cards.append(create_card)\n",
    "\n",
    "    def shuffle(self):\n",
    "        random.shuffle(self.all_cards)\n",
    "\n",
    "    def deal_one(self):\n",
    "        try:\n",
    "            return self.all_cards.pop()\n",
    "        except:\n",
    "            return \"No more cards left to deal.\"\n",
    "\n",
    "\n",
    "class BJ_Player:\n",
    "    def __init__(self, name):\n",
    "        self.name = name\n",
    "        self.all_cards = []\n",
    "\n",
    "    def add_cards(self, new_cards):\n",
    "        if type(new_cards) == list:\n",
    "            self.all_cards.extend(new_cards)\n",
    "        else:\n",
    "            self.all_cards.append(new_cards)\n",
    "\n",
    "    def sum_value(self):\n",
    "        total_value = 0\n",
    "        for card in self.all_cards:\n",
    "            total_value += card.value\n",
    "        return total_value\n",
    "\n",
    "    def clear_hand(self):\n",
    "        self.all_cards.clear()\n",
    "\n",
    "    def __str__(self):\n",
    "        return f\"Player {self.name} has {len(self.all_cards)} cards.\"\n",
    "\n",
    "\n",
    "class BJ_Account:\n",
    "    def __init__(self, name, balance):\n",
    "        self.balance = balance\n",
    "        self.name = name\n",
    "\n",
    "    def __str__(self):\n",
    "        return f\"Account owner: {self.name}\\nAccount balance: ${self.balance}\"\n",
    "\n",
    "    def deposit(self, num):\n",
    "        try:\n",
    "            self.balance = self.balance + num\n",
    "            return f\"You won ${num}, and your new balance is {self.balance}.\"\n",
    "        except:\n",
    "            return \"Please enter a valid integer amount.\"\n",
    "\n",
    "    def withdraw(self, number):\n",
    "        try:\n",
    "            if self.balance < number:\n",
    "                return \"Withdrawals may not exceed the available balance.\"\n",
    "            else:\n",
    "                self.balance = self.balance - number\n",
    "                return f\"{self.name}, you bet {number}.\"\n",
    "        except:\n",
    "            return \"Please enter a valid integer amount.\"\n"
   ]
  },
  {
   "cell_type": "code",
   "execution_count": 6,
   "metadata": {},
   "outputs": [],
   "source": [
    "def bet():\n",
    "    bet_amount = \"\"\n",
    "    while type(bet_amount)!=int or bet_amount > player_one_bal.balance:\n",
    "        try:\n",
    "            bet_amount = int(input(f\"{player_one.name}, enter your betting amount.\"))\n",
    "        except:\n",
    "            print(\"Please enter a proper integer.\")\n",
    "            continue\n",
    "        if bet_amount > player_one_bal.balance:\n",
    "            print(\"Bet amount can not exceed your current balance. Try again.\")\n",
    "            continue\n",
    "    return bet_amount\n",
    "\n",
    "\n",
    "def deal():\n",
    "    deal = \"\"\n",
    "    while deal not in [\"Yes\", \"No\"]:\n",
    "        deal = input(f\"{player_one.name} would you like to hit? (Yes or No)\").capitalize() \n",
    "        if deal not in [\"Yes\", \"No\"]:\n",
    "            print(\"Wrong answer, try again.\")\n",
    "    return deal\n",
    "\n",
    "\n",
    "def keep_playing():\n",
    "    keep_playing = \"\"\n",
    "    while keep_playing not in [\"Yes\", \"No\"]:\n",
    "        keep_playing = input(f\"{player_one.name}, do you want to keep playing Yes/No?\").capitalize() \n",
    "        if keep_playing not in [\"Yes\", \"No\"]:\n",
    "            print(\"Wrong answer, try again.\")\n",
    "    return keep_playing\n",
    "\n",
    "def ace_value():\n",
    "    ace_value=''\n",
    "    while type(ace_value) != int or ace_value not in [1,11]:\n",
    "        try:\n",
    "            ace_value = int(input(f\"{player_one.name}, enter the value this Ace should be.\"))\n",
    "        except:\n",
    "            print(\"Please enter a proper integer; either 1 or 11.\")\n",
    "            continue\n",
    "    return ace_value"
   ]
  },
  {
   "cell_type": "code",
   "execution_count": 7,
   "metadata": {},
   "outputs": [],
   "source": [
    "name = input(\"Enter Player's name. \").capitalize()\n",
    "player_one = BJ_Player(name)\n",
    "player_one_bal = BJ_Account(name, 1000)\n",
    "player_two = BJ_Player(\"House\")\n",
    "\n",
    "new_deck = BJ_Deck()\n",
    "new_deck.shuffle()\n",
    "\n",
    "game_on = True"
   ]
  },
  {
   "cell_type": "code",
   "execution_count": 8,
   "metadata": {},
   "outputs": [
    {
     "output_type": "stream",
     "name": "stdout",
     "text": [
      "Round 1.\n",
      "Account owner: Tolu\n",
      "Account balance: $1000\n",
      "Tolu is betting $500.\n",
      "House deals Five of Diamonds\n",
      "Tolu's sum amount is 5.\n",
      "House deals Three of Hearts\n",
      "Tolu's sum amount is 8.\n",
      "House deals Ten of Spades\n",
      "Tolu's sum amount is 18.\n",
      "House deals Eight of Clubs\n",
      "House deals Two of Clubs\n",
      "House's sum amount is 10.\n",
      "House deals Six of Hearts\n",
      "House's sum amount is 16.\n",
      "Tolu you won!\n",
      "Account owner: Tolu\n",
      "Account balance: $1500\n",
      "Game over.\n",
      "Account owner: Tolu\n",
      "Account balance: $1500\n"
     ]
    }
   ],
   "source": [
    "round_num = 0\n",
    "while game_on and len(new_deck.all_cards) != 0:\n",
    "    round_num += 1\n",
    "    adj_ace=0\n",
    "    print(f\"Round {round_num}.\")\n",
    "    print(player_one_bal)\n",
    "    player_bet = bet()\n",
    "    print(f\"{player_one.name} is betting ${player_bet}.\")\n",
    "    player_one_bal.withdraw(player_bet)\n",
    "    player_one.add_cards(new_deck.deal_one())\n",
    "    print(f\"House deals {player_one.all_cards[-1]}\")\n",
    "    if player_one.all_cards[-1].rank == \"Ace\" and ace_value() == 1:\n",
    "        adj_ace = 10\n",
    "    print(f\"{player_one.name}'s sum amount is {player_one.sum_value()-adj_ace}.\")\n",
    "    \n",
    "    while (player_one.sum_value() - adj_ace) < 22 and len(new_deck.all_cards) != 0:\n",
    "        pl2 = \"No\"\n",
    "        if deal() == \"Yes\":\n",
    "            player_one.add_cards(new_deck.deal_one())\n",
    "            print(f\"House deals {player_one.all_cards[-1]}\")\n",
    "            if player_one.all_cards[-1].rank == \"Ace\" and ace_value() == 1:\n",
    "                adj_ace = 10\n",
    "            print(\n",
    "                f\"{player_one.name}'s sum amount is {player_one.sum_value()-adj_ace}.\"\n",
    "            )\n",
    "            if (player_one.sum_value() - adj_ace) > 21:\n",
    "                print(f\"{player_one.name} you lost!\")\n",
    "                print(player_one_bal)\n",
    "                if player_one_bal.balance > 0 and keep_playing() == \"Yes\":\n",
    "                    player_one.clear_hand()\n",
    "                    break\n",
    "                else:\n",
    "                    print(\"Game over.\")\n",
    "                    player_one.clear_hand()\n",
    "                    print(player_one_bal)\n",
    "                    game_on = False\n",
    "                    break\n",
    "            elif (player_one.sum_value() - adj_ace) == 21:\n",
    "                print(f\"{player_one.name} you won!\")\n",
    "                player_one_bal.deposit(player_bet*2)\n",
    "                print(player_one_bal)\n",
    "                if keep_playing() == \"Yes\":\n",
    "                    player_one.clear_hand()\n",
    "                    break\n",
    "                else:\n",
    "                    print(\"Game over.\")\n",
    "                    player_one.clear_hand()\n",
    "                    print(player_one_bal)\n",
    "                    game_on = False\n",
    "                    break\n",
    "        else:\n",
    "            pl2 = \"Yes\"\n",
    "            break\n",
    "    if pl2 == \"Yes\":\n",
    "        player_two.add_cards(new_deck.deal_one())\n",
    "        print(f\"House deals {player_two.all_cards[-1]}\")\n",
    "        while player_two.sum_value() < 22 and len(new_deck.all_cards) != 0:\n",
    "            player_two.add_cards(new_deck.deal_one())\n",
    "            print(f\"House deals {player_two.all_cards[-1]}\")\n",
    "            print(f\"{player_two.name}'s sum amount is {player_two.sum_value()}.\")\n",
    "            if player_two.sum_value() > 21:\n",
    "                print(f\"{player_one.name} you won!\")\n",
    "                player_one_bal.deposit(player_bet*2)\n",
    "                print(player_one_bal)\n",
    "                if keep_playing() == \"Yes\":\n",
    "                    player_two.clear_hand()\n",
    "                    player_one.clear_hand()\n",
    "                    break\n",
    "                else:\n",
    "                    print(\"Game over.\")\n",
    "                    player_two.clear_hand()\n",
    "                    player_one.clear_hand()\n",
    "                    print(player_one_bal)\n",
    "                    game_on = False\n",
    "                    break\n",
    "            elif player_two.sum_value() == 21:\n",
    "                print(f\"{player_two.name} wins!\")\n",
    "                print(player_one_bal)\n",
    "                if keep_playing() == \"Yes\":\n",
    "                    player_two.clear_hand()\n",
    "                    player_one.clear_hand()\n",
    "                    break\n",
    "                else:\n",
    "                    print(\"Game over.\")\n",
    "                    player_two.clear_hand()\n",
    "                    player_one.clear_hand()\n",
    "                    print(player_one_bal)\n",
    "                    game_on = False\n",
    "                    break\n",
    "            elif len(player_two.all_cards) == 3:\n",
    "                if player_two.sum_value() > (player_one.sum_value() - adj_ace):\n",
    "                    print(f\"{player_two.name} wins!\")\n",
    "                    print(player_one_bal)\n",
    "                    if keep_playing() == \"Yes\":\n",
    "                        player_two.clear_hand()\n",
    "                        player_one.clear_hand()\n",
    "                        break\n",
    "                    else:\n",
    "                        print(\"Game over.\")\n",
    "                        player_two.clear_hand()\n",
    "                        player_one.clear_hand()\n",
    "                        print(player_one_bal)\n",
    "                        game_on = False\n",
    "                        break\n",
    "                else:\n",
    "                    print(f\"{player_one.name} you won!\")\n",
    "                    player_one_bal.deposit(player_bet*2)\n",
    "                    print(player_one_bal)\n",
    "                    if keep_playing() == \"Yes\":\n",
    "                        player_two.clear_hand()\n",
    "                        player_one.clear_hand()\n",
    "                        break\n",
    "                    else:\n",
    "                        print(\"Game over.\")\n",
    "                        player_two.clear_hand()\n",
    "                        player_one.clear_hand()\n",
    "                        print(player_one_bal)\n",
    "                        game_on = False\n",
    "                        break"
   ]
  },
  {
   "cell_type": "code",
   "execution_count": 235,
   "metadata": {},
   "outputs": [
    {
     "output_type": "execute_result",
     "data": {
      "text/plain": [
       "True"
      ]
     },
     "metadata": {},
     "execution_count": 235
    }
   ],
   "source": [
    "d=12\n",
    "type(d)==int"
   ]
  },
  {
   "cell_type": "code",
   "execution_count": null,
   "metadata": {},
   "outputs": [],
   "source": []
  }
 ]
}
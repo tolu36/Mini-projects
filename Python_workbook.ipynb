{
 "cells": [
  {
   "cell_type": "code",
   "execution_count": 8,
   "source": [
    "def isopen(weekday, hour):\n",
    "\n",
    "    days = ['monday', 'tuesday', 'wednesday', 'thursday', 'friday']\n",
    "\n",
    "    workhours = range(9,18)\n",
    "\n",
    "    if weekday.lower() in days and hour in workhours:\n",
    "        return True\n",
    "\n",
    "    else:\n",
    "\n",
    "        return False"
   ],
   "outputs": [],
   "metadata": {}
  },
  {
   "cell_type": "code",
   "execution_count": 12,
   "source": [
    "isopen('sunday', 12)"
   ],
   "outputs": [
    {
     "output_type": "execute_result",
     "data": {
      "text/plain": [
       "False"
      ]
     },
     "metadata": {},
     "execution_count": 12
    }
   ],
   "metadata": {}
  },
  {
   "cell_type": "code",
   "execution_count": null,
   "source": [
    "# What EOE means?\n",
    "# This is a term often used by actuaries to indicate an adjustment needed to historical premiums to put them at \"current rate level\". This is needed when there was a rate change during the experience period. When actuaries do indication (analysis of premium vs losses), they want to have earned exposure to be at the latest version of premium calculation. In the Werner & Modlin link above, you have more details about EOE on page 73. Basically, there are 2 methods to put premium at current rate level. The parallelogram method which is an approximation and the extension of exposures (EOE) which recalculate premium for every risk at current level (most accurate approach).\n",
    "\n",
    "# What's the difference between actuaries and underwriters?\n",
    "# Underwriting is one of the core functions of an insurance company. Underwriting is ultimately responsible for choosing the types of risks we want to assume, i.e. what kind of business we want to write. What we want to write depends on a variety of factors:\n",
    "\n",
    "# ·       Risk appetite: i.e. how much risk are we comfortable taking on. The old team I worked on, economic capital, looked at the different risks our company faced and modeled them (it's a value at risk (VaR) methodology). Using these risk models you can see what size losses you would expect in a particular time horizon. This is how companies set their capital requirements. The more volatility you see from certain risks, the more capital you have to hold for it.\n",
    "\n",
    "# ·       Reinsurance coverage available: this is done by the reinsurance team. The more coverage that is available the more risky business you can take on. Actuaries help determine what kind of reinsurance coverage is necessary.\n",
    "\n",
    "# ·       Loss experience: analyzed by pricing actuaries. Can see if for the losses we're seeing in certain types of business it even makes sense to write that kind of business, i.e. can we even make a profit there.\n",
    "\n",
    "# JK-20180608: I only went into actuarial stuff above but there is a lot of input from other teams, e.g. claims, legal, marketing, etc.\n",
    "\n",
    "# Actuaries work in a variety of these functions which provide information that guide the underwriting policy. One of the outcomes of this is the Underwriting (UW) Guidelines. Here's an example of an UW guideline (for New Brunswick auto business):\n",
    "# L:\\nudata-NU\\Analytics\\Projects\\Pricing_UW\\RSP\\201711 Atlantic\\Files from ATL Pricing\\Manuals\\Aviva NB Auto Manual - Complete Version - 20171012.pdf\n",
    "\n",
    "# The UW guidelines are the result of all this collaboration and drive a lot of decisions, i.e. this is an insurance company's secret sauce.\n",
    "\n",
    "# So underwriters work more on the frontlines with brokers/agents/etc using the information that is provided to them by actuaries, etc. \n",
    "\n",
    " \n",
    "\n",
    "# Miscellaneous topics\n",
    "\n",
    "# ·       Alberta Grid Rating: https://airb-applications.alberta.ca/Grid\n",
    "\n",
    "# ·       Insurance Bureau of Canada: http://www.ibc.ca/\n",
    "\n",
    "# ·       Industry-wide organization that collects data, conducts research, etc.\n",
    "\n",
    "# ·       Risk Sharing Pool (RSP) and Residual Market (FARM)\n",
    "\n",
    "# ·       Summary: \n",
    "\n",
    "# ·       https://www.casact.org/sites/default/files/2021-03/6C_Dutil.pdf\n",
    "\n",
    "# ·       Detailed guidelines:\n",
    "\n",
    "# ·       http://www.facilityassociation.com/Manual_menu.asp\n",
    "\n",
    "# ·       Facility Association Plan of Operation\n",
    "\n",
    " \n",
    "\n",
    " \n",
    "\n",
    "# Jocelyn LeBlanc-Courchaine FCAS, FICA\n",
    "\n",
    "# Spécialiste actuariel | Science des données\n",
    "\n",
    "# Tél. : 514-399-1412\n",
    "\n",
    " \n",
    "\n",
    "# jocelyn.leblanc-courchaine@aviva.com\n",
    "\n",
    "# www.avivacanada.com\n",
    "\n",
    " \n",
    "\n",
    "\n",
    "\n",
    " \n",
    "\n",
    " \n",
    "\n",
    "# Aviva: Public\n",
    "\n",
    "\n",
    "# This message may contain confidential information and is intended only for the named recipient. Please do not forward this message to any other party or distribute it in any manner without prior approval of the sender. If you have received this message in error, telephone or email the sender immediately and delete this message and any attachment from your system.\n",
    "# For environmental concerns, please print this email only if necessary.\n",
    "\n",
    "\n",
    "# Ce message est à l'usage exclusif de son destinataire et peut contenir des renseignements confidentiels. Ne le transmettez à personne, de quelque façon que ce soit, sans l'autorisation de son expéditeur. Si vous avez reçu ce message par erreur, communiquez immédiatement avec l’expéditeur et supprimez le message ainsi que toutes pièces jointes de votre ordinateur.\n",
    "# À des fins de protection de l’environnement, veuillez imprimer le présent message seulement s’il est nécessaire de le faire.\n",
    "# ...\n",
    "\n",
    "# [Message clipped]  View entire message\n"
   ],
   "outputs": [],
   "metadata": {}
  },
  {
   "cell_type": "code",
   "execution_count": 51,
   "source": [
    "def user_choice():\n",
    "    choice= \"Wrong\"\n",
    "    while choice.isdigit() == False  or int(choice) not in range(0,11):\n",
    "        choice = input('Please enter a number between 0-10: ')\n",
    "        if choice.isdigit() ==False:\n",
    "            print(f\"{choice} is not a digit.\")\n",
    "        elif int(choice) not in range(0,11):\n",
    "            print('This value is outside the range of 0-10')\n",
    "    return int(choice)\n",
    "    \n"
   ],
   "outputs": [],
   "metadata": {}
  },
  {
   "cell_type": "code",
   "execution_count": 52,
   "source": [
    "user_choice()"
   ],
   "outputs": [
    {
     "output_type": "stream",
     "name": "stdout",
     "text": [
      "best day ever is not a digit.\n",
      "yo you  is not a digit.\n",
      "This value is outside the range of 0-10\n"
     ]
    },
    {
     "output_type": "execute_result",
     "data": {
      "text/plain": [
       "10"
      ]
     },
     "metadata": {},
     "execution_count": 52
    }
   ],
   "metadata": {}
  },
  {
   "cell_type": "code",
   "execution_count": 103,
   "source": [
    "def game():\n",
    "    game_list=[1,2,3]\n",
    "    i = 'start'\n",
    "    while i.isdigit() == False or i not in range(1,len(game_list)+1):\n",
    "        print(\"Here's the current list:\\n\", game_list)\n",
    "        i = input('Please enter position of the value you wish to change.')\n",
    "        if i.isdigit() ==False:\n",
    "            print(f\"{i} is not a digit.\")\n",
    "            keep_playing = input ('Keep playing Yes/No?')\n",
    "            if keep_playing=='Yes':\n",
    "                continue\n",
    "            else:\n",
    "                return 'Thanks for playing!'\n",
    "        elif int(i) not in range(1,len(game_list)+1):\n",
    "            print('This value is out of range.')\n",
    "            keep_playing = input ('Keep playing Yes/No?')\n",
    "            if keep_playing=='Yes':\n",
    "                continue\n",
    "            else:\n",
    "                return 'Thanks for playing!'\n",
    "        else:\n",
    "            new_value=input('Enter the new value. ')\n",
    "            game_list[int(i)-1]= new_value\n",
    "            print(game_list)\n",
    "            i='end'\n",
    "            keep_playing = input ('Keep playing Yes/No?')\n",
    "            if keep_playing=='Yes':\n",
    "                continue\n",
    "            else:\n",
    "                return 'Thanks for playing!'"
   ],
   "outputs": [],
   "metadata": {}
  },
  {
   "cell_type": "code",
   "execution_count": 106,
   "source": [
    "game()\n"
   ],
   "outputs": [
    {
     "output_type": "stream",
     "name": "stdout",
     "text": [
      "Here's the current list:\n",
      " [1, 2, 3]\n",
      "[1, 'Friend', 3]\n",
      "Here's the current list:\n",
      " [1, 'Friend', 3]\n",
      "[1, 'Friend', 'Bob']\n"
     ]
    },
    {
     "output_type": "execute_result",
     "data": {
      "text/plain": [
       "'Thanks for playing!'"
      ]
     },
     "metadata": {},
     "execution_count": 106
    }
   ],
   "metadata": {}
  },
  {
   "cell_type": "code",
   "execution_count": 1,
   "source": [
    "import random\n",
    "\n",
    "def tic_tac():\n",
    "    \"\"\"\n",
    "    This a tic-tac-toe game that randomly deteremines who goes first.\n",
    "    The function will notify who the winner is and when there is a draw.\n",
    "    \"\"\"\n",
    "    game = \"begin\"\n",
    "    position_dict = {\n",
    "        \"a\": 1,\n",
    "        \"b\": 2,\n",
    "        \"c\": 3,\n",
    "        \"d\": 4,\n",
    "        \"e\": 5,\n",
    "        \"f\": 6,\n",
    "        \"g\": 7,\n",
    "        \"h\": 8,\n",
    "        \"i\": 9,\n",
    "    }\n",
    "    win = [\n",
    "        [1, 2, 3],\n",
    "        [4, 5, 6],\n",
    "        [7, 8, 9],\n",
    "        [1, 4, 7],\n",
    "        [2, 5, 8],\n",
    "        [3, 6, 9],\n",
    "        [1, 5, 9],\n",
    "        [3, 5, 7],\n",
    "    ]\n",
    "    moves = []\n",
    "    player1_choice = []\n",
    "    player2_choice = []\n",
    "    position_list = [1, 2, 3, 4, 5, 6, 7, 8, 9]\n",
    "\n",
    "    print(\n",
    "        \"Welcome to the Tic Tac Toe!\\nYour position options ranges from 1-9, as shown below.\\n\"\n",
    "    )\n",
    "    disp = display(game, position_dict)\n",
    "    print(disp)\n",
    "\n",
    "    game = \"start\"\n",
    "    disp, position_dict = display(game, position_dict)\n",
    "    print(\"\\n\" * 100)\n",
    "    print(disp)\n",
    "    order = goes_first()\n",
    "    if len(order) < 3:\n",
    "        first, second = order\n",
    "    else:\n",
    "        return order\n",
    "    players = [first, second]\n",
    "\n",
    "    while moves.sort() != position_list:\n",
    "        game = \"playing\"\n",
    "        game_on = True\n",
    "\n",
    "        while game_on:\n",
    "            for player in players:\n",
    "                current_player = input(f\"{player}, pick a postion from 1-9.\")\n",
    "                if (\n",
    "                    current_player.isdigit() == False\n",
    "                    or int(current_player) not in position_list\n",
    "                    or int(current_player) in moves\n",
    "                ):\n",
    "                    print(\"Wrong choice.\\n\")\n",
    "                    keep_playing = input(\"Keep playing Yes/No?\")\n",
    "                    if keep_playing == \"Yes\":\n",
    "                        continue\n",
    "                    else:\n",
    "                        return f\"{player} forfeits, {[x for x in players if x not in player][0]} wins!! Thanks for playing!\"\n",
    "                else:\n",
    "                    game_on = False\n",
    "\n",
    "                current_player = int(current_player)\n",
    "                moves.append(current_player)\n",
    "                if player == first:\n",
    "                    player1_choice.append(current_player)\n",
    "                else:\n",
    "                    player2_choice.append(current_player)\n",
    "\n",
    "                position = list(position_dict.keys())[current_player - 1]\n",
    "                disp, position_dict = display(game, position_dict, player, position)\n",
    "                print(\"\\n\" * 100)\n",
    "                print(disp)\n",
    "\n",
    "                if len(moves) > 4:\n",
    "                    if len(player1_choice) > 2:\n",
    "                        for i in win:\n",
    "                            if set(i).issubset(set(player1_choice)):\n",
    "                                return f\"{first} wins!!\"\n",
    "                    if len(player2_choice) > 2:\n",
    "                        for i in win:\n",
    "                            if set(i).issubset(set(player2_choice)):\n",
    "                                return f\"{second} wins!!\"\n",
    "                    if len(moves) == 9:\n",
    "                        return \"Draw!\"\n",
    "\n",
    "\n",
    "def display(\n",
    "    game,\n",
    "    position_dict,\n",
    "    player_flag=None,\n",
    "    position=None,\n",
    "):\n",
    "    if game == \"begin\":\n",
    "        a = position_dict[\"a\"]\n",
    "        b = position_dict[\"b\"]\n",
    "        c = position_dict[\"c\"]\n",
    "        d = position_dict[\"d\"]\n",
    "        e = position_dict[\"e\"]\n",
    "        f = position_dict[\"f\"]\n",
    "        g = position_dict[\"g\"]\n",
    "        h = position_dict[\"h\"]\n",
    "        i = position_dict[\"i\"]\n",
    "        return f\"{a}|{b}|{c}\\n-----\\n{d}|{e}|{f}\\n-----\\n{g}|{h}|{i}\\n\"\n",
    "\n",
    "    elif game == \"start\":\n",
    "        position_dict = dict.fromkeys(position_dict, \" \")\n",
    "        a = position_dict[\"a\"]\n",
    "        b = position_dict[\"b\"]\n",
    "        c = position_dict[\"c\"]\n",
    "        d = position_dict[\"d\"]\n",
    "        e = position_dict[\"e\"]\n",
    "        f = position_dict[\"f\"]\n",
    "        g = position_dict[\"g\"]\n",
    "        h = position_dict[\"h\"]\n",
    "        i = position_dict[\"i\"]\n",
    "        return f\"{a}|{b}|{c}\\n-----\\n{d}|{e}|{f}\\n-----\\n{g}|{h}|{i}\\n\", position_dict\n",
    "\n",
    "    elif game == \"playing\":\n",
    "        position_dict[position] = player_flag\n",
    "        a = position_dict[\"a\"]\n",
    "        b = position_dict[\"b\"]\n",
    "        c = position_dict[\"c\"]\n",
    "        d = position_dict[\"d\"]\n",
    "        e = position_dict[\"e\"]\n",
    "        f = position_dict[\"f\"]\n",
    "        g = position_dict[\"g\"]\n",
    "        h = position_dict[\"h\"]\n",
    "        i = position_dict[\"i\"]\n",
    "        return f\"{a}|{b}|{c}\\n-----\\n{d}|{e}|{f}\\n-----\\n{g}|{h}|{i}\\n\", position_dict\n",
    "\n",
    "\n",
    "def goes_first():\n",
    "    choice = \"start\"\n",
    "    choice2 = \"\"\n",
    "    while choice not in [\"X\", \"O\"]:\n",
    "        choice = input(\"Player 1, X or O?\").upper()\n",
    "        if choice not in [\"X\", \"O\"]:\n",
    "            print(\"\\nWrong choice.\\n\")\n",
    "            keep_playing = input(\"Keep playing Yes/No?\")\n",
    "            if keep_playing == \"Yes\":\n",
    "                continue\n",
    "            else:\n",
    "                return \"Thanks for playing!\"\n",
    "    if choice == \"X\":\n",
    "        choice2 = \"O\"\n",
    "    else:\n",
    "        choice2 = \"X\"\n",
    "\n",
    "    print(f\"Player 1 is {choice} and Player 2 is {choice2}.\\n\")\n",
    "\n",
    "    n = \"\"\n",
    "    m = \"\"\n",
    "    while n == m:\n",
    "        n = random.randint(1, 9)\n",
    "        m = random.randint(1, 9)\n",
    "    if n > m:\n",
    "        print(f\"{choice} is first.\\n\")\n",
    "        first = choice\n",
    "        second = choice2\n",
    "    else:\n",
    "        print(f\"{choice2} is first.\\n\")\n",
    "        first = choice2\n",
    "        second = choice\n",
    "    return first, second\n"
   ],
   "outputs": [],
   "metadata": {}
  },
  {
   "cell_type": "code",
   "execution_count": 2,
   "source": [
    "tic_tac()"
   ],
   "outputs": [
    {
     "output_type": "stream",
     "name": "stdout",
     "text": [
      "Welcome to the Tic Tac Toe!\n",
      "Your position options ranges from 1-9, as shown below.\n",
      "\n",
      "1|2|3\n",
      "-----\n",
      "4|5|6\n",
      "-----\n",
      "7|8|9\n",
      "\n",
      "\n",
      "\n",
      "\n",
      "\n",
      "\n",
      "\n",
      "\n",
      "\n",
      "\n",
      "\n",
      "\n",
      "\n",
      "\n",
      "\n",
      "\n",
      "\n",
      "\n",
      "\n",
      "\n",
      "\n",
      "\n",
      "\n",
      "\n",
      "\n",
      "\n",
      "\n",
      "\n",
      "\n",
      "\n",
      "\n",
      "\n",
      "\n",
      "\n",
      "\n",
      "\n",
      "\n",
      "\n",
      "\n",
      "\n",
      "\n",
      "\n",
      "\n",
      "\n",
      "\n",
      "\n",
      "\n",
      "\n",
      "\n",
      "\n",
      "\n",
      "\n",
      "\n",
      "\n",
      "\n",
      "\n",
      "\n",
      "\n",
      "\n",
      "\n",
      "\n",
      "\n",
      "\n",
      "\n",
      "\n",
      "\n",
      "\n",
      "\n",
      "\n",
      "\n",
      "\n",
      "\n",
      "\n",
      "\n",
      "\n",
      "\n",
      "\n",
      "\n",
      "\n",
      "\n",
      "\n",
      "\n",
      "\n",
      "\n",
      "\n",
      "\n",
      "\n",
      "\n",
      "\n",
      "\n",
      "\n",
      "\n",
      "\n",
      "\n",
      "\n",
      "\n",
      "\n",
      "\n",
      "\n",
      "\n",
      "\n",
      "\n",
      " | | \n",
      "-----\n",
      " | | \n",
      "-----\n",
      " | | \n",
      "\n",
      "Player 1 is X and Player 2 is O.\n",
      "\n",
      "X is first.\n",
      "\n",
      "\n",
      "\n",
      "\n",
      "\n",
      "\n",
      "\n",
      "\n",
      "\n",
      "\n",
      "\n",
      "\n",
      "\n",
      "\n",
      "\n",
      "\n",
      "\n",
      "\n",
      "\n",
      "\n",
      "\n",
      "\n",
      "\n",
      "\n",
      "\n",
      "\n",
      "\n",
      "\n",
      "\n",
      "\n",
      "\n",
      "\n",
      "\n",
      "\n",
      "\n",
      "\n",
      "\n",
      "\n",
      "\n",
      "\n",
      "\n",
      "\n",
      "\n",
      "\n",
      "\n",
      "\n",
      "\n",
      "\n",
      "\n",
      "\n",
      "\n",
      "\n",
      "\n",
      "\n",
      "\n",
      "\n",
      "\n",
      "\n",
      "\n",
      "\n",
      "\n",
      "\n",
      "\n",
      "\n",
      "\n",
      "\n",
      "\n",
      "\n",
      "\n",
      "\n",
      "\n",
      "\n",
      "\n",
      "\n",
      "\n",
      "\n",
      "\n",
      "\n",
      "\n",
      "\n",
      "\n",
      "\n",
      "\n",
      "\n",
      "\n",
      "\n",
      "\n",
      "\n",
      "\n",
      "\n",
      "\n",
      "\n",
      "\n",
      "\n",
      "\n",
      "\n",
      "\n",
      "\n",
      "\n",
      "\n",
      "\n",
      "\n",
      "X| | \n",
      "-----\n",
      " | | \n",
      "-----\n",
      " | | \n",
      "\n",
      "Wrong choice.\n",
      "\n"
     ]
    },
    {
     "output_type": "execute_result",
     "data": {
      "text/plain": [
       "'O forfeits, X wins!! Thanks for playing!'"
      ]
     },
     "metadata": {},
     "execution_count": 2
    }
   ],
   "metadata": {}
  },
  {
   "cell_type": "code",
   "execution_count": 28,
   "source": [
    "class Dog():\n",
    "    family='Canidae'\n",
    "    def __init__(self,bread,name,spots):\n",
    "        self.bread=bread\n",
    "        self.name=name\n",
    "        self.spots=spots\n",
    "\n",
    "    def bark(self, number):\n",
    "        print(f'WOOF! My name is {self.name}, and the number is {number}.')"
   ],
   "outputs": [],
   "metadata": {}
  },
  {
   "cell_type": "code",
   "execution_count": 30,
   "source": [
    "my_dog=Dog('Bulldog','Sammy',False)\n",
    "type(my_dog)"
   ],
   "outputs": [
    {
     "output_type": "execute_result",
     "data": {
      "text/plain": [
       "__main__.Dog"
      ]
     },
     "metadata": {},
     "execution_count": 30
    }
   ],
   "metadata": {}
  },
  {
   "cell_type": "code",
   "execution_count": 31,
   "source": [
    "print(my_dog.spots,\n",
    "my_dog.family,\n",
    "my_dog.name)\n",
    "my_dog.bark(69)"
   ],
   "outputs": [
    {
     "output_type": "stream",
     "name": "stdout",
     "text": [
      "False Canidae Sammy\n",
      "WOOF! My name is Sammy, and the number is 69.\n"
     ]
    }
   ],
   "metadata": {}
  },
  {
   "cell_type": "code",
   "execution_count": 42,
   "source": [
    "class Circle():\n",
    "\n",
    "    pi=3.14\n",
    "\n",
    "    def __init__(self,radius=1):\n",
    "        self.radius=radius\n",
    "        self.area=radius**2*Circle.pi\n",
    "\n",
    "    def get_circumference(self):\n",
    "        return self.radius*Circle.pi*2"
   ],
   "outputs": [],
   "metadata": {}
  },
  {
   "cell_type": "code",
   "execution_count": 43,
   "source": [
    "my_circle=Circle(30)"
   ],
   "outputs": [],
   "metadata": {}
  },
  {
   "cell_type": "code",
   "execution_count": 44,
   "source": [
    "my_circle.pi\n",
    "my_circle.get_circumference()\n",
    "my_circle.area"
   ],
   "outputs": [
    {
     "output_type": "execute_result",
     "data": {
      "text/plain": [
       "2826.0"
      ]
     },
     "metadata": {},
     "execution_count": 44
    }
   ],
   "metadata": {}
  },
  {
   "cell_type": "code",
   "execution_count": 45,
   "source": [
    "class Animal():\n",
    "\n",
    "    def __init__(self):\n",
    "        print('ANIMAL CREATED')\n",
    "    def who_am_i(self):\n",
    "        print('I am an animal')\n",
    "    def eat(self):\n",
    "        print('I am eating')"
   ],
   "outputs": [],
   "metadata": {}
  },
  {
   "cell_type": "code",
   "execution_count": 49,
   "source": [
    "myanimal=Animal()\n",
    "myanimal.eat()\n",
    "myanimal.who_am_i()"
   ],
   "outputs": [
    {
     "output_type": "stream",
     "name": "stdout",
     "text": [
      "ANIMAL CREATED\n",
      "I am eating\n",
      "I am an animal\n"
     ]
    }
   ],
   "metadata": {}
  },
  {
   "cell_type": "code",
   "execution_count": 54,
   "source": [
    "class Dog(Animal):\n",
    "    def __init__(self):\n",
    "        Animal.__init__(self)\n",
    "        print('Dog Created')\n",
    "    def who_am_i(self):\n",
    "        print('I am a Dog!')"
   ],
   "outputs": [],
   "metadata": {}
  },
  {
   "cell_type": "code",
   "execution_count": 55,
   "source": [
    "mydog=Dog()\n",
    "mydog.eat()\n",
    "mydog.who_am_i()"
   ],
   "outputs": [
    {
     "output_type": "stream",
     "name": "stdout",
     "text": [
      "ANIMAL CREATED\n",
      "Dog Created\n",
      "I am eating\n",
      "I am a Dog!\n"
     ]
    }
   ],
   "metadata": {}
  },
  {
   "cell_type": "code",
   "execution_count": 62,
   "source": [
    "class Dog():\n",
    "    def __init__(self, name):\n",
    "        self.name=name\n",
    "    def speak(self):\n",
    "        return self.name + ' says woof.'"
   ],
   "outputs": [],
   "metadata": {}
  },
  {
   "cell_type": "code",
   "execution_count": 63,
   "source": [
    "class Cat():\n",
    "    def __init__(self, name):\n",
    "        self.name=name\n",
    "    def speak(self):\n",
    "        return self.name + ' says meow.'"
   ],
   "outputs": [],
   "metadata": {}
  },
  {
   "cell_type": "code",
   "execution_count": 64,
   "source": [
    "niko=Dog('Niko')\n",
    "niko.speak()\n",
    "felix=Cat('felix')\n",
    "felix.speak()"
   ],
   "outputs": [
    {
     "output_type": "execute_result",
     "data": {
      "text/plain": [
       "'felix says meow.'"
      ]
     },
     "metadata": {},
     "execution_count": 64
    }
   ],
   "metadata": {}
  },
  {
   "cell_type": "code",
   "execution_count": 65,
   "source": [
    "for pet in [niko,felix]:\n",
    "    print(type(pet))\n",
    "    print(pet.speak())"
   ],
   "outputs": [
    {
     "output_type": "stream",
     "name": "stdout",
     "text": [
      "<class '__main__.Dog'>\n",
      "Niko says woof.\n",
      "<class '__main__.Cat'>\n",
      "felix says meow.\n"
     ]
    }
   ],
   "metadata": {}
  },
  {
   "cell_type": "code",
   "execution_count": 66,
   "source": [
    "def pet_speaks(pet):\n",
    "    print(pet.speak())"
   ],
   "outputs": [],
   "metadata": {}
  },
  {
   "cell_type": "code",
   "execution_count": 68,
   "source": [
    "pet_speaks(niko)\n",
    "pet_speaks(felix)"
   ],
   "outputs": [
    {
     "output_type": "stream",
     "name": "stdout",
     "text": [
      "Niko says woof.\n",
      "felix says meow.\n"
     ]
    }
   ],
   "metadata": {}
  },
  {
   "cell_type": "code",
   "execution_count": 69,
   "source": [
    "class Animal():\n",
    "    def __init__(self,name):\n",
    "        self.name=name\n",
    "    def speak(self):\n",
    "        raise NotImplementedError('Subclass must implement this abstract method.')"
   ],
   "outputs": [],
   "metadata": {}
  },
  {
   "cell_type": "code",
   "execution_count": 73,
   "source": [
    "class Dog(Animal):\n",
    "    def speak(self):\n",
    "        return self.name + ' says woof.'"
   ],
   "outputs": [],
   "metadata": {}
  },
  {
   "cell_type": "code",
   "execution_count": 74,
   "source": [
    "my_dog=Dog('Tom')\n",
    "my_dog.speak()"
   ],
   "outputs": [
    {
     "output_type": "execute_result",
     "data": {
      "text/plain": [
       "'Tom says woof.'"
      ]
     },
     "metadata": {},
     "execution_count": 74
    }
   ],
   "metadata": {}
  },
  {
   "cell_type": "code",
   "execution_count": 75,
   "source": [
    "class Cat(Animal):\n",
    "    def speak(self):\n",
    "        return self.name + ' says meow.'"
   ],
   "outputs": [],
   "metadata": {}
  },
  {
   "cell_type": "code",
   "execution_count": 76,
   "source": [
    "my_cat=Cat('Isis')\n",
    "my_cat.speak()"
   ],
   "outputs": [
    {
     "output_type": "execute_result",
     "data": {
      "text/plain": [
       "'Isis says meow.'"
      ]
     },
     "metadata": {},
     "execution_count": 76
    }
   ],
   "metadata": {}
  },
  {
   "cell_type": "code",
   "execution_count": 86,
   "source": [
    "class Book():\n",
    "    def __init__(self, title, author, pages):\n",
    "        self.title=title\n",
    "        self.auothor=author\n",
    "        self.pages=pages\n",
    "\n",
    "    def __str__(self):\n",
    "        return f'{self.title} by {self.auothor}'\n",
    "\n",
    "    def __len__(self):\n",
    "        return self.pages\n",
    "\n",
    "    def __del__(self):\n",
    "        print('A book object has been deleted.')"
   ],
   "outputs": [],
   "metadata": {}
  },
  {
   "cell_type": "code",
   "execution_count": 89,
   "source": [
    "b=Book('Learning', 'Tolu', 200)\n",
    "len(b)\n",
    "# del(b)"
   ],
   "outputs": [
    {
     "output_type": "execute_result",
     "data": {
      "text/plain": [
       "200"
      ]
     },
     "metadata": {},
     "execution_count": 89
    }
   ],
   "metadata": {}
  },
  {
   "cell_type": "code",
   "execution_count": 90,
   "source": [
    "b"
   ],
   "outputs": [
    {
     "output_type": "execute_result",
     "data": {
      "text/plain": [
       "<__main__.Book at 0x21d561bd508>"
      ]
     },
     "metadata": {},
     "execution_count": 90
    }
   ],
   "metadata": {}
  },
  {
   "cell_type": "code",
   "execution_count": 96,
   "source": [
    "class Line:\n",
    "    \n",
    "    def __init__(self,coor1,coor2):\n",
    "        self.x_1=coor1[0]\n",
    "        self.y_1=coor1[1]\n",
    "        self.x_2=coor2[0]\n",
    "        self.y_2=coor2[1]\n",
    "    \n",
    "    def distance(self):\n",
    "        dist=((self.x_2-self.x_1)**2 + (self.y_2-self.y_1)**2)**0.5\n",
    "        return dist\n",
    "    \n",
    "    def slope(self):\n",
    "        sl=(self.y_2-self.y_1)/(self.x_2-self.x_1)\n",
    "        return sl"
   ],
   "outputs": [],
   "metadata": {}
  },
  {
   "cell_type": "code",
   "execution_count": 97,
   "source": [
    "coordinate1 = (3,2)\n",
    "coordinate2 = (8,10)\n",
    "\n",
    "li = Line(coordinate1,coordinate2)"
   ],
   "outputs": [],
   "metadata": {}
  },
  {
   "cell_type": "code",
   "execution_count": 98,
   "source": [
    "li.distance()"
   ],
   "outputs": [
    {
     "output_type": "execute_result",
     "data": {
      "text/plain": [
       "9.433981132056603"
      ]
     },
     "metadata": {},
     "execution_count": 98
    }
   ],
   "metadata": {}
  },
  {
   "cell_type": "code",
   "execution_count": 99,
   "source": [
    "li.slope()"
   ],
   "outputs": [
    {
     "output_type": "execute_result",
     "data": {
      "text/plain": [
       "1.6"
      ]
     },
     "metadata": {},
     "execution_count": 99
    }
   ],
   "metadata": {}
  },
  {
   "cell_type": "code",
   "execution_count": 102,
   "source": [
    "class Cylinder:\n",
    "    pi=3.14\n",
    "    def __init__(self,height=1,radius=1):\n",
    "        self.radius=radius\n",
    "        self.height=height\n",
    "        \n",
    "    def volume(self):\n",
    "        vol=self.pi*self.radius**2*self.height\n",
    "        return vol\n",
    "\n",
    "    def surface_area(self):\n",
    "        surf=2*self.pi*self.radius*self.height + 2*self.pi*self.radius**2\n",
    "        return surf"
   ],
   "outputs": [],
   "metadata": {}
  },
  {
   "cell_type": "code",
   "execution_count": 104,
   "source": [
    "c = Cylinder(2,3)\n",
    "c.volume()\n"
   ],
   "outputs": [
    {
     "output_type": "execute_result",
     "data": {
      "text/plain": [
       "56.52"
      ]
     },
     "metadata": {},
     "execution_count": 104
    }
   ],
   "metadata": {}
  },
  {
   "cell_type": "code",
   "execution_count": 105,
   "source": [
    "c.surface_area()"
   ],
   "outputs": [
    {
     "output_type": "execute_result",
     "data": {
      "text/plain": [
       "94.2"
      ]
     },
     "metadata": {},
     "execution_count": 105
    }
   ],
   "metadata": {}
  },
  {
   "cell_type": "code",
   "execution_count": 153,
   "source": [
    "class Account:\n",
    "    def __init__(self,owner, balance):\n",
    "        self.owner=owner\n",
    "        self.balance=balance\n",
    "    def __str__(self):\n",
    "        return f'Account owner: {self.owner}\\nAccount balance: ${self.balance}'\n",
    "    def deposit(self, num):\n",
    "        self.balance=self.balance + num\n",
    "        return f'Your deposit of ${num} Accepted'\n",
    "    def withdraw(self, number):\n",
    "        if self.balance < number:\n",
    "            return 'Withdrawals may not exceed the available balance.'\n",
    "        else:\n",
    "            self.balance=self.balance - number\n",
    "            return 'Withdrawal Accepted'\n"
   ],
   "outputs": [],
   "metadata": {}
  },
  {
   "cell_type": "code",
   "execution_count": 154,
   "source": [
    "acct1 = Account('Jose',100)"
   ],
   "outputs": [],
   "metadata": {}
  },
  {
   "cell_type": "code",
   "execution_count": 149,
   "source": [
    "print(acct1)"
   ],
   "outputs": [
    {
     "output_type": "stream",
     "name": "stdout",
     "text": [
      "Account owner: Jose\n",
      "Account balance: $100\n"
     ]
    }
   ],
   "metadata": {}
  },
  {
   "cell_type": "code",
   "execution_count": 150,
   "source": [
    "acct1.owner"
   ],
   "outputs": [
    {
     "output_type": "execute_result",
     "data": {
      "text/plain": [
       "'Jose'"
      ]
     },
     "metadata": {},
     "execution_count": 150
    }
   ],
   "metadata": {}
  },
  {
   "cell_type": "code",
   "execution_count": 151,
   "source": [
    "acct1.balance"
   ],
   "outputs": [
    {
     "output_type": "execute_result",
     "data": {
      "text/plain": [
       "100"
      ]
     },
     "metadata": {},
     "execution_count": 151
    }
   ],
   "metadata": {}
  },
  {
   "cell_type": "code",
   "execution_count": 155,
   "source": [
    "acct1.deposit(50)"
   ],
   "outputs": [
    {
     "output_type": "execute_result",
     "data": {
      "text/plain": [
       "'Your deposit of $50 Accepted'"
      ]
     },
     "metadata": {},
     "execution_count": 155
    }
   ],
   "metadata": {}
  },
  {
   "cell_type": "code",
   "execution_count": 156,
   "source": [
    "acct1.withdraw(75)"
   ],
   "outputs": [
    {
     "output_type": "execute_result",
     "data": {
      "text/plain": [
       "'Withdrawal Accepted'"
      ]
     },
     "metadata": {},
     "execution_count": 156
    }
   ],
   "metadata": {}
  },
  {
   "cell_type": "code",
   "execution_count": 163,
   "source": [
    "acct1.withdraw(500)"
   ],
   "outputs": [
    {
     "output_type": "execute_result",
     "data": {
      "text/plain": [
       "'Withdrawal Accepted'"
      ]
     },
     "metadata": {},
     "execution_count": 163
    }
   ],
   "metadata": {}
  },
  {
   "cell_type": "code",
   "execution_count": 158,
   "source": [
    "print(acct1)"
   ],
   "outputs": [
    {
     "output_type": "stream",
     "name": "stdout",
     "text": [
      "Account owner: Jose\n",
      "Account balance: $75\n"
     ]
    }
   ],
   "metadata": {}
  },
  {
   "cell_type": "code",
   "execution_count": 161,
   "source": [
    "acct1.deposit(1000)"
   ],
   "outputs": [
    {
     "output_type": "execute_result",
     "data": {
      "text/plain": [
       "'Your deposit of $1000 Accepted'"
      ]
     },
     "metadata": {},
     "execution_count": 161
    }
   ],
   "metadata": {}
  },
  {
   "cell_type": "code",
   "execution_count": 164,
   "source": [
    "print(acct1)"
   ],
   "outputs": [
    {
     "output_type": "stream",
     "name": "stdout",
     "text": [
      "Account owner: Jose\n",
      "Account balance: $675\n"
     ]
    }
   ],
   "metadata": {}
  },
  {
   "cell_type": "code",
   "execution_count": 169,
   "source": [
    "try:\n",
    "    for i in ['a','b','c']:\n",
    "        print(i**2)\n",
    "except:\n",
    "    print('List is not ints')"
   ],
   "outputs": [
    {
     "output_type": "stream",
     "name": "stdout",
     "text": [
      "List is not ints\n"
     ]
    }
   ],
   "metadata": {}
  },
  {
   "cell_type": "code",
   "execution_count": 172,
   "source": [
    "try:\n",
    "    x = 5\n",
    "    y = 0\n",
    "\n",
    "    z = x/y\n",
    "except ZeroDivisionError:\n",
    "    print('You can not divide by zero.')\n",
    "finally:\n",
    "    print('All done!')"
   ],
   "outputs": [
    {
     "output_type": "stream",
     "name": "stdout",
     "text": [
      "You can not divide by zero.\n",
      "All done!\n"
     ]
    }
   ],
   "metadata": {}
  },
  {
   "cell_type": "code",
   "execution_count": 173,
   "source": [
    "def ask():\n",
    "    while True:\n",
    "        try:\n",
    "            num=int(input('Input an integer:'))\n",
    "            return f'Thank you, your number squared is: {num**2}'   \n",
    "        except:\n",
    "            print('An error occurred! Please try again!')\n",
    "            continue\n"
   ],
   "outputs": [],
   "metadata": {}
  },
  {
   "cell_type": "code",
   "execution_count": 174,
   "source": [
    "ask()"
   ],
   "outputs": [
    {
     "output_type": "stream",
     "name": "stdout",
     "text": [
      "An error occurred! Please try again!\n"
     ]
    },
    {
     "output_type": "execute_result",
     "data": {
      "text/plain": [
       "'Thank you, your number squared is: 16'"
      ]
     },
     "metadata": {},
     "execution_count": 174
    }
   ],
   "metadata": {}
  },
  {
   "cell_type": "code",
   "execution_count": 110,
   "source": [
    "import random\n",
    "suits=('Clubs', 'Diamonds', 'Hearts', 'Spades')\n",
    "ranks=('Two', 'Three', 'Four', 'Five','Six', 'Seven', 'Eight', 'Nine', 'Ten', 'Jack', 'Queen', 'King', 'Ace')\n",
    "values={'Two':2, 'Three':3, 'Four':4, 'Five':5, 'Six':6, 'Seven':7, 'Eight':8, 'Nine':9, 'Ten':10, 'Jack':11, 'Queen':12, 'King':13, 'Ace':14}\n",
    "class card:\n",
    "    def __init__(self, suit, rank):\n",
    "        self.suit=suit\n",
    "        self.rank=rank\n",
    "        self.value=values[rank]\n",
    "\n",
    "    def __str__(self):\n",
    "        return self.rank + \" of \" + self.suit\n"
   ],
   "outputs": [],
   "metadata": {}
  },
  {
   "cell_type": "code",
   "execution_count": 111,
   "source": [
    "class Deck:\n",
    "    def __init__(self):\n",
    "        self.all_cards=[]\n",
    "        for suit in suits:\n",
    "            for rank in ranks:\n",
    "                create_card=card(suit, rank)\n",
    "                self.all_cards.append(create_card)\n",
    "    def shuffle(self):\n",
    "        random.shuffle(self.all_cards)\n",
    "    def deal_one(self):\n",
    "        try:\n",
    "            return self.all_cards.pop()\n",
    "        except:\n",
    "            return 'No more cards left to deal.'"
   ],
   "outputs": [],
   "metadata": {}
  },
  {
   "cell_type": "code",
   "execution_count": 112,
   "source": [
    "class Player:\n",
    "    def __init__(self,name):\n",
    "        self.name=name\n",
    "        self.all_cards=[]\n",
    "\n",
    "    def remove_one(self):\n",
    "        return self.all_cards.pop(0)\n",
    "\n",
    "    def add_cards(self, new_cards):\n",
    "        if type(new_cards)==list:\n",
    "            self.all_cards.extend(new_cards)\n",
    "        else:\n",
    "            self.all_cards.append(new_cards)\n",
    "\n",
    "    def __str__(self): \n",
    "       return f'Player {self.name} has {len(self.all_cards)} cards.'  "
   ],
   "outputs": [],
   "metadata": {}
  },
  {
   "cell_type": "code",
   "execution_count": 123,
   "source": [
    "# Game setup \n",
    "player_one=Player('One')\n",
    "player_two=Player('Two')\n",
    "\n",
    "new_deck=Deck()\n",
    "new_deck.shuffle()\n",
    "\n",
    "for x in range(26):\n",
    "    player_one.add_cards(new_deck.deal_one())\n",
    "    player_two.add_cards(new_deck.deal_one())\n",
    "\n",
    "game_on=True"
   ],
   "outputs": [],
   "metadata": {}
  },
  {
   "cell_type": "code",
   "execution_count": 124,
   "source": [
    "round_num=0\n",
    "while game_on:\n",
    "    round_num+=1\n",
    "    print(f'Round {round_num}.')\n",
    "    if len(player_one.all_cards)==0:\n",
    "        print('Player One is out of cards, Player Two wins!')\n",
    "        game_on=False\n",
    "        break\n",
    "    if len(player_two.all_cards)==0:\n",
    "        print('Player Two is out of cards, Player One wins!')\n",
    "        game_on=False\n",
    "        break\n",
    "\n",
    "    player_one_cards=[]\n",
    "    player_one_cards.append(player_one.remove_one())\n",
    "    player_two_cards=[]\n",
    "    player_two_cards.append(player_two.remove_one())\n",
    "    \n",
    "    at_war=True\n",
    "\n",
    "    while at_war:\n",
    "        if player_one_cards[-1].value>player_two_cards[-1].value:\n",
    "            player_one.add_cards(player_one_cards)\n",
    "            player_one.add_cards(player_two_cards)\n",
    "            at_war=False\n",
    "\n",
    "        elif player_one_cards[-1].value<player_two_cards[-1].value:\n",
    "            player_two.add_cards(player_one_cards)\n",
    "            player_two.add_cards(player_two_cards)\n",
    "            at_war=False\n",
    "\n",
    "        else:\n",
    "            print('WAR!')\n",
    "            if len(player_one.all_cards) <5:\n",
    "                print('Player One unable to play war')\n",
    "                print('Player Two wins!')\n",
    "                game_on=False\n",
    "                break\n",
    "\n",
    "            elif len(player_two.all_cards) <5:\n",
    "                print('Player Two unable to play war')\n",
    "                print('Player One wins!')\n",
    "                game_on=False\n",
    "                break\n",
    "\n",
    "            else:\n",
    "                for num in range(5):\n",
    "                    player_one_cards.append(player_one.remove_one())\n",
    "                    player_two_cards.append(player_two.remove_one())"
   ],
   "outputs": [
    {
     "output_type": "stream",
     "name": "stdout",
     "text": [
      "Round 1.\n",
      "Round 2.\n",
      "Round 3.\n",
      "Round 4.\n",
      "Round 5.\n",
      "Round 6.\n",
      "Round 7.\n",
      "Round 8.\n",
      "Round 9.\n",
      "Round 10.\n",
      "Round 11.\n",
      "Round 12.\n",
      "Round 13.\n",
      "Round 14.\n",
      "Round 15.\n",
      "Round 16.\n",
      "Round 17.\n",
      "Round 18.\n",
      "Round 19.\n",
      "Round 20.\n",
      "Round 21.\n",
      "Round 22.\n",
      "Round 23.\n",
      "Round 24.\n",
      "Round 25.\n",
      "Round 26.\n",
      "Round 27.\n",
      "Round 28.\n",
      "Round 29.\n",
      "Round 30.\n",
      "Round 31.\n",
      "Round 32.\n",
      "Round 33.\n",
      "Round 34.\n",
      "Round 35.\n",
      "WAR!\n",
      "Round 36.\n",
      "Round 37.\n",
      "Round 38.\n",
      "Round 39.\n",
      "Round 40.\n",
      "Round 41.\n",
      "Round 42.\n",
      "Round 43.\n",
      "Round 44.\n",
      "Round 45.\n",
      "Round 46.\n",
      "Round 47.\n",
      "Round 48.\n",
      "Round 49.\n",
      "WAR!\n",
      "Round 50.\n",
      "Round 51.\n",
      "Round 52.\n",
      "Round 53.\n",
      "Round 54.\n",
      "Round 55.\n",
      "Round 56.\n",
      "Round 57.\n",
      "Round 58.\n",
      "Round 59.\n",
      "Round 60.\n",
      "Round 61.\n",
      "Round 62.\n",
      "Round 63.\n",
      "Round 64.\n",
      "Round 65.\n",
      "Round 66.\n",
      "Round 67.\n",
      "Round 68.\n",
      "Round 69.\n",
      "Round 70.\n",
      "Round 71.\n",
      "Round 72.\n",
      "Round 73.\n",
      "Round 74.\n",
      "Round 75.\n",
      "Round 76.\n",
      "Round 77.\n",
      "Round 78.\n",
      "Round 79.\n",
      "Round 80.\n",
      "Round 81.\n",
      "Round 82.\n",
      "Round 83.\n",
      "Round 84.\n",
      "Round 85.\n",
      "Round 86.\n",
      "Round 87.\n",
      "Round 88.\n",
      "Round 89.\n",
      "Round 90.\n",
      "WAR!\n",
      "Round 91.\n",
      "Round 92.\n",
      "Round 93.\n",
      "Round 94.\n",
      "Round 95.\n",
      "Round 96.\n",
      "Round 97.\n",
      "WAR!\n",
      "Round 98.\n",
      "Round 99.\n",
      "Round 100.\n",
      "Round 101.\n",
      "Round 102.\n",
      "Round 103.\n",
      "Round 104.\n",
      "Round 105.\n",
      "Round 106.\n",
      "Round 107.\n",
      "Round 108.\n",
      "Round 109.\n",
      "Round 110.\n",
      "Round 111.\n",
      "Round 112.\n",
      "Round 113.\n",
      "Round 114.\n",
      "Round 115.\n",
      "Round 116.\n",
      "Round 117.\n",
      "Round 118.\n",
      "Round 119.\n",
      "Round 120.\n",
      "Round 121.\n",
      "Round 122.\n",
      "Round 123.\n",
      "Round 124.\n",
      "Round 125.\n",
      "Round 126.\n",
      "Round 127.\n",
      "Round 128.\n",
      "Round 129.\n",
      "Round 130.\n",
      "WAR!\n",
      "Round 131.\n",
      "Round 132.\n",
      "Round 133.\n",
      "WAR!\n",
      "Round 134.\n",
      "Round 135.\n",
      "Round 136.\n",
      "Round 137.\n",
      "Round 138.\n",
      "Round 139.\n",
      "Round 140.\n",
      "Round 141.\n",
      "Round 142.\n",
      "Round 143.\n",
      "Round 144.\n",
      "Round 145.\n",
      "Round 146.\n",
      "Round 147.\n",
      "Round 148.\n",
      "Round 149.\n",
      "Round 150.\n",
      "Round 151.\n",
      "WAR!\n",
      "Round 152.\n",
      "Round 153.\n",
      "Round 154.\n",
      "WAR!\n",
      "Round 155.\n",
      "Round 156.\n",
      "Round 157.\n",
      "Round 158.\n",
      "Round 159.\n",
      "Round 160.\n",
      "Round 161.\n",
      "Round 162.\n",
      "Round 163.\n",
      "Round 164.\n",
      "Round 165.\n",
      "Round 166.\n",
      "Round 167.\n",
      "Round 168.\n",
      "Round 169.\n",
      "WAR!\n",
      "Round 170.\n",
      "Round 171.\n",
      "Round 172.\n",
      "Round 173.\n",
      "Round 174.\n",
      "WAR!\n",
      "Round 175.\n",
      "Round 176.\n",
      "Round 177.\n",
      "Round 178.\n",
      "Round 179.\n",
      "Round 180.\n",
      "Round 181.\n",
      "Round 182.\n",
      "Round 183.\n",
      "WAR!\n",
      "Round 184.\n",
      "Round 185.\n",
      "Round 186.\n",
      "Round 187.\n",
      "WAR!\n",
      "Round 188.\n",
      "Round 189.\n",
      "Round 190.\n",
      "Round 191.\n",
      "Round 192.\n",
      "Round 193.\n",
      "Round 194.\n",
      "Round 195.\n",
      "WAR!\n",
      "Round 196.\n",
      "Round 197.\n",
      "Round 198.\n",
      "Round 199.\n",
      "Round 200.\n",
      "Round 201.\n",
      "Round 202.\n",
      "Round 203.\n",
      "Round 204.\n",
      "Round 205.\n",
      "Round 206.\n",
      "Round 207.\n",
      "Round 208.\n",
      "Round 209.\n",
      "Round 210.\n",
      "Round 211.\n",
      "Round 212.\n",
      "Round 213.\n",
      "Round 214.\n",
      "Round 215.\n",
      "Round 216.\n",
      "Round 217.\n",
      "Round 218.\n",
      "Round 219.\n",
      "Round 220.\n",
      "Round 221.\n",
      "Round 222.\n",
      "Round 223.\n",
      "Round 224.\n",
      "Round 225.\n",
      "Round 226.\n",
      "WAR!\n",
      "Round 227.\n",
      "Round 228.\n",
      "Round 229.\n",
      "Round 230.\n",
      "Round 231.\n",
      "Round 232.\n",
      "Round 233.\n",
      "Round 234.\n",
      "Round 235.\n",
      "Round 236.\n",
      "Round 237.\n",
      "Round 238.\n",
      "Round 239.\n",
      "Round 240.\n",
      "Round 241.\n",
      "Round 242.\n",
      "Round 243.\n",
      "Round 244.\n",
      "Round 245.\n",
      "Round 246.\n",
      "Round 247.\n",
      "Round 248.\n",
      "Round 249.\n",
      "Round 250.\n",
      "Round 251.\n",
      "Round 252.\n",
      "Round 253.\n",
      "Round 254.\n",
      "Round 255.\n",
      "Round 256.\n",
      "Round 257.\n",
      "Round 258.\n",
      "Round 259.\n",
      "Round 260.\n",
      "Round 261.\n",
      "Round 262.\n",
      "Round 263.\n",
      "Round 264.\n",
      "Round 265.\n",
      "Round 266.\n",
      "Round 267.\n",
      "WAR!\n",
      "Round 268.\n",
      "Round 269.\n",
      "Round 270.\n",
      "Round 271.\n",
      "Round 272.\n",
      "Round 273.\n",
      "WAR!\n",
      "Round 274.\n",
      "Round 275.\n",
      "Round 276.\n",
      "WAR!\n",
      "Round 277.\n",
      "Round 278.\n",
      "Round 279.\n",
      "Round 280.\n",
      "Round 281.\n",
      "Round 282.\n",
      "Round 283.\n",
      "Round 284.\n",
      "Round 285.\n",
      "Round 286.\n",
      "WAR!\n",
      "WAR!\n",
      "Round 287.\n",
      "Round 288.\n",
      "Round 289.\n",
      "Round 290.\n",
      "Round 291.\n",
      "Round 292.\n",
      "Round 293.\n",
      "WAR!\n",
      "Round 294.\n",
      "Round 295.\n",
      "Round 296.\n",
      "Round 297.\n",
      "Round 298.\n",
      "Round 299.\n",
      "Round 300.\n",
      "Round 301.\n",
      "Round 302.\n",
      "Round 303.\n",
      "WAR!\n",
      "Round 304.\n",
      "Round 305.\n",
      "Round 306.\n",
      "Round 307.\n",
      "Round 308.\n",
      "Round 309.\n",
      "Round 310.\n",
      "Round 311.\n",
      "Round 312.\n",
      "Round 313.\n",
      "Round 314.\n",
      "Round 315.\n",
      "Round 316.\n",
      "Round 317.\n",
      "Round 318.\n",
      "Round 319.\n",
      "Round 320.\n",
      "Round 321.\n",
      "Round 322.\n",
      "Round 323.\n",
      "Round 324.\n",
      "Round 325.\n",
      "Round 326.\n",
      "Round 327.\n",
      "Round 328.\n",
      "Round 329.\n",
      "Round 330.\n",
      "Round 331.\n",
      "Round 332.\n",
      "Round 333.\n",
      "Round 334.\n",
      "Round 335.\n",
      "Round 336.\n",
      "Round 337.\n",
      "Round 338.\n",
      "Round 339.\n",
      "Round 340.\n",
      "Round 341.\n",
      "Round 342.\n",
      "Round 343.\n",
      "Round 344.\n",
      "Round 345.\n",
      "Round 346.\n",
      "Round 347.\n",
      "Round 348.\n",
      "Round 349.\n",
      "Round 350.\n",
      "Round 351.\n",
      "Round 352.\n",
      "Round 353.\n",
      "Round 354.\n",
      "Round 355.\n",
      "Round 356.\n",
      "Round 357.\n",
      "Round 358.\n",
      "Round 359.\n",
      "Round 360.\n",
      "Round 361.\n",
      "Round 362.\n",
      "Round 363.\n",
      "Round 364.\n",
      "Round 365.\n",
      "Round 366.\n",
      "Round 367.\n",
      "Round 368.\n",
      "Round 369.\n",
      "Round 370.\n",
      "Round 371.\n",
      "Round 372.\n",
      "Round 373.\n",
      "WAR!\n",
      "Round 374.\n",
      "Round 375.\n",
      "Round 376.\n",
      "Round 377.\n",
      "Round 378.\n",
      "Round 379.\n",
      "WAR!\n",
      "Round 380.\n",
      "Round 381.\n",
      "Round 382.\n",
      "Round 383.\n",
      "WAR!\n",
      "Round 384.\n",
      "Round 385.\n",
      "Round 386.\n",
      "Round 387.\n",
      "Round 388.\n",
      "Round 389.\n",
      "Round 390.\n",
      "Round 391.\n",
      "Round 392.\n",
      "Round 393.\n",
      "Round 394.\n",
      "Round 395.\n",
      "Round 396.\n",
      "Round 397.\n",
      "Round 398.\n",
      "Round 399.\n",
      "Round 400.\n",
      "Round 401.\n",
      "Round 402.\n",
      "Round 403.\n",
      "Round 404.\n",
      "Round 405.\n",
      "Round 406.\n",
      "Round 407.\n",
      "Round 408.\n",
      "Round 409.\n",
      "Round 410.\n",
      "Round 411.\n",
      "Round 412.\n",
      "Round 413.\n",
      "Round 414.\n",
      "Round 415.\n",
      "Round 416.\n",
      "Round 417.\n",
      "Round 418.\n",
      "Round 419.\n",
      "Round 420.\n",
      "Round 421.\n",
      "Round 422.\n",
      "Round 423.\n",
      "Round 424.\n",
      "Round 425.\n",
      "Round 426.\n",
      "Round 427.\n",
      "Round 428.\n",
      "Round 429.\n",
      "Round 430.\n",
      "Round 431.\n",
      "Round 432.\n",
      "Round 433.\n",
      "Round 434.\n",
      "Round 435.\n",
      "Round 436.\n",
      "Round 437.\n",
      "Round 438.\n",
      "Round 439.\n",
      "Round 440.\n",
      "Round 441.\n",
      "Round 442.\n",
      "Round 443.\n",
      "Round 444.\n",
      "Round 445.\n",
      "Round 446.\n",
      "Round 447.\n",
      "Round 448.\n",
      "Round 449.\n",
      "Round 450.\n",
      "Round 451.\n",
      "Round 452.\n",
      "Round 453.\n",
      "Round 454.\n",
      "Round 455.\n",
      "Round 456.\n",
      "Round 457.\n",
      "Round 458.\n",
      "Round 459.\n",
      "Round 460.\n",
      "Round 461.\n",
      "Round 462.\n",
      "Round 463.\n",
      "Round 464.\n",
      "Round 465.\n",
      "Round 466.\n",
      "Round 467.\n",
      "Round 468.\n",
      "Round 469.\n",
      "Round 470.\n",
      "Round 471.\n",
      "Round 472.\n",
      "Round 473.\n",
      "Round 474.\n",
      "Round 475.\n",
      "Round 476.\n",
      "Round 477.\n",
      "Round 478.\n",
      "Round 479.\n",
      "Round 480.\n",
      "Round 481.\n",
      "Round 482.\n",
      "Round 483.\n",
      "Round 484.\n",
      "Round 485.\n",
      "Round 486.\n",
      "Round 487.\n",
      "Round 488.\n",
      "Round 489.\n",
      "Round 490.\n",
      "Round 491.\n",
      "Round 492.\n",
      "Round 493.\n",
      "Round 494.\n",
      "Round 495.\n",
      "Round 496.\n",
      "Round 497.\n",
      "Round 498.\n",
      "Round 499.\n",
      "Round 500.\n",
      "Round 501.\n",
      "Round 502.\n",
      "Round 503.\n",
      "Round 504.\n",
      "Round 505.\n",
      "Round 506.\n",
      "Round 507.\n",
      "Round 508.\n",
      "Round 509.\n",
      "Round 510.\n",
      "Round 511.\n",
      "Round 512.\n",
      "Round 513.\n",
      "Round 514.\n",
      "Round 515.\n",
      "Round 516.\n",
      "Round 517.\n",
      "Round 518.\n",
      "Round 519.\n",
      "Round 520.\n",
      "Round 521.\n",
      "Round 522.\n",
      "Round 523.\n",
      "Round 524.\n",
      "Round 525.\n",
      "Round 526.\n",
      "Round 527.\n",
      "Round 528.\n",
      "Round 529.\n",
      "Round 530.\n",
      "Round 531.\n",
      "Round 532.\n",
      "Round 533.\n",
      "Round 534.\n",
      "Round 535.\n",
      "Round 536.\n",
      "Round 537.\n",
      "Round 538.\n",
      "Round 539.\n",
      "Round 540.\n",
      "Round 541.\n",
      "Round 542.\n",
      "Round 543.\n",
      "Round 544.\n",
      "Round 545.\n",
      "Round 546.\n",
      "Round 547.\n",
      "Round 548.\n",
      "Round 549.\n",
      "Round 550.\n",
      "Round 551.\n",
      "Round 552.\n",
      "Round 553.\n",
      "Round 554.\n",
      "Round 555.\n",
      "Round 556.\n",
      "Round 557.\n",
      "Round 558.\n",
      "Round 559.\n",
      "Round 560.\n",
      "Round 561.\n",
      "Round 562.\n",
      "Round 563.\n",
      "Round 564.\n",
      "Round 565.\n",
      "Round 566.\n",
      "Round 567.\n",
      "Round 568.\n",
      "Round 569.\n",
      "Round 570.\n",
      "Round 571.\n",
      "Round 572.\n",
      "Round 573.\n",
      "Round 574.\n",
      "Round 575.\n",
      "Round 576.\n",
      "Round 577.\n",
      "Round 578.\n",
      "Round 579.\n",
      "Round 580.\n",
      "Round 581.\n",
      "Round 582.\n",
      "Round 583.\n",
      "Round 584.\n",
      "Round 585.\n",
      "Round 586.\n",
      "Round 587.\n",
      "Round 588.\n",
      "Round 589.\n",
      "Round 590.\n",
      "Round 591.\n",
      "Round 592.\n",
      "Round 593.\n",
      "Round 594.\n",
      "Round 595.\n",
      "Round 596.\n",
      "Round 597.\n",
      "Round 598.\n",
      "Round 599.\n",
      "Round 600.\n",
      "Round 601.\n",
      "Round 602.\n",
      "Round 603.\n",
      "Round 604.\n",
      "Round 605.\n",
      "Round 606.\n",
      "Round 607.\n",
      "Round 608.\n",
      "Round 609.\n",
      "Round 610.\n",
      "Round 611.\n",
      "Round 612.\n",
      "WAR!\n",
      "Player One unable to play war\n",
      "Player Two wins!\n"
     ]
    }
   ],
   "metadata": {}
  },
  {
   "cell_type": "code",
   "execution_count": 5,
   "source": [
    "import random\n",
    "\n",
    "suits = (\"Clubs\", \"Diamonds\", \"Hearts\", \"Spades\")\n",
    "ranks = (\n",
    "    \"Two\",\n",
    "    \"Three\",\n",
    "    \"Four\",\n",
    "    \"Five\",\n",
    "    \"Six\",\n",
    "    \"Seven\",\n",
    "    \"Eight\",\n",
    "    \"Nine\",\n",
    "    \"Ten\",\n",
    "    \"Jack\",\n",
    "    \"Queen\",\n",
    "    \"King\",\n",
    "    \"Ace\",\n",
    ")\n",
    "bj_values = {\n",
    "    \"Two\": 2,\n",
    "    \"Three\": 3,\n",
    "    \"Four\": 4,\n",
    "    \"Five\": 5,\n",
    "    \"Six\": 6,\n",
    "    \"Seven\": 7,\n",
    "    \"Eight\": 8,\n",
    "    \"Nine\": 9,\n",
    "    \"Ten\": 10,\n",
    "    \"Jack\": 10,\n",
    "    \"Queen\": 10,\n",
    "    \"King\": 10,\n",
    "    \"Ace\": 11,\n",
    "}\n",
    "\n",
    "class BJ_Card:\n",
    "    def __init__(self, suit, rank):\n",
    "        self.suit = suit\n",
    "        self.rank = rank\n",
    "        self.value = bj_values[rank]\n",
    "\n",
    "    def __str__(self):\n",
    "        return self.rank + \" of \" + self.suit\n",
    "\n",
    "\n",
    "class BJ_Deck:\n",
    "    def __init__(self):\n",
    "        self.all_cards = []\n",
    "        for suit in suits:\n",
    "            for rank in ranks:\n",
    "                create_card = BJ_Card(suit, rank)\n",
    "                self.all_cards.append(create_card)\n",
    "\n",
    "    def shuffle(self):\n",
    "        random.shuffle(self.all_cards)\n",
    "\n",
    "    def deal_one(self):\n",
    "        try:\n",
    "            return self.all_cards.pop()\n",
    "        except:\n",
    "            return \"No more cards left to deal.\"\n",
    "\n",
    "\n",
    "class BJ_Player:\n",
    "    def __init__(self, name):\n",
    "        self.name = name\n",
    "        self.all_cards = []\n",
    "\n",
    "    def add_cards(self, new_cards):\n",
    "        if type(new_cards) == list:\n",
    "            self.all_cards.extend(new_cards)\n",
    "        else:\n",
    "            self.all_cards.append(new_cards)\n",
    "\n",
    "    def sum_value(self):\n",
    "        total_value = 0\n",
    "        for card in self.all_cards:\n",
    "            total_value += card.value\n",
    "        return total_value\n",
    "\n",
    "    def clear_hand(self):\n",
    "        self.all_cards.clear()\n",
    "\n",
    "    def __str__(self):\n",
    "        return f\"Player {self.name} has {len(self.all_cards)} cards.\"\n",
    "\n",
    "\n",
    "class BJ_Account:\n",
    "    def __init__(self, name, balance):\n",
    "        self.balance = balance\n",
    "        self.name = name\n",
    "\n",
    "    def __str__(self):\n",
    "        return f\"Account owner: {self.name}\\nAccount balance: ${self.balance}\"\n",
    "\n",
    "    def deposit(self, num):\n",
    "        try:\n",
    "            self.balance = self.balance + num\n",
    "            return f\"You won ${num}, and your new balance is {self.balance}.\"\n",
    "        except:\n",
    "            return \"Please enter a valid integer amount.\"\n",
    "\n",
    "    def withdraw(self, number):\n",
    "        try:\n",
    "            if self.balance < number:\n",
    "                return \"Withdrawals may not exceed the available balance.\"\n",
    "            else:\n",
    "                self.balance = self.balance - number\n",
    "                return f\"{self.name}, you bet {number}.\"\n",
    "        except:\n",
    "            return \"Please enter a valid integer amount.\"\n"
   ],
   "outputs": [],
   "metadata": {}
  },
  {
   "cell_type": "code",
   "execution_count": 6,
   "source": [
    "def bet():\n",
    "    bet_amount = \"\"\n",
    "    while type(bet_amount)!=int or bet_amount > player_one_bal.balance:\n",
    "        try:\n",
    "            bet_amount = int(input(f\"{player_one.name}, enter your betting amount.\"))\n",
    "        except:\n",
    "            print(\"Please enter a proper integer.\")\n",
    "            continue\n",
    "        if bet_amount > player_one_bal.balance:\n",
    "            print(\"Bet amount can not exceed your current balance. Try again.\")\n",
    "            continue\n",
    "    return bet_amount\n",
    "\n",
    "\n",
    "def deal():\n",
    "    deal = \"\"\n",
    "    while deal not in [\"Yes\", \"No\"]:\n",
    "        deal = input(f\"{player_one.name} would you like to hit? (Yes or No)\").capitalize() \n",
    "        if deal not in [\"Yes\", \"No\"]:\n",
    "            print(\"Wrong answer, try again.\")\n",
    "    return deal\n",
    "\n",
    "\n",
    "def keep_playing():\n",
    "    keep_playing = \"\"\n",
    "    while keep_playing not in [\"Yes\", \"No\"]:\n",
    "        keep_playing = input(f\"{player_one.name}, do you want to keep playing Yes/No?\").capitalize() \n",
    "        if keep_playing not in [\"Yes\", \"No\"]:\n",
    "            print(\"Wrong answer, try again.\")\n",
    "    return keep_playing\n",
    "\n",
    "def ace_value():\n",
    "    ace_value=''\n",
    "    while type(ace_value) != int or ace_value not in [1,11]:\n",
    "        try:\n",
    "            ace_value = int(input(f\"{player_one.name}, enter the value this Ace should be.\"))\n",
    "        except:\n",
    "            print(\"Please enter a proper integer; either 1 or 11.\")\n",
    "            continue\n",
    "    return ace_value"
   ],
   "outputs": [],
   "metadata": {}
  },
  {
   "cell_type": "code",
   "execution_count": 7,
   "source": [
    "name = input(\"Enter Player's name. \").capitalize()\n",
    "player_one = BJ_Player(name)\n",
    "player_one_bal = BJ_Account(name, 1000)\n",
    "player_two = BJ_Player(\"House\")\n",
    "\n",
    "new_deck = BJ_Deck()\n",
    "new_deck.shuffle()\n",
    "\n",
    "game_on = True"
   ],
   "outputs": [],
   "metadata": {}
  },
  {
   "cell_type": "code",
   "execution_count": 8,
   "source": [
    "round_num = 0\n",
    "while game_on and len(new_deck.all_cards) != 0:\n",
    "    round_num += 1\n",
    "    adj_ace=0\n",
    "    print(f\"Round {round_num}.\")\n",
    "    print(player_one_bal)\n",
    "    player_bet = bet()\n",
    "    print(f\"{player_one.name} is betting ${player_bet}.\")\n",
    "    player_one_bal.withdraw(player_bet)\n",
    "    player_one.add_cards(new_deck.deal_one())\n",
    "    print(f\"House deals {player_one.all_cards[-1]}\")\n",
    "    if player_one.all_cards[-1].rank == \"Ace\" and ace_value() == 1:\n",
    "        adj_ace = 10\n",
    "    print(f\"{player_one.name}'s sum amount is {player_one.sum_value()-adj_ace}.\")\n",
    "    \n",
    "    while (player_one.sum_value() - adj_ace) < 22 and len(new_deck.all_cards) != 0:\n",
    "        pl2 = \"No\"\n",
    "        if deal() == \"Yes\":\n",
    "            player_one.add_cards(new_deck.deal_one())\n",
    "            print(f\"House deals {player_one.all_cards[-1]}\")\n",
    "            if player_one.all_cards[-1].rank == \"Ace\" and ace_value() == 1:\n",
    "                adj_ace = 10\n",
    "            print(\n",
    "                f\"{player_one.name}'s sum amount is {player_one.sum_value()-adj_ace}.\"\n",
    "            )\n",
    "            if (player_one.sum_value() - adj_ace) > 21:\n",
    "                print(f\"{player_one.name} you lost!\")\n",
    "                print(player_one_bal)\n",
    "                if player_one_bal.balance > 0 and keep_playing() == \"Yes\":\n",
    "                    player_one.clear_hand()\n",
    "                    break\n",
    "                else:\n",
    "                    print(\"Game over.\")\n",
    "                    player_one.clear_hand()\n",
    "                    print(player_one_bal)\n",
    "                    game_on = False\n",
    "                    break\n",
    "            elif (player_one.sum_value() - adj_ace) == 21:\n",
    "                print(f\"{player_one.name} you won!\")\n",
    "                player_one_bal.deposit(player_bet*2)\n",
    "                print(player_one_bal)\n",
    "                if keep_playing() == \"Yes\":\n",
    "                    player_one.clear_hand()\n",
    "                    break\n",
    "                else:\n",
    "                    print(\"Game over.\")\n",
    "                    player_one.clear_hand()\n",
    "                    print(player_one_bal)\n",
    "                    game_on = False\n",
    "                    break\n",
    "        else:\n",
    "            pl2 = \"Yes\"\n",
    "            break\n",
    "    if pl2 == \"Yes\":\n",
    "        player_two.add_cards(new_deck.deal_one())\n",
    "        print(f\"House deals {player_two.all_cards[-1]}\")\n",
    "        while player_two.sum_value() < 22 and len(new_deck.all_cards) != 0:\n",
    "            player_two.add_cards(new_deck.deal_one())\n",
    "            print(f\"House deals {player_two.all_cards[-1]}\")\n",
    "            print(f\"{player_two.name}'s sum amount is {player_two.sum_value()}.\")\n",
    "            if player_two.sum_value() > 21:\n",
    "                print(f\"{player_one.name} you won!\")\n",
    "                player_one_bal.deposit(player_bet*2)\n",
    "                print(player_one_bal)\n",
    "                if keep_playing() == \"Yes\":\n",
    "                    player_two.clear_hand()\n",
    "                    player_one.clear_hand()\n",
    "                    break\n",
    "                else:\n",
    "                    print(\"Game over.\")\n",
    "                    player_two.clear_hand()\n",
    "                    player_one.clear_hand()\n",
    "                    print(player_one_bal)\n",
    "                    game_on = False\n",
    "                    break\n",
    "            elif player_two.sum_value() == 21:\n",
    "                print(f\"{player_two.name} wins!\")\n",
    "                print(player_one_bal)\n",
    "                if keep_playing() == \"Yes\":\n",
    "                    player_two.clear_hand()\n",
    "                    player_one.clear_hand()\n",
    "                    break\n",
    "                else:\n",
    "                    print(\"Game over.\")\n",
    "                    player_two.clear_hand()\n",
    "                    player_one.clear_hand()\n",
    "                    print(player_one_bal)\n",
    "                    game_on = False\n",
    "                    break\n",
    "            elif len(player_two.all_cards) == 3:\n",
    "                if player_two.sum_value() > (player_one.sum_value() - adj_ace):\n",
    "                    print(f\"{player_two.name} wins!\")\n",
    "                    print(player_one_bal)\n",
    "                    if keep_playing() == \"Yes\":\n",
    "                        player_two.clear_hand()\n",
    "                        player_one.clear_hand()\n",
    "                        break\n",
    "                    else:\n",
    "                        print(\"Game over.\")\n",
    "                        player_two.clear_hand()\n",
    "                        player_one.clear_hand()\n",
    "                        print(player_one_bal)\n",
    "                        game_on = False\n",
    "                        break\n",
    "                else:\n",
    "                    print(f\"{player_one.name} you won!\")\n",
    "                    player_one_bal.deposit(player_bet*2)\n",
    "                    print(player_one_bal)\n",
    "                    if keep_playing() == \"Yes\":\n",
    "                        player_two.clear_hand()\n",
    "                        player_one.clear_hand()\n",
    "                        break\n",
    "                    else:\n",
    "                        print(\"Game over.\")\n",
    "                        player_two.clear_hand()\n",
    "                        player_one.clear_hand()\n",
    "                        print(player_one_bal)\n",
    "                        game_on = False\n",
    "                        break"
   ],
   "outputs": [
    {
     "output_type": "stream",
     "name": "stdout",
     "text": [
      "Round 1.\n",
      "Account owner: Tolu\n",
      "Account balance: $1000\n",
      "Tolu is betting $500.\n",
      "House deals Five of Diamonds\n",
      "Tolu's sum amount is 5.\n",
      "House deals Three of Hearts\n",
      "Tolu's sum amount is 8.\n",
      "House deals Ten of Spades\n",
      "Tolu's sum amount is 18.\n",
      "House deals Eight of Clubs\n",
      "House deals Two of Clubs\n",
      "House's sum amount is 10.\n",
      "House deals Six of Hearts\n",
      "House's sum amount is 16.\n",
      "Tolu you won!\n",
      "Account owner: Tolu\n",
      "Account balance: $1500\n",
      "Game over.\n",
      "Account owner: Tolu\n",
      "Account balance: $1500\n"
     ]
    }
   ],
   "metadata": {}
  },
  {
   "cell_type": "code",
   "execution_count": 235,
   "source": [
    "d=12\n",
    "type(d)==int"
   ],
   "outputs": [
    {
     "output_type": "execute_result",
     "data": {
      "text/plain": [
       "True"
      ]
     },
     "metadata": {},
     "execution_count": 235
    }
   ],
   "metadata": {}
  },
  {
   "cell_type": "code",
   "execution_count": 20,
   "source": [
    "def hello(name='Tolu'):\n",
    "    print('The hello() function has been executed.')\n",
    "\n",
    "    def greet():\n",
    "        return '\\t This is the greet function inside hello.'\n",
    "    def welcome():\n",
    "        return'\\t This is the welcome function inside hello.'\n",
    "\n",
    "    print('I am going to return a function.')\n",
    "    if name=='Tolu':\n",
    "        return greet\n",
    "    else:\n",
    "        return welcome"
   ],
   "outputs": [],
   "metadata": {}
  },
  {
   "cell_type": "code",
   "execution_count": 22,
   "source": [
    "my_new_func=hello()"
   ],
   "outputs": [
    {
     "output_type": "stream",
     "name": "stdout",
     "text": [
      "The hello() function has been executed.\n",
      "I am going to return a function.\n"
     ]
    }
   ],
   "metadata": {}
  },
  {
   "cell_type": "code",
   "execution_count": 25,
   "source": [
    "print(my_new_func())"
   ],
   "outputs": [
    {
     "output_type": "stream",
     "name": "stdout",
     "text": [
      "\t This is the greet function inside hello.\n"
     ]
    }
   ],
   "metadata": {}
  },
  {
   "cell_type": "code",
   "execution_count": 26,
   "source": [
    "def cool():\n",
    "    def super_cool():\n",
    "        return 'I am very cool'\n",
    "    return super_cool"
   ],
   "outputs": [],
   "metadata": {}
  },
  {
   "cell_type": "code",
   "execution_count": 27,
   "source": [
    "me=cool()"
   ],
   "outputs": [],
   "metadata": {}
  },
  {
   "cell_type": "code",
   "execution_count": 28,
   "source": [
    "me()"
   ],
   "outputs": [
    {
     "output_type": "execute_result",
     "data": {
      "text/plain": [
       "'I am very cool'"
      ]
     },
     "metadata": {},
     "execution_count": 28
    }
   ],
   "metadata": {}
  },
  {
   "cell_type": "code",
   "execution_count": 31,
   "source": [
    "def hello():\n",
    "    return 'Hi Tolu'\n",
    "\n",
    "def other(some_func):\n",
    "    print('Other code runs here')\n",
    "    print(some_func())"
   ],
   "outputs": [],
   "metadata": {}
  },
  {
   "cell_type": "code",
   "execution_count": 32,
   "source": [
    "other(hello)"
   ],
   "outputs": [
    {
     "output_type": "stream",
     "name": "stdout",
     "text": [
      "Other code runs here\n",
      "Hi Tolu\n"
     ]
    }
   ],
   "metadata": {}
  },
  {
   "cell_type": "code",
   "execution_count": 33,
   "source": [
    "def new_decorator(original_func):\n",
    "    def wrap_func():\n",
    "        print('some extra code, before the original function')\n",
    "        original_func()\n",
    "        print('some extra code, after the original function')\n",
    "    return wrap_func"
   ],
   "outputs": [],
   "metadata": {}
  },
  {
   "cell_type": "code",
   "execution_count": 34,
   "source": [
    "def func_need_decorator():\n",
    "    print('I want to be decorated.')"
   ],
   "outputs": [],
   "metadata": {}
  },
  {
   "cell_type": "code",
   "execution_count": 35,
   "source": [
    "decorated_func=new_decorator(func_need_decorator)"
   ],
   "outputs": [],
   "metadata": {}
  },
  {
   "cell_type": "code",
   "execution_count": 37,
   "source": [
    "decorated_func()"
   ],
   "outputs": [
    {
     "output_type": "stream",
     "name": "stdout",
     "text": [
      "some extra code, before the original function\n",
      "I want to be decorated.\n",
      "some extra code, after the original function\n"
     ]
    }
   ],
   "metadata": {}
  },
  {
   "cell_type": "code",
   "execution_count": 42,
   "source": [
    "@new_decorator\n",
    "def func_need_decorator():\n",
    "    print('I want to be decorated.')"
   ],
   "outputs": [],
   "metadata": {}
  },
  {
   "cell_type": "code",
   "execution_count": 43,
   "source": [
    "func_need_decorator()"
   ],
   "outputs": [
    {
     "output_type": "stream",
     "name": "stdout",
     "text": [
      "some extra code, before the original function\n",
      "I want to be decorated.\n",
      "some extra code, after the original function\n"
     ]
    }
   ],
   "metadata": {}
  },
  {
   "cell_type": "code",
   "execution_count": 51,
   "source": [
    "def create_cube(n):\n",
    "    result=[x**3 for x in range(n)]\n",
    "    return result"
   ],
   "outputs": [],
   "metadata": {}
  },
  {
   "cell_type": "code",
   "execution_count": 52,
   "source": [
    "create_cube(10)"
   ],
   "outputs": [
    {
     "output_type": "execute_result",
     "data": {
      "text/plain": [
       "[0, 1, 8, 27, 64, 125, 216, 343, 512, 729]"
      ]
     },
     "metadata": {},
     "execution_count": 52
    }
   ],
   "metadata": {}
  },
  {
   "cell_type": "code",
   "execution_count": 53,
   "source": [
    "def create_cube(n):\n",
    "    for x in range(n):\n",
    "        yield x**3"
   ],
   "outputs": [],
   "metadata": {}
  },
  {
   "cell_type": "code",
   "execution_count": 55,
   "source": [
    "for x in create_cube(10):\n",
    "    print(x)\n"
   ],
   "outputs": [
    {
     "output_type": "stream",
     "name": "stdout",
     "text": [
      "0\n",
      "1\n",
      "8\n",
      "27\n",
      "64\n",
      "125\n",
      "216\n",
      "343\n",
      "512\n",
      "729\n"
     ]
    }
   ],
   "metadata": {}
  },
  {
   "cell_type": "code",
   "execution_count": 56,
   "source": [
    "def gen_fibon(n):\n",
    "    a=1\n",
    "    b=1\n",
    "    for i in range(n):\n",
    "        yield a\n",
    "        a,b=b,a+b"
   ],
   "outputs": [],
   "metadata": {}
  },
  {
   "cell_type": "code",
   "execution_count": 57,
   "source": [
    "for x in gen_fibon(10):\n",
    "    print(x)"
   ],
   "outputs": [
    {
     "output_type": "stream",
     "name": "stdout",
     "text": [
      "1\n",
      "1\n",
      "2\n",
      "3\n",
      "5\n",
      "8\n",
      "13\n",
      "21\n",
      "34\n",
      "55\n"
     ]
    }
   ],
   "metadata": {}
  },
  {
   "cell_type": "code",
   "execution_count": 60,
   "source": [
    "def simple_gen():\n",
    "    for x in range(3):\n",
    "        yield x"
   ],
   "outputs": [],
   "metadata": {}
  },
  {
   "cell_type": "code",
   "execution_count": 61,
   "source": [
    "for x in simple_gen():\n",
    "    print(x)"
   ],
   "outputs": [
    {
     "output_type": "stream",
     "name": "stdout",
     "text": [
      "0\n",
      "1\n",
      "2\n"
     ]
    }
   ],
   "metadata": {}
  },
  {
   "cell_type": "code",
   "execution_count": 68,
   "source": [
    "g=simple_gen()"
   ],
   "outputs": [],
   "metadata": {}
  },
  {
   "cell_type": "code",
   "execution_count": 69,
   "source": [
    "print(next(g))"
   ],
   "outputs": [
    {
     "output_type": "stream",
     "name": "stdout",
     "text": [
      "0\n"
     ]
    }
   ],
   "metadata": {}
  },
  {
   "cell_type": "code",
   "execution_count": 70,
   "source": [
    "s ='hello'\n",
    "s_it=iter(s)"
   ],
   "outputs": [],
   "metadata": {}
  },
  {
   "cell_type": "code",
   "execution_count": 72,
   "source": [
    "print(next(s_it))"
   ],
   "outputs": [
    {
     "output_type": "stream",
     "name": "stdout",
     "text": [
      "e\n"
     ]
    }
   ],
   "metadata": {}
  },
  {
   "cell_type": "code",
   "execution_count": 73,
   "source": [
    "def gensquares(N):\n",
    "    for x in range(N):\n",
    "        yield x**2"
   ],
   "outputs": [],
   "metadata": {}
  },
  {
   "cell_type": "code",
   "execution_count": 74,
   "source": [
    "for x in gensquares(10):\n",
    "    print(x)"
   ],
   "outputs": [
    {
     "output_type": "stream",
     "name": "stdout",
     "text": [
      "0\n",
      "1\n",
      "4\n",
      "9\n",
      "16\n",
      "25\n",
      "36\n",
      "49\n",
      "64\n",
      "81\n"
     ]
    }
   ],
   "metadata": {}
  },
  {
   "cell_type": "code",
   "execution_count": 77,
   "source": [
    "import random\n",
    "\n",
    "def rand_num(low,high,n):\n",
    "    for x in range(n):\n",
    "       yield random.randint(low,high)\n",
    "    "
   ],
   "outputs": [],
   "metadata": {}
  },
  {
   "cell_type": "code",
   "execution_count": 78,
   "source": [
    "for num in rand_num(1,10,12):\n",
    "    print(num)"
   ],
   "outputs": [
    {
     "output_type": "stream",
     "name": "stdout",
     "text": [
      "3\n",
      "9\n",
      "7\n",
      "1\n",
      "4\n",
      "7\n",
      "2\n",
      "10\n",
      "6\n",
      "6\n",
      "4\n",
      "5\n"
     ]
    }
   ],
   "metadata": {}
  },
  {
   "cell_type": "code",
   "execution_count": 80,
   "source": [
    "s='hello'\n",
    "s_it=iter(s)\n",
    "for i in s_it:\n",
    "    print(i)"
   ],
   "outputs": [
    {
     "output_type": "stream",
     "name": "stdout",
     "text": [
      "h\n",
      "e\n",
      "l\n",
      "l\n",
      "o\n"
     ]
    }
   ],
   "metadata": {}
  },
  {
   "cell_type": "code",
   "execution_count": 81,
   "source": [
    "# Explain a use case for a generator using a yield statement where you would not want to use a normal function with a return statement.\n",
    "\n",
    "# if you wanted to iterate or create list with large amount of elements it is best to use a yield statement for memmory efficiency "
   ],
   "outputs": [],
   "metadata": {}
  },
  {
   "cell_type": "code",
   "execution_count": 86,
   "source": [
    "my_list = [1,2,3,4,5]\n",
    "\n",
    "gencomp = (item for item in my_list if item > 3)\n",
    "\n",
    "for item in gencomp:\n",
    "    print(item)"
   ],
   "outputs": [
    {
     "output_type": "stream",
     "name": "stdout",
     "text": [
      "4\n",
      "5\n"
     ]
    }
   ],
   "metadata": {}
  },
  {
   "cell_type": "code",
   "execution_count": 87,
   "source": [
    "gencomp"
   ],
   "outputs": [
    {
     "output_type": "execute_result",
     "data": {
      "text/plain": [
       "<generator object <genexpr> at 0x0000020952249AC8>"
      ]
     },
     "metadata": {},
     "execution_count": 87
    }
   ],
   "metadata": {}
  },
  {
   "cell_type": "code",
   "execution_count": null,
   "source": [
    "# gencomp is generator that stores one value at a time of the list element that meets the set condition."
   ],
   "outputs": [],
   "metadata": {}
  },
  {
   "cell_type": "code",
   "execution_count": 2,
   "source": [
    "from collections import Counter\r\n",
    "my_list=[1,2,1,2,3,3,4,2,1,4,3,4]\r\n",
    "Counter(my_list)"
   ],
   "outputs": [
    {
     "output_type": "execute_result",
     "data": {
      "text/plain": [
       "Counter({1: 3, 2: 3, 3: 3, 4: 3})"
      ]
     },
     "metadata": {},
     "execution_count": 2
    }
   ],
   "metadata": {}
  },
  {
   "cell_type": "code",
   "execution_count": 4,
   "source": [
    "te='aaaaaaaaaaaaaabbbbbbbbccccccccdddddd'\r\n",
    "Counter(te)"
   ],
   "outputs": [
    {
     "output_type": "execute_result",
     "data": {
      "text/plain": [
       "Counter({'a': 14, 'b': 8, 'c': 8, 'd': 6})"
      ]
     },
     "metadata": {},
     "execution_count": 4
    }
   ],
   "metadata": {}
  },
  {
   "cell_type": "code",
   "execution_count": 5,
   "source": [
    "Counter('abcabcabcdededeabc')"
   ],
   "outputs": [
    {
     "output_type": "execute_result",
     "data": {
      "text/plain": [
       "Counter({'a': 4, 'b': 4, 'c': 4, 'd': 3, 'e': 3})"
      ]
     },
     "metadata": {},
     "execution_count": 5
    }
   ],
   "metadata": {}
  },
  {
   "cell_type": "code",
   "execution_count": 9,
   "source": [
    "sentence='How many times does each word show up in this sentence with a word'\r\n",
    "Counter(sentence.split())"
   ],
   "outputs": [
    {
     "output_type": "execute_result",
     "data": {
      "text/plain": [
       "Counter({'How': 1,\n",
       "         'many': 1,\n",
       "         'times': 1,\n",
       "         'does': 1,\n",
       "         'each': 1,\n",
       "         'word': 2,\n",
       "         'show': 1,\n",
       "         'up': 1,\n",
       "         'in': 1,\n",
       "         'this': 1,\n",
       "         'sentence': 1,\n",
       "         'with': 1,\n",
       "         'a': 1})"
      ]
     },
     "metadata": {},
     "execution_count": 9
    }
   ],
   "metadata": {}
  },
  {
   "cell_type": "code",
   "execution_count": 15,
   "source": [
    "letters='aaaaaaaaaabbbbbbbbccccdddddd'\r\n",
    "c=Counter(letters)"
   ],
   "outputs": [],
   "metadata": {}
  },
  {
   "cell_type": "code",
   "execution_count": 16,
   "source": [
    "c.most_common()\r\n",
    "list(c)"
   ],
   "outputs": [
    {
     "output_type": "execute_result",
     "data": {
      "text/plain": [
       "['a', 'b', 'c', 'd']"
      ]
     },
     "metadata": {},
     "execution_count": 16
    }
   ],
   "metadata": {}
  },
  {
   "cell_type": "code",
   "execution_count": 17,
   "source": [
    "from collections import defaultdict\r\n",
    "d={'a':10}"
   ],
   "outputs": [],
   "metadata": {}
  },
  {
   "cell_type": "code",
   "execution_count": 19,
   "source": [
    "d['a']"
   ],
   "outputs": [
    {
     "output_type": "execute_result",
     "data": {
      "text/plain": [
       "10"
      ]
     },
     "metadata": {},
     "execution_count": 19
    }
   ],
   "metadata": {}
  },
  {
   "cell_type": "code",
   "execution_count": 21,
   "source": [
    "d=defaultdict(lambda:0)\r\n",
    "d['wrong']\r\n",
    "d['correct']=100"
   ],
   "outputs": [],
   "metadata": {}
  },
  {
   "cell_type": "code",
   "execution_count": 22,
   "source": [
    "d"
   ],
   "outputs": [
    {
     "output_type": "execute_result",
     "data": {
      "text/plain": [
       "defaultdict(<function __main__.<lambda>()>, {'wrong': 0, 'correct': 100})"
      ]
     },
     "metadata": {},
     "execution_count": 22
    }
   ],
   "metadata": {}
  },
  {
   "cell_type": "code",
   "execution_count": 27,
   "source": [
    "mytuple=(10,20,30)\r\n",
    "mytuple[0]"
   ],
   "outputs": [
    {
     "output_type": "execute_result",
     "data": {
      "text/plain": [
       "10"
      ]
     },
     "metadata": {},
     "execution_count": 27
    }
   ],
   "metadata": {}
  },
  {
   "cell_type": "code",
   "execution_count": 8,
   "source": [
    "from collections import namedtuple\r\n",
    "\r\n",
    "Dog=namedtuple('Dog', ['Age','Breed', 'Name'])"
   ],
   "outputs": [],
   "metadata": {}
  },
  {
   "cell_type": "code",
   "execution_count": 7,
   "source": [
    "Dog"
   ],
   "outputs": [
    {
     "output_type": "error",
     "ename": "NameError",
     "evalue": "name 'Dog' is not defined",
     "traceback": [
      "\u001b[1;31m---------------------------------------------------------------------------\u001b[0m",
      "\u001b[1;31mNameError\u001b[0m                                 Traceback (most recent call last)",
      "\u001b[1;32m<ipython-input-7-17c5809c8f88>\u001b[0m in \u001b[0;36m<module>\u001b[1;34m\u001b[0m\n\u001b[1;32m----> 1\u001b[1;33m \u001b[0mDog\u001b[0m\u001b[1;33m\u001b[0m\u001b[1;33m\u001b[0m\u001b[0m\n\u001b[0m",
      "\u001b[1;31mNameError\u001b[0m: name 'Dog' is not defined"
     ]
    }
   ],
   "metadata": {}
  },
  {
   "cell_type": "code",
   "execution_count": 31,
   "source": [
    "Sammy=Dog(Age=5, Breed='Husky', Name='Sam')"
   ],
   "outputs": [],
   "metadata": {}
  },
  {
   "cell_type": "code",
   "execution_count": 34,
   "source": [
    "Sammy.Age\r\n",
    "Sammy.Breed\r\n",
    "Sammy.Name"
   ],
   "outputs": [
    {
     "output_type": "execute_result",
     "data": {
      "text/plain": [
       "'Sam'"
      ]
     },
     "metadata": {},
     "execution_count": 34
    }
   ],
   "metadata": {}
  },
  {
   "cell_type": "code",
   "execution_count": 35,
   "source": [
    "Sammy[0]"
   ],
   "outputs": [
    {
     "output_type": "execute_result",
     "data": {
      "text/plain": [
       "5"
      ]
     },
     "metadata": {},
     "execution_count": 35
    }
   ],
   "metadata": {}
  },
  {
   "cell_type": "code",
   "execution_count": 56,
   "source": [
    "f=open('practice.txt', 'w+')\r\n",
    "f.wtite('This is a text file string')\r\n",
    "f.close()"
   ],
   "outputs": [
    {
     "output_type": "error",
     "ename": "FileNotFoundError",
     "evalue": "[Errno 2] No such file or directory: 'practice.txt'",
     "traceback": [
      "\u001b[1;31m---------------------------------------------------------------------------\u001b[0m",
      "\u001b[1;31mFileNotFoundError\u001b[0m                         Traceback (most recent call last)",
      "\u001b[1;32m<ipython-input-56-a44c88c20652>\u001b[0m in \u001b[0;36m<module>\u001b[1;34m\u001b[0m\n\u001b[1;32m----> 1\u001b[1;33m \u001b[0mf\u001b[0m\u001b[1;33m=\u001b[0m\u001b[0mopen\u001b[0m\u001b[1;33m(\u001b[0m\u001b[1;34m'practice.txt'\u001b[0m\u001b[1;33m,\u001b[0m \u001b[1;34m'w+'\u001b[0m\u001b[1;33m)\u001b[0m\u001b[1;33m\u001b[0m\u001b[1;33m\u001b[0m\u001b[0m\n\u001b[0m\u001b[0;32m      2\u001b[0m \u001b[0mf\u001b[0m\u001b[1;33m.\u001b[0m\u001b[0mwtite\u001b[0m\u001b[1;33m(\u001b[0m\u001b[1;34m'This is a text file string'\u001b[0m\u001b[1;33m)\u001b[0m\u001b[1;33m\u001b[0m\u001b[1;33m\u001b[0m\u001b[0m\n\u001b[0;32m      3\u001b[0m \u001b[0mf\u001b[0m\u001b[1;33m.\u001b[0m\u001b[0mclose\u001b[0m\u001b[1;33m(\u001b[0m\u001b[1;33m)\u001b[0m\u001b[1;33m\u001b[0m\u001b[1;33m\u001b[0m\u001b[0m\n",
      "\u001b[1;31mFileNotFoundError\u001b[0m: [Errno 2] No such file or directory: 'practice.txt'"
     ]
    }
   ],
   "metadata": {}
  },
  {
   "cell_type": "code",
   "execution_count": 5,
   "source": [
    "f=open('practice.txt', 'w+')\r\n",
    "f.wtite('This is a text file string')\r\n",
    "f.close()\r\n",
    "\r\n",
    "# myList =['n', 'weather', 'wind', 'other', 'avgscore']\r\n",
    "# with open(\"practice.txt\", 'w') as f:\r\n",
    "#     for s in myList:\r\n",
    "#         f.write(str(s) + '\\n')\r\n",
    "# print(\"Thank you, your data was logged\")"
   ],
   "outputs": [
    {
     "output_type": "error",
     "ename": "FileNotFoundError",
     "evalue": "[Errno 2] No such file or directory: 'practice.txt'",
     "traceback": [
      "\u001b[1;31m---------------------------------------------------------------------------\u001b[0m",
      "\u001b[1;31mFileNotFoundError\u001b[0m                         Traceback (most recent call last)",
      "\u001b[1;32m<ipython-input-5-ed935e923677>\u001b[0m in \u001b[0;36m<module>\u001b[1;34m\u001b[0m\n\u001b[1;32m----> 1\u001b[1;33m \u001b[0mf\u001b[0m\u001b[1;33m=\u001b[0m\u001b[0mopen\u001b[0m\u001b[1;33m(\u001b[0m\u001b[1;34m'practice.txt'\u001b[0m\u001b[1;33m,\u001b[0m \u001b[1;34m'w+'\u001b[0m\u001b[1;33m)\u001b[0m\u001b[1;33m\u001b[0m\u001b[1;33m\u001b[0m\u001b[0m\n\u001b[0m\u001b[0;32m      2\u001b[0m \u001b[0mf\u001b[0m\u001b[1;33m.\u001b[0m\u001b[0mwtite\u001b[0m\u001b[1;33m(\u001b[0m\u001b[1;34m'This is a text file string'\u001b[0m\u001b[1;33m)\u001b[0m\u001b[1;33m\u001b[0m\u001b[1;33m\u001b[0m\u001b[0m\n\u001b[0;32m      3\u001b[0m \u001b[0mf\u001b[0m\u001b[1;33m.\u001b[0m\u001b[0mclose\u001b[0m\u001b[1;33m(\u001b[0m\u001b[1;33m)\u001b[0m\u001b[1;33m\u001b[0m\u001b[1;33m\u001b[0m\u001b[0m\n\u001b[0;32m      4\u001b[0m \u001b[1;33m\u001b[0m\u001b[0m\n\u001b[0;32m      5\u001b[0m \u001b[1;31m# myList =['n', 'weather', 'wind', 'other', 'avgscore']\u001b[0m\u001b[1;33m\u001b[0m\u001b[1;33m\u001b[0m\u001b[1;33m\u001b[0m\u001b[0m\n",
      "\u001b[1;31mFileNotFoundError\u001b[0m: [Errno 2] No such file or directory: 'practice.txt'"
     ]
    }
   ],
   "metadata": {}
  },
  {
   "cell_type": "code",
   "execution_count": null,
   "source": [],
   "outputs": [],
   "metadata": {}
  }
 ],
 "metadata": {
  "interpreter": {
   "hash": "ddb8f349f21f43b4ad42d7af31233383b79d6864496bd81fc9ddf0042223aee9"
  },
  "kernelspec": {
   "display_name": "Python 3.7.6 64-bit ('base': conda)",
   "name": "python3"
  },
  "language_info": {
   "codemirror_mode": {
    "name": "ipython",
    "version": 3
   },
   "file_extension": ".py",
   "mimetype": "text/x-python",
   "name": "python",
   "nbconvert_exporter": "python",
   "pygments_lexer": "ipython3",
   "version": "3.7.6"
  },
  "orig_nbformat": 2
 },
 "nbformat": 4,
 "nbformat_minor": 2
}
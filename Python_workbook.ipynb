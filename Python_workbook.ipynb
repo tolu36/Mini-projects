{
 "metadata": {
  "language_info": {
   "codemirror_mode": {
    "name": "ipython",
    "version": 3
   },
   "file_extension": ".py",
   "mimetype": "text/x-python",
   "name": "python",
   "nbconvert_exporter": "python",
   "pygments_lexer": "ipython3",
   "version": "3.7.6"
  },
  "orig_nbformat": 2,
  "kernelspec": {
   "name": "python3",
   "display_name": "Python 3.7.6 64-bit ('base': conda)"
  },
  "interpreter": {
   "hash": "ddb8f349f21f43b4ad42d7af31233383b79d6864496bd81fc9ddf0042223aee9"
  }
 },
 "nbformat": 4,
 "nbformat_minor": 2,
 "cells": [
  {
   "cell_type": "code",
   "execution_count": 8,
   "metadata": {},
   "outputs": [],
   "source": [
    "def isopen(weekday, hour):\n",
    "\n",
    "    days = ['monday', 'tuesday', 'wednesday', 'thursday', 'friday']\n",
    "\n",
    "    workhours = range(9,18)\n",
    "\n",
    "    if weekday.lower() in days and hour in workhours:\n",
    "        return True\n",
    "\n",
    "    else:\n",
    "\n",
    "        return False"
   ]
  },
  {
   "cell_type": "code",
   "execution_count": 12,
   "metadata": {},
   "outputs": [
    {
     "output_type": "execute_result",
     "data": {
      "text/plain": [
       "False"
      ]
     },
     "metadata": {},
     "execution_count": 12
    }
   ],
   "source": [
    "isopen('sunday', 12)"
   ]
  },
  {
   "cell_type": "code",
   "execution_count": null,
   "metadata": {},
   "outputs": [],
   "source": [
    "# What EOE means?\n",
    "# This is a term often used by actuaries to indicate an adjustment needed to historical premiums to put them at \"current rate level\". This is needed when there was a rate change during the experience period. When actuaries do indication (analysis of premium vs losses), they want to have earned exposure to be at the latest version of premium calculation. In the Werner & Modlin link above, you have more details about EOE on page 73. Basically, there are 2 methods to put premium at current rate level. The parallelogram method which is an approximation and the extension of exposures (EOE) which recalculate premium for every risk at current level (most accurate approach).\n",
    "\n",
    "# What's the difference between actuaries and underwriters?\n",
    "# Underwriting is one of the core functions of an insurance company. Underwriting is ultimately responsible for choosing the types of risks we want to assume, i.e. what kind of business we want to write. What we want to write depends on a variety of factors:\n",
    "\n",
    "# ·       Risk appetite: i.e. how much risk are we comfortable taking on. The old team I worked on, economic capital, looked at the different risks our company faced and modeled them (it's a value at risk (VaR) methodology). Using these risk models you can see what size losses you would expect in a particular time horizon. This is how companies set their capital requirements. The more volatility you see from certain risks, the more capital you have to hold for it.\n",
    "\n",
    "# ·       Reinsurance coverage available: this is done by the reinsurance team. The more coverage that is available the more risky business you can take on. Actuaries help determine what kind of reinsurance coverage is necessary.\n",
    "\n",
    "# ·       Loss experience: analyzed by pricing actuaries. Can see if for the losses we're seeing in certain types of business it even makes sense to write that kind of business, i.e. can we even make a profit there.\n",
    "\n",
    "# JK-20180608: I only went into actuarial stuff above but there is a lot of input from other teams, e.g. claims, legal, marketing, etc.\n",
    "\n",
    "# Actuaries work in a variety of these functions which provide information that guide the underwriting policy. One of the outcomes of this is the Underwriting (UW) Guidelines. Here's an example of an UW guideline (for New Brunswick auto business):\n",
    "# L:\\nudata-NU\\Analytics\\Projects\\Pricing_UW\\RSP\\201711 Atlantic\\Files from ATL Pricing\\Manuals\\Aviva NB Auto Manual - Complete Version - 20171012.pdf\n",
    "\n",
    "# The UW guidelines are the result of all this collaboration and drive a lot of decisions, i.e. this is an insurance company's secret sauce.\n",
    "\n",
    "# So underwriters work more on the frontlines with brokers/agents/etc using the information that is provided to them by actuaries, etc. \n",
    "\n",
    " \n",
    "\n",
    "# Miscellaneous topics\n",
    "\n",
    "# ·       Alberta Grid Rating: https://airb-applications.alberta.ca/Grid\n",
    "\n",
    "# ·       Insurance Bureau of Canada: http://www.ibc.ca/\n",
    "\n",
    "# ·       Industry-wide organization that collects data, conducts research, etc.\n",
    "\n",
    "# ·       Risk Sharing Pool (RSP) and Residual Market (FARM)\n",
    "\n",
    "# ·       Summary: \n",
    "\n",
    "# ·       https://www.casact.org/sites/default/files/2021-03/6C_Dutil.pdf\n",
    "\n",
    "# ·       Detailed guidelines:\n",
    "\n",
    "# ·       http://www.facilityassociation.com/Manual_menu.asp\n",
    "\n",
    "# ·       Facility Association Plan of Operation\n",
    "\n",
    " \n",
    "\n",
    " \n",
    "\n",
    "# Jocelyn LeBlanc-Courchaine FCAS, FICA\n",
    "\n",
    "# Spécialiste actuariel | Science des données\n",
    "\n",
    "# Tél. : 514-399-1412\n",
    "\n",
    " \n",
    "\n",
    "# jocelyn.leblanc-courchaine@aviva.com\n",
    "\n",
    "# www.avivacanada.com\n",
    "\n",
    " \n",
    "\n",
    "\n",
    "\n",
    " \n",
    "\n",
    " \n",
    "\n",
    "# Aviva: Public\n",
    "\n",
    "\n",
    "# This message may contain confidential information and is intended only for the named recipient. Please do not forward this message to any other party or distribute it in any manner without prior approval of the sender. If you have received this message in error, telephone or email the sender immediately and delete this message and any attachment from your system.\n",
    "# For environmental concerns, please print this email only if necessary.\n",
    "\n",
    "\n",
    "# Ce message est à l'usage exclusif de son destinataire et peut contenir des renseignements confidentiels. Ne le transmettez à personne, de quelque façon que ce soit, sans l'autorisation de son expéditeur. Si vous avez reçu ce message par erreur, communiquez immédiatement avec l’expéditeur et supprimez le message ainsi que toutes pièces jointes de votre ordinateur.\n",
    "# À des fins de protection de l’environnement, veuillez imprimer le présent message seulement s’il est nécessaire de le faire.\n",
    "# ...\n",
    "\n",
    "# [Message clipped]  View entire message\n"
   ]
  },
  {
   "cell_type": "code",
   "execution_count": 51,
   "metadata": {},
   "outputs": [],
   "source": [
    "def user_choice():\n",
    "    choice= \"Wrong\"\n",
    "    while choice.isdigit() == False  or int(choice) not in range(0,11):\n",
    "        choice = input('Please enter a number between 0-10: ')\n",
    "        if choice.isdigit() ==False:\n",
    "            print(f\"{choice} is not a digit.\")\n",
    "        elif int(choice) not in range(0,11):\n",
    "            print('This value is outside the range of 0-10')\n",
    "    return int(choice)\n",
    "    \n"
   ]
  },
  {
   "cell_type": "code",
   "execution_count": 52,
   "metadata": {},
   "outputs": [
    {
     "output_type": "stream",
     "name": "stdout",
     "text": [
      "best day ever is not a digit.\n",
      "yo you  is not a digit.\n",
      "This value is outside the range of 0-10\n"
     ]
    },
    {
     "output_type": "execute_result",
     "data": {
      "text/plain": [
       "10"
      ]
     },
     "metadata": {},
     "execution_count": 52
    }
   ],
   "source": [
    "user_choice()"
   ]
  },
  {
   "cell_type": "code",
   "execution_count": 103,
   "metadata": {},
   "outputs": [],
   "source": [
    "def game():\n",
    "    game_list=[1,2,3]\n",
    "    i = 'start'\n",
    "    while i.isdigit() == False or i not in range(1,len(game_list)+1):\n",
    "        print(\"Here's the current list:\\n\", game_list)\n",
    "        i = input('Please enter position of the value you wish to change.')\n",
    "        if i.isdigit() ==False:\n",
    "            print(f\"{i} is not a digit.\")\n",
    "            keep_playing = input ('Keep playing Yes/No?')\n",
    "            if keep_playing=='Yes':\n",
    "                continue\n",
    "            else:\n",
    "                return 'Thanks for playing!'\n",
    "        elif int(i) not in range(1,len(game_list)+1):\n",
    "            print('This value is out of range.')\n",
    "            keep_playing = input ('Keep playing Yes/No?')\n",
    "            if keep_playing=='Yes':\n",
    "                continue\n",
    "            else:\n",
    "                return 'Thanks for playing!'\n",
    "        else:\n",
    "            new_value=input('Enter the new value. ')\n",
    "            game_list[int(i)-1]= new_value\n",
    "            print(game_list)\n",
    "            i='end'\n",
    "            keep_playing = input ('Keep playing Yes/No?')\n",
    "            if keep_playing=='Yes':\n",
    "                continue\n",
    "            else:\n",
    "                return 'Thanks for playing!'"
   ]
  },
  {
   "cell_type": "code",
   "execution_count": 106,
   "metadata": {},
   "outputs": [
    {
     "output_type": "stream",
     "name": "stdout",
     "text": [
      "Here's the current list:\n",
      " [1, 2, 3]\n",
      "[1, 'Friend', 3]\n",
      "Here's the current list:\n",
      " [1, 'Friend', 3]\n",
      "[1, 'Friend', 'Bob']\n"
     ]
    },
    {
     "output_type": "execute_result",
     "data": {
      "text/plain": [
       "'Thanks for playing!'"
      ]
     },
     "metadata": {},
     "execution_count": 106
    }
   ],
   "source": [
    "game()\n"
   ]
  },
  {
   "source": [
    "import random\n",
    "\n",
    "def tic_tac():\n",
    "    \"\"\"\n",
    "    This a tic-tac-toe game that randomly deteremines who goes first.\n",
    "    The function will notify who the winner is and when there is a draw.\n",
    "    \"\"\"\n",
    "    game = \"begin\"\n",
    "    position_dict = {\n",
    "        \"a\": 1,\n",
    "        \"b\": 2,\n",
    "        \"c\": 3,\n",
    "        \"d\": 4,\n",
    "        \"e\": 5,\n",
    "        \"f\": 6,\n",
    "        \"g\": 7,\n",
    "        \"h\": 8,\n",
    "        \"i\": 9,\n",
    "    }\n",
    "    win = [\n",
    "        [1, 2, 3],\n",
    "        [4, 5, 6],\n",
    "        [7, 8, 9],\n",
    "        [1, 4, 7],\n",
    "        [2, 5, 8],\n",
    "        [3, 6, 9],\n",
    "        [1, 5, 9],\n",
    "        [3, 5, 7],\n",
    "    ]\n",
    "    moves = []\n",
    "    player1_choice = []\n",
    "    player2_choice = []\n",
    "    position_list = [1, 2, 3, 4, 5, 6, 7, 8, 9]\n",
    "\n",
    "    print(\n",
    "        \"Welcome to the Tic Tac Toe!\\nYour position options ranges from 1-9, as shown below.\\n\"\n",
    "    )\n",
    "    disp = display(game, position_dict)\n",
    "    print(disp)\n",
    "\n",
    "    game = \"start\"\n",
    "    disp, position_dict = display(game, position_dict)\n",
    "    print(\"\\n\" * 100)\n",
    "    print(disp)\n",
    "    order = goes_first()\n",
    "    if len(order) < 3:\n",
    "        first, second = order\n",
    "    else:\n",
    "        return order\n",
    "    players = [first, second]\n",
    "\n",
    "    while moves.sort() != position_list:\n",
    "        game = \"playing\"\n",
    "        game_on = True\n",
    "\n",
    "        while game_on:\n",
    "            for player in players:\n",
    "                current_player = input(f\"{player}, pick a postion from 1-9.\")\n",
    "                if (\n",
    "                    current_player.isdigit() == False\n",
    "                    or int(current_player) not in position_list\n",
    "                    or int(current_player) in moves\n",
    "                ):\n",
    "                    print(\"Wrong choice.\\n\")\n",
    "                    keep_playing = input(\"Keep playing Yes/No?\")\n",
    "                    if keep_playing == \"Yes\":\n",
    "                        continue\n",
    "                    else:\n",
    "                        return f\"{player} forfeits, {[x for x in players if x not in player][0]} wins!! Thanks for playing!\"\n",
    "                else:\n",
    "                    game_on = False\n",
    "\n",
    "                current_player = int(current_player)\n",
    "                moves.append(current_player)\n",
    "                if player == first:\n",
    "                    player1_choice.append(current_player)\n",
    "                else:\n",
    "                    player2_choice.append(current_player)\n",
    "\n",
    "                position = list(position_dict.keys())[current_player - 1]\n",
    "                disp, position_dict = display(game, position_dict, player, position)\n",
    "                print(\"\\n\" * 100)\n",
    "                print(disp)\n",
    "\n",
    "                if len(moves) > 4:\n",
    "                    if len(player1_choice) > 2:\n",
    "                        for i in win:\n",
    "                            if set(i).issubset(set(player1_choice)):\n",
    "                                return f\"{first} wins!!\"\n",
    "                    if len(player2_choice) > 2:\n",
    "                        for i in win:\n",
    "                            if set(i).issubset(set(player2_choice)):\n",
    "                                return f\"{second} wins!!\"\n",
    "                    if len(moves) == 9:\n",
    "                        return \"Draw!\"\n",
    "\n",
    "\n",
    "def display(\n",
    "    game,\n",
    "    position_dict,\n",
    "    player_flag=None,\n",
    "    position=None,\n",
    "):\n",
    "    if game == \"begin\":\n",
    "        a = position_dict[\"a\"]\n",
    "        b = position_dict[\"b\"]\n",
    "        c = position_dict[\"c\"]\n",
    "        d = position_dict[\"d\"]\n",
    "        e = position_dict[\"e\"]\n",
    "        f = position_dict[\"f\"]\n",
    "        g = position_dict[\"g\"]\n",
    "        h = position_dict[\"h\"]\n",
    "        i = position_dict[\"i\"]\n",
    "        return f\"{a}|{b}|{c}\\n-----\\n{d}|{e}|{f}\\n-----\\n{g}|{h}|{i}\\n\"\n",
    "\n",
    "    elif game == \"start\":\n",
    "        position_dict = dict.fromkeys(position_dict, \" \")\n",
    "        a = position_dict[\"a\"]\n",
    "        b = position_dict[\"b\"]\n",
    "        c = position_dict[\"c\"]\n",
    "        d = position_dict[\"d\"]\n",
    "        e = position_dict[\"e\"]\n",
    "        f = position_dict[\"f\"]\n",
    "        g = position_dict[\"g\"]\n",
    "        h = position_dict[\"h\"]\n",
    "        i = position_dict[\"i\"]\n",
    "        return f\"{a}|{b}|{c}\\n-----\\n{d}|{e}|{f}\\n-----\\n{g}|{h}|{i}\\n\", position_dict\n",
    "\n",
    "    elif game == \"playing\":\n",
    "        position_dict[position] = player_flag\n",
    "        a = position_dict[\"a\"]\n",
    "        b = position_dict[\"b\"]\n",
    "        c = position_dict[\"c\"]\n",
    "        d = position_dict[\"d\"]\n",
    "        e = position_dict[\"e\"]\n",
    "        f = position_dict[\"f\"]\n",
    "        g = position_dict[\"g\"]\n",
    "        h = position_dict[\"h\"]\n",
    "        i = position_dict[\"i\"]\n",
    "        return f\"{a}|{b}|{c}\\n-----\\n{d}|{e}|{f}\\n-----\\n{g}|{h}|{i}\\n\", position_dict\n",
    "\n",
    "\n",
    "def goes_first():\n",
    "    choice = \"start\"\n",
    "    choice2 = \"\"\n",
    "    while choice not in [\"X\", \"O\"]:\n",
    "        choice = input(\"Player 1, X or O?\").upper()\n",
    "        if choice not in [\"X\", \"O\"]:\n",
    "            print(\"\\nWrong choice.\\n\")\n",
    "            keep_playing = input(\"Keep playing Yes/No?\")\n",
    "            if keep_playing == \"Yes\":\n",
    "                continue\n",
    "            else:\n",
    "                return \"Thanks for playing!\"\n",
    "    if choice == \"X\":\n",
    "        choice2 = \"O\"\n",
    "    else:\n",
    "        choice2 = \"X\"\n",
    "\n",
    "    print(f\"Player 1 is {choice} and Player 2 is {choice2}.\\n\")\n",
    "\n",
    "    n = \"\"\n",
    "    m = \"\"\n",
    "    while n == m:\n",
    "        n = random.randint(1, 9)\n",
    "        m = random.randint(1, 9)\n",
    "    if n > m:\n",
    "        print(f\"{choice} is first.\\n\")\n",
    "        first = choice\n",
    "        second = choice2\n",
    "    else:\n",
    "        print(f\"{choice2} is first.\\n\")\n",
    "        first = choice2\n",
    "        second = choice\n",
    "    return first, second\n"
   ],
   "cell_type": "code",
   "metadata": {},
   "execution_count": 1,
   "outputs": []
  },
  {
   "cell_type": "code",
   "execution_count": 2,
   "metadata": {},
   "outputs": [
    {
     "output_type": "stream",
     "name": "stdout",
     "text": [
      "Welcome to the Tic Tac Toe!\n",
      "Your position options ranges from 1-9, as shown below.\n",
      "\n",
      "1|2|3\n",
      "-----\n",
      "4|5|6\n",
      "-----\n",
      "7|8|9\n",
      "\n",
      "\n",
      "\n",
      "\n",
      "\n",
      "\n",
      "\n",
      "\n",
      "\n",
      "\n",
      "\n",
      "\n",
      "\n",
      "\n",
      "\n",
      "\n",
      "\n",
      "\n",
      "\n",
      "\n",
      "\n",
      "\n",
      "\n",
      "\n",
      "\n",
      "\n",
      "\n",
      "\n",
      "\n",
      "\n",
      "\n",
      "\n",
      "\n",
      "\n",
      "\n",
      "\n",
      "\n",
      "\n",
      "\n",
      "\n",
      "\n",
      "\n",
      "\n",
      "\n",
      "\n",
      "\n",
      "\n",
      "\n",
      "\n",
      "\n",
      "\n",
      "\n",
      "\n",
      "\n",
      "\n",
      "\n",
      "\n",
      "\n",
      "\n",
      "\n",
      "\n",
      "\n",
      "\n",
      "\n",
      "\n",
      "\n",
      "\n",
      "\n",
      "\n",
      "\n",
      "\n",
      "\n",
      "\n",
      "\n",
      "\n",
      "\n",
      "\n",
      "\n",
      "\n",
      "\n",
      "\n",
      "\n",
      "\n",
      "\n",
      "\n",
      "\n",
      "\n",
      "\n",
      "\n",
      "\n",
      "\n",
      "\n",
      "\n",
      "\n",
      "\n",
      "\n",
      "\n",
      "\n",
      "\n",
      "\n",
      "\n",
      "\n",
      " | | \n",
      "-----\n",
      " | | \n",
      "-----\n",
      " | | \n",
      "\n",
      "Player 1 is X and Player 2 is O.\n",
      "\n",
      "X is first.\n",
      "\n",
      "\n",
      "\n",
      "\n",
      "\n",
      "\n",
      "\n",
      "\n",
      "\n",
      "\n",
      "\n",
      "\n",
      "\n",
      "\n",
      "\n",
      "\n",
      "\n",
      "\n",
      "\n",
      "\n",
      "\n",
      "\n",
      "\n",
      "\n",
      "\n",
      "\n",
      "\n",
      "\n",
      "\n",
      "\n",
      "\n",
      "\n",
      "\n",
      "\n",
      "\n",
      "\n",
      "\n",
      "\n",
      "\n",
      "\n",
      "\n",
      "\n",
      "\n",
      "\n",
      "\n",
      "\n",
      "\n",
      "\n",
      "\n",
      "\n",
      "\n",
      "\n",
      "\n",
      "\n",
      "\n",
      "\n",
      "\n",
      "\n",
      "\n",
      "\n",
      "\n",
      "\n",
      "\n",
      "\n",
      "\n",
      "\n",
      "\n",
      "\n",
      "\n",
      "\n",
      "\n",
      "\n",
      "\n",
      "\n",
      "\n",
      "\n",
      "\n",
      "\n",
      "\n",
      "\n",
      "\n",
      "\n",
      "\n",
      "\n",
      "\n",
      "\n",
      "\n",
      "\n",
      "\n",
      "\n",
      "\n",
      "\n",
      "\n",
      "\n",
      "\n",
      "\n",
      "\n",
      "\n",
      "\n",
      "\n",
      "\n",
      "\n",
      "X| | \n",
      "-----\n",
      " | | \n",
      "-----\n",
      " | | \n",
      "\n",
      "Wrong choice.\n",
      "\n"
     ]
    },
    {
     "output_type": "execute_result",
     "data": {
      "text/plain": [
       "'O forfeits, X wins!! Thanks for playing!'"
      ]
     },
     "metadata": {},
     "execution_count": 2
    }
   ],
   "source": [
    "tic_tac()"
   ]
  },
  {
   "cell_type": "code",
   "execution_count": 28,
   "metadata": {},
   "outputs": [],
   "source": [
    "class Dog():\n",
    "    family='Canidae'\n",
    "    def __init__(self,bread,name,spots):\n",
    "        self.bread=bread\n",
    "        self.name=name\n",
    "        self.spots=spots\n",
    "\n",
    "    def bark(self, number):\n",
    "        print(f'WOOF! My name is {self.name}, and the number is {number}.')"
   ]
  },
  {
   "cell_type": "code",
   "execution_count": 30,
   "metadata": {},
   "outputs": [
    {
     "output_type": "execute_result",
     "data": {
      "text/plain": [
       "__main__.Dog"
      ]
     },
     "metadata": {},
     "execution_count": 30
    }
   ],
   "source": [
    "my_dog=Dog('Bulldog','Sammy',False)\n",
    "type(my_dog)"
   ]
  },
  {
   "cell_type": "code",
   "execution_count": 31,
   "metadata": {},
   "outputs": [
    {
     "output_type": "stream",
     "name": "stdout",
     "text": [
      "False Canidae Sammy\nWOOF! My name is Sammy, and the number is 69.\n"
     ]
    }
   ],
   "source": [
    "print(my_dog.spots,\n",
    "my_dog.family,\n",
    "my_dog.name)\n",
    "my_dog.bark(69)"
   ]
  },
  {
   "cell_type": "code",
   "execution_count": 42,
   "metadata": {},
   "outputs": [],
   "source": [
    "class Circle():\n",
    "\n",
    "    pi=3.14\n",
    "\n",
    "    def __init__(self,radius=1):\n",
    "        self.radius=radius\n",
    "        self.area=radius**2*Circle.pi\n",
    "\n",
    "    def get_circumference(self):\n",
    "        return self.radius*Circle.pi*2"
   ]
  },
  {
   "cell_type": "code",
   "execution_count": 43,
   "metadata": {},
   "outputs": [],
   "source": [
    "my_circle=Circle(30)"
   ]
  },
  {
   "cell_type": "code",
   "execution_count": 44,
   "metadata": {},
   "outputs": [
    {
     "output_type": "execute_result",
     "data": {
      "text/plain": [
       "2826.0"
      ]
     },
     "metadata": {},
     "execution_count": 44
    }
   ],
   "source": [
    "my_circle.pi\n",
    "my_circle.get_circumference()\n",
    "my_circle.area"
   ]
  },
  {
   "cell_type": "code",
   "execution_count": 45,
   "metadata": {},
   "outputs": [],
   "source": [
    "class Animal():\n",
    "\n",
    "    def __init__(self):\n",
    "        print('ANIMAL CREATED')\n",
    "    def who_am_i(self):\n",
    "        print('I am an animal')\n",
    "    def eat(self):\n",
    "        print('I am eating')"
   ]
  },
  {
   "cell_type": "code",
   "execution_count": 49,
   "metadata": {},
   "outputs": [
    {
     "output_type": "stream",
     "name": "stdout",
     "text": [
      "ANIMAL CREATED\nI am eating\nI am an animal\n"
     ]
    }
   ],
   "source": [
    "myanimal=Animal()\n",
    "myanimal.eat()\n",
    "myanimal.who_am_i()"
   ]
  },
  {
   "cell_type": "code",
   "execution_count": 54,
   "metadata": {},
   "outputs": [],
   "source": [
    "class Dog(Animal):\n",
    "    def __init__(self):\n",
    "        Animal.__init__(self)\n",
    "        print('Dog Created')\n",
    "    def who_am_i(self):\n",
    "        print('I am a Dog!')"
   ]
  },
  {
   "cell_type": "code",
   "execution_count": 55,
   "metadata": {},
   "outputs": [
    {
     "output_type": "stream",
     "name": "stdout",
     "text": [
      "ANIMAL CREATED\nDog Created\nI am eating\nI am a Dog!\n"
     ]
    }
   ],
   "source": [
    "mydog=Dog()\n",
    "mydog.eat()\n",
    "mydog.who_am_i()"
   ]
  },
  {
   "cell_type": "code",
   "execution_count": 62,
   "metadata": {},
   "outputs": [],
   "source": [
    "class Dog():\n",
    "    def __init__(self, name):\n",
    "        self.name=name\n",
    "    def speak(self):\n",
    "        return self.name + ' says woof.'"
   ]
  },
  {
   "cell_type": "code",
   "execution_count": 63,
   "metadata": {},
   "outputs": [],
   "source": [
    "class Cat():\n",
    "    def __init__(self, name):\n",
    "        self.name=name\n",
    "    def speak(self):\n",
    "        return self.name + ' says meow.'"
   ]
  },
  {
   "cell_type": "code",
   "execution_count": 64,
   "metadata": {},
   "outputs": [
    {
     "output_type": "execute_result",
     "data": {
      "text/plain": [
       "'felix says meow.'"
      ]
     },
     "metadata": {},
     "execution_count": 64
    }
   ],
   "source": [
    "niko=Dog('Niko')\n",
    "niko.speak()\n",
    "felix=Cat('felix')\n",
    "felix.speak()"
   ]
  },
  {
   "cell_type": "code",
   "execution_count": 65,
   "metadata": {},
   "outputs": [
    {
     "output_type": "stream",
     "name": "stdout",
     "text": [
      "<class '__main__.Dog'>\nNiko says woof.\n<class '__main__.Cat'>\nfelix says meow.\n"
     ]
    }
   ],
   "source": [
    "for pet in [niko,felix]:\n",
    "    print(type(pet))\n",
    "    print(pet.speak())"
   ]
  },
  {
   "cell_type": "code",
   "execution_count": 66,
   "metadata": {},
   "outputs": [],
   "source": [
    "def pet_speaks(pet):\n",
    "    print(pet.speak())"
   ]
  },
  {
   "cell_type": "code",
   "execution_count": 68,
   "metadata": {},
   "outputs": [
    {
     "output_type": "stream",
     "name": "stdout",
     "text": [
      "Niko says woof.\nfelix says meow.\n"
     ]
    }
   ],
   "source": [
    "pet_speaks(niko)\n",
    "pet_speaks(felix)"
   ]
  },
  {
   "cell_type": "code",
   "execution_count": 69,
   "metadata": {},
   "outputs": [],
   "source": [
    "class Animal():\n",
    "    def __init__(self,name):\n",
    "        self.name=name\n",
    "    def speak(self):\n",
    "        raise NotImplementedError('Subclass must implement this abstract method.')"
   ]
  },
  {
   "cell_type": "code",
   "execution_count": 73,
   "metadata": {},
   "outputs": [],
   "source": [
    "class Dog(Animal):\n",
    "    def speak(self):\n",
    "        return self.name + ' says woof.'"
   ]
  },
  {
   "cell_type": "code",
   "execution_count": 74,
   "metadata": {},
   "outputs": [
    {
     "output_type": "execute_result",
     "data": {
      "text/plain": [
       "'Tom says woof.'"
      ]
     },
     "metadata": {},
     "execution_count": 74
    }
   ],
   "source": [
    "my_dog=Dog('Tom')\n",
    "my_dog.speak()"
   ]
  },
  {
   "cell_type": "code",
   "execution_count": 75,
   "metadata": {},
   "outputs": [],
   "source": [
    "class Cat(Animal):\n",
    "    def speak(self):\n",
    "        return self.name + ' says meow.'"
   ]
  },
  {
   "cell_type": "code",
   "execution_count": 76,
   "metadata": {},
   "outputs": [
    {
     "output_type": "execute_result",
     "data": {
      "text/plain": [
       "'Isis says meow.'"
      ]
     },
     "metadata": {},
     "execution_count": 76
    }
   ],
   "source": [
    "my_cat=Cat('Isis')\n",
    "my_cat.speak()"
   ]
  },
  {
   "cell_type": "code",
   "execution_count": 86,
   "metadata": {},
   "outputs": [],
   "source": [
    "class Book():\n",
    "    def __init__(self, title, author, pages):\n",
    "        self.title=title\n",
    "        self.auothor=author\n",
    "        self.pages=pages\n",
    "\n",
    "    def __str__(self):\n",
    "        return f'{self.title} by {self.auothor}'\n",
    "\n",
    "    def __len__(self):\n",
    "        return self.pages\n",
    "\n",
    "    def __del__(self):\n",
    "        print('A book object has been deleted.')"
   ]
  },
  {
   "cell_type": "code",
   "execution_count": 89,
   "metadata": {},
   "outputs": [
    {
     "output_type": "execute_result",
     "data": {
      "text/plain": [
       "200"
      ]
     },
     "metadata": {},
     "execution_count": 89
    }
   ],
   "source": [
    "b=Book('Learning', 'Tolu', 200)\n",
    "len(b)\n",
    "# del(b)"
   ]
  },
  {
   "cell_type": "code",
   "execution_count": 90,
   "metadata": {},
   "outputs": [
    {
     "output_type": "execute_result",
     "data": {
      "text/plain": [
       "<__main__.Book at 0x21d561bd508>"
      ]
     },
     "metadata": {},
     "execution_count": 90
    }
   ],
   "source": [
    "b"
   ]
  },
  {
   "cell_type": "code",
   "execution_count": 96,
   "metadata": {},
   "outputs": [],
   "source": [
    "class Line:\n",
    "    \n",
    "    def __init__(self,coor1,coor2):\n",
    "        self.x_1=coor1[0]\n",
    "        self.y_1=coor1[1]\n",
    "        self.x_2=coor2[0]\n",
    "        self.y_2=coor2[1]\n",
    "    \n",
    "    def distance(self):\n",
    "        dist=((self.x_2-self.x_1)**2 + (self.y_2-self.y_1)**2)**0.5\n",
    "        return dist\n",
    "    \n",
    "    def slope(self):\n",
    "        sl=(self.y_2-self.y_1)/(self.x_2-self.x_1)\n",
    "        return sl"
   ]
  },
  {
   "cell_type": "code",
   "execution_count": 97,
   "metadata": {},
   "outputs": [],
   "source": [
    "coordinate1 = (3,2)\n",
    "coordinate2 = (8,10)\n",
    "\n",
    "li = Line(coordinate1,coordinate2)"
   ]
  },
  {
   "cell_type": "code",
   "execution_count": 98,
   "metadata": {},
   "outputs": [
    {
     "output_type": "execute_result",
     "data": {
      "text/plain": [
       "9.433981132056603"
      ]
     },
     "metadata": {},
     "execution_count": 98
    }
   ],
   "source": [
    "li.distance()"
   ]
  },
  {
   "cell_type": "code",
   "execution_count": 99,
   "metadata": {},
   "outputs": [
    {
     "output_type": "execute_result",
     "data": {
      "text/plain": [
       "1.6"
      ]
     },
     "metadata": {},
     "execution_count": 99
    }
   ],
   "source": [
    "li.slope()"
   ]
  },
  {
   "cell_type": "code",
   "execution_count": 102,
   "metadata": {},
   "outputs": [],
   "source": [
    "class Cylinder:\n",
    "    pi=3.14\n",
    "    def __init__(self,height=1,radius=1):\n",
    "        self.radius=radius\n",
    "        self.height=height\n",
    "        \n",
    "    def volume(self):\n",
    "        vol=self.pi*self.radius**2*self.height\n",
    "        return vol\n",
    "\n",
    "    def surface_area(self):\n",
    "        surf=2*self.pi*self.radius*self.height + 2*self.pi*self.radius**2\n",
    "        return surf"
   ]
  },
  {
   "cell_type": "code",
   "execution_count": 104,
   "metadata": {},
   "outputs": [
    {
     "output_type": "execute_result",
     "data": {
      "text/plain": [
       "56.52"
      ]
     },
     "metadata": {},
     "execution_count": 104
    }
   ],
   "source": [
    "c = Cylinder(2,3)\n",
    "c.volume()\n"
   ]
  },
  {
   "cell_type": "code",
   "execution_count": 105,
   "metadata": {},
   "outputs": [
    {
     "output_type": "execute_result",
     "data": {
      "text/plain": [
       "94.2"
      ]
     },
     "metadata": {},
     "execution_count": 105
    }
   ],
   "source": [
    "c.surface_area()"
   ]
  },
  {
   "cell_type": "code",
   "execution_count": 153,
   "metadata": {},
   "outputs": [],
   "source": [
    "class Account:\n",
    "    def __init__(self,owner, balance):\n",
    "        self.owner=owner\n",
    "        self.balance=balance\n",
    "    def __str__(self):\n",
    "        return f'Account owner: {self.owner}\\nAccount balance: ${self.balance}'\n",
    "    def deposit(self, num):\n",
    "        self.balance=self.balance + num\n",
    "        return f'Your deposit of ${num} Accepted'\n",
    "    def withdraw(self, number):\n",
    "        if self.balance < number:\n",
    "            return 'Withdrawals may not exceed the available balance.'\n",
    "        else:\n",
    "            self.balance=self.balance - number\n",
    "            return 'Withdrawal Accepted'\n"
   ]
  },
  {
   "cell_type": "code",
   "execution_count": 154,
   "metadata": {},
   "outputs": [],
   "source": [
    "acct1 = Account('Jose',100)"
   ]
  },
  {
   "cell_type": "code",
   "execution_count": 149,
   "metadata": {},
   "outputs": [
    {
     "output_type": "stream",
     "name": "stdout",
     "text": [
      "Account owner: Jose\nAccount balance: $100\n"
     ]
    }
   ],
   "source": [
    "print(acct1)"
   ]
  },
  {
   "cell_type": "code",
   "execution_count": 150,
   "metadata": {},
   "outputs": [
    {
     "output_type": "execute_result",
     "data": {
      "text/plain": [
       "'Jose'"
      ]
     },
     "metadata": {},
     "execution_count": 150
    }
   ],
   "source": [
    "acct1.owner"
   ]
  },
  {
   "cell_type": "code",
   "execution_count": 151,
   "metadata": {},
   "outputs": [
    {
     "output_type": "execute_result",
     "data": {
      "text/plain": [
       "100"
      ]
     },
     "metadata": {},
     "execution_count": 151
    }
   ],
   "source": [
    "acct1.balance"
   ]
  },
  {
   "cell_type": "code",
   "execution_count": 155,
   "metadata": {},
   "outputs": [
    {
     "output_type": "execute_result",
     "data": {
      "text/plain": [
       "'Your deposit of $50 Accepted'"
      ]
     },
     "metadata": {},
     "execution_count": 155
    }
   ],
   "source": [
    "acct1.deposit(50)"
   ]
  },
  {
   "cell_type": "code",
   "execution_count": 156,
   "metadata": {},
   "outputs": [
    {
     "output_type": "execute_result",
     "data": {
      "text/plain": [
       "'Withdrawal Accepted'"
      ]
     },
     "metadata": {},
     "execution_count": 156
    }
   ],
   "source": [
    "acct1.withdraw(75)"
   ]
  },
  {
   "cell_type": "code",
   "execution_count": 163,
   "metadata": {},
   "outputs": [
    {
     "output_type": "execute_result",
     "data": {
      "text/plain": [
       "'Withdrawal Accepted'"
      ]
     },
     "metadata": {},
     "execution_count": 163
    }
   ],
   "source": [
    "acct1.withdraw(500)"
   ]
  },
  {
   "cell_type": "code",
   "execution_count": 158,
   "metadata": {},
   "outputs": [
    {
     "output_type": "stream",
     "name": "stdout",
     "text": [
      "Account owner: Jose\nAccount balance: $75\n"
     ]
    }
   ],
   "source": [
    "print(acct1)"
   ]
  },
  {
   "cell_type": "code",
   "execution_count": 161,
   "metadata": {},
   "outputs": [
    {
     "output_type": "execute_result",
     "data": {
      "text/plain": [
       "'Your deposit of $1000 Accepted'"
      ]
     },
     "metadata": {},
     "execution_count": 161
    }
   ],
   "source": [
    "acct1.deposit(1000)"
   ]
  },
  {
   "cell_type": "code",
   "execution_count": 164,
   "metadata": {},
   "outputs": [
    {
     "output_type": "stream",
     "name": "stdout",
     "text": [
      "Account owner: Jose\nAccount balance: $675\n"
     ]
    }
   ],
   "source": [
    "print(acct1)"
   ]
  },
  {
   "cell_type": "code",
   "execution_count": 169,
   "metadata": {},
   "outputs": [
    {
     "output_type": "stream",
     "name": "stdout",
     "text": [
      "List is not ints\n"
     ]
    }
   ],
   "source": [
    "try:\n",
    "    for i in ['a','b','c']:\n",
    "        print(i**2)\n",
    "except:\n",
    "    print('List is not ints')"
   ]
  },
  {
   "cell_type": "code",
   "execution_count": 172,
   "metadata": {},
   "outputs": [
    {
     "output_type": "stream",
     "name": "stdout",
     "text": [
      "You can not divide by zero.\nAll done!\n"
     ]
    }
   ],
   "source": [
    "try:\n",
    "    x = 5\n",
    "    y = 0\n",
    "\n",
    "    z = x/y\n",
    "except ZeroDivisionError:\n",
    "    print('You can not divide by zero.')\n",
    "finally:\n",
    "    print('All done!')"
   ]
  },
  {
   "cell_type": "code",
   "execution_count": 173,
   "metadata": {},
   "outputs": [],
   "source": [
    "def ask():\n",
    "    while True:\n",
    "        try:\n",
    "            num=int(input('Input an integer:'))\n",
    "            return f'Thank you, your number squared is: {num**2}'   \n",
    "        except:\n",
    "            print('An error occurred! Please try again!')\n",
    "            continue\n"
   ]
  },
  {
   "cell_type": "code",
   "execution_count": 174,
   "metadata": {},
   "outputs": [
    {
     "output_type": "stream",
     "name": "stdout",
     "text": [
      "An error occurred! Please try again!\n"
     ]
    },
    {
     "output_type": "execute_result",
     "data": {
      "text/plain": [
       "'Thank you, your number squared is: 16'"
      ]
     },
     "metadata": {},
     "execution_count": 174
    }
   ],
   "source": [
    "ask()"
   ]
  },
  {
   "cell_type": "code",
   "execution_count": null,
   "metadata": {},
   "outputs": [],
   "source": []
  }
 ]
}
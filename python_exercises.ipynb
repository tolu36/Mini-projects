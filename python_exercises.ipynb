{
 "cells": [
  {
   "cell_type": "markdown",
   "metadata": {},
   "source": [
    "The aim of this notebook is to work through some python exercises provided on the website below.\n",
    "https://www.practicepython.org/"
   ]
  },
  {
   "cell_type": "markdown",
   "metadata": {},
   "source": [
    "### Exercise 1"
   ]
  },
  {
   "cell_type": "code",
   "execution_count": 6,
   "metadata": {},
   "outputs": [
    {
     "name": "stdout",
     "output_type": "stream",
     "text": [
      "Nelly you will be 100 years old in 2096\n"
     ]
    }
   ],
   "source": [
    "from datetime import datetime as dt\n",
    "\n",
    "def age_calc(name, age):\n",
    "    expected_year = dt.today().year-int(age)+100\n",
    "    print(f\"{name} you will be 100 years old in {expected_year}\")\n",
    "\n",
    "name=input(\"Please provide me your name: \")\n",
    "age = input('Please provide me your age: ')\n",
    "\n",
    "age_calc(name, age)"
   ]
  },
  {
   "cell_type": "markdown",
   "metadata": {},
   "source": [
    "### Exercise 2"
   ]
  },
  {
   "cell_type": "code",
   "execution_count": 22,
   "metadata": {},
   "outputs": [
    {
     "name": "stdout",
     "output_type": "stream",
     "text": [
      "20 is divisible by 10.\n"
     ]
    }
   ],
   "source": [
    "def check_num(num):\n",
    "    num = num.split(',')\n",
    "    if len(num)>1:\n",
    "        if int(num[0])%int(num[1])==0:\n",
    "            print(f\"{num[0]} is divisible by {num[1]}.\")\n",
    "        else:\n",
    "            print(f\"{num[0]} is not divisible by {num[1]}.\")\n",
    "    elif int(num[0])%4 == 0:\n",
    "        print(f\"{num[0]} is divisible by 4.\")\n",
    "    elif int(num[0])%2 > 0:\n",
    "        print(f\"{num[0]} is an odd number.\")\n",
    "    else:\n",
    "        print(f'{num[0]} is an even number.')\n",
    "\n",
    "num=input(\"Please provide me a number or 2 numbers separated by ',': \")\n",
    "\n",
    "check_num(num)"
   ]
  },
  {
   "cell_type": "markdown",
   "metadata": {},
   "source": [
    "### Exercise 3"
   ]
  },
  {
   "cell_type": "code",
   "execution_count": 3,
   "metadata": {},
   "outputs": [
    {
     "data": {
      "text/plain": [
       "[1, 1, 2, 3, 5, 8, 13]"
      ]
     },
     "execution_count": 3,
     "metadata": {},
     "output_type": "execute_result"
    }
   ],
   "source": [
    "a = [1, 1, 2, 3, 5, 8, 13, 21, 34, 55, 89]\n",
    "b = int(input('What number do you want the list to be less than? Please enter a number of your choice.'))\n",
    "def less_than_5(a, b):\n",
    "    return [i for i in a if i < b]\n",
    "   \n",
    "\n",
    "less_than_5(a,b)"
   ]
  },
  {
   "cell_type": "markdown",
   "metadata": {},
   "source": [
    "### Exercise 4"
   ]
  },
  {
   "cell_type": "code",
   "execution_count": 5,
   "metadata": {},
   "outputs": [
    {
     "data": {
      "text/plain": [
       "[2, 3, 4, 6, 8]"
      ]
     },
     "execution_count": 5,
     "metadata": {},
     "output_type": "execute_result"
    }
   ],
   "source": [
    "a = int(input('Please enter a number you wish to know its\"s divisor.'))\n",
    "def divisor(a):\n",
    "    return [x for x in list(range(2,11)) if a % x == 0]\n",
    "divisor(a)"
   ]
  },
  {
   "cell_type": "markdown",
   "metadata": {},
   "source": [
    "### Exercise 5"
   ]
  },
  {
   "cell_type": "code",
   "execution_count": 28,
   "metadata": {},
   "outputs": [
    {
     "name": "stdout",
     "output_type": "stream",
     "text": [
      "[1, 2, 3, 5, 8, 13]\n",
      "a = [8, 2, 2, 6, 6, 7, 7, 7, 9]\n",
      "b = [3, 1, 2]\n",
      "[2]\n"
     ]
    }
   ],
   "source": [
    "a = [1, 1, 2, 3, 5, 8, 13, 21, 34, 55, 89]\n",
    "b = [1, 2, 3, 4, 5, 6, 7, 8, 9, 10, 11, 12, 13]\n",
    "from random import randint\n",
    "def compare(a=None, b=None):\n",
    "    if a == None or b == None:\n",
    "        a = randint(1,9)\n",
    "        b = randint(1,9)\n",
    "        lst_a = [randint(i,a) for i in list(range(a))]\n",
    "        lst_b = [randint(i, b) for i in list(range(b))]\n",
    "        print('a =', lst_a)\n",
    "        print('b =', lst_b)\n",
    "        return list(set(lst_a).intersection(set(lst_b)))\n",
    "    else:\n",
    "        return list(set(a).intersection(set(b)))\n",
    "print(compare(a, b))\n",
    "print(compare())\n"
   ]
  },
  {
   "cell_type": "markdown",
   "metadata": {},
   "source": [
    "### Exercise 6"
   ]
  },
  {
   "cell_type": "code",
   "execution_count": 34,
   "metadata": {},
   "outputs": [
    {
     "data": {
      "text/plain": [
       "'dad dad is a palindrome.'"
      ]
     },
     "execution_count": 34,
     "metadata": {},
     "output_type": "execute_result"
    }
   ],
   "source": [
    "string = input('Please enter a word.')\n",
    "\n",
    "def palindrome(string):\n",
    "    if string == string[::-1]:\n",
    "        return f'{string} is a palindrome.'\n",
    "    else:\n",
    "        return f'{string} is not a palindrome.'\n",
    "\n",
    "palindrome(string)"
   ]
  },
  {
   "cell_type": "markdown",
   "metadata": {},
   "source": [
    "### Exercise 7"
   ]
  },
  {
   "cell_type": "code",
   "execution_count": 36,
   "metadata": {},
   "outputs": [
    {
     "data": {
      "text/plain": [
       "[4, 16, 36, 64, 100]"
      ]
     },
     "execution_count": 36,
     "metadata": {},
     "output_type": "execute_result"
    }
   ],
   "source": [
    "a = [1, 4, 9, 16, 25, 36, 49, 64, 81, 100]\n",
    "\n",
    "def even_num(a):\n",
    "    return [x for x in a if x%2==0]\n",
    "\n",
    "even_num(a)"
   ]
  },
  {
   "cell_type": "markdown",
   "metadata": {},
   "source": [
    "### Exercise 8"
   ]
  },
  {
   "cell_type": "code",
   "execution_count": 61,
   "metadata": {},
   "outputs": [
    {
     "name": "stdout",
     "output_type": "stream",
     "text": [
      "Tie game.\n",
      "You win. R beats S.\n",
      "You win. R beats S.\n",
      "Tie game.\n",
      "Tie game.\n",
      "You win. R beats S.\n",
      "Tie game.\n"
     ]
    },
    {
     "data": {
      "text/plain": [
       "'Good Bye.'"
      ]
     },
     "execution_count": 61,
     "metadata": {},
     "output_type": "execute_result"
    }
   ],
   "source": [
    "import random\n",
    "def rock_paper_scissors():\n",
    "    attempt = 0\n",
    "    play = input('Would you like to play? (Yes or No)')\n",
    "    if play.upper() in ['YES','Y']:\n",
    "        while attempt<4 or play in ['YES','Y']:\n",
    "            move = input('Enter R for rock, P for paper, S for scissors.')\n",
    "            if move not in ['R', 'P', 'S', 'r', 'p', 's']:\n",
    "                print(move,'is not a correct move option.')\n",
    "                attempt +=1\n",
    "            else:\n",
    "               npc = random.choice(['R', 'P', 'S'])\n",
    "               move=move.upper()\n",
    "               if move == npc:\n",
    "                 print('Tie game.')\n",
    "                 ask = input('Would you like to keep playing?')\n",
    "                 if ask.upper() not in ['Y','YES']:\n",
    "                    return 'Good Bye.'\n",
    "               elif [move, npc] not in [['R', 'S'], ['S', 'P'], ['P', 'R']]:\n",
    "                print(f'You Lose. {npc} beats {move}.')\n",
    "                ask = input('Would you like to keep playing?')\n",
    "                if ask.upper() not in ['Y','YES']:\n",
    "                    return 'Good Bye.'\n",
    "               else:\n",
    "                print(f'You win. {move} beats {npc}.')\n",
    "                ask = input('Would you like to keep playing?')\n",
    "                if ask.upper() not in ['Y','YES']:\n",
    "                    return 'Good Bye.'\n",
    "        else:\n",
    "            return 'Not a correct response.'\n",
    "    elif play.upper() == 'NO':\n",
    "        return 'Good Bye.'\n",
    "    else:\n",
    "        return 'Not a correct response.'\n",
    "rock_paper_scissors()"
   ]
  },
  {
   "cell_type": "markdown",
   "metadata": {},
   "source": [
    "### Exercise 9"
   ]
  },
  {
   "cell_type": "code",
   "execution_count": 9,
   "metadata": {},
   "outputs": [
    {
     "name": "stdout",
     "output_type": "stream",
     "text": [
      "This is not an appropriate guess,\n",
      "please try again.\n",
      "This is not an appropriate guess,\n",
      "please try again.\n",
      "Your guess was too low.\n",
      "Your guess was too low.\n",
      "Your guess was too low.\n",
      "This is not an appropriate guess,\n",
      "please try again.\n",
      "Your guess was too high\n",
      "Your guess was too high\n",
      "You guessed correctly the number was 7.\n",
      "Your guess was too low.\n",
      "Thanks for playing you made 7 guess during this game.\n"
     ]
    }
   ],
   "source": [
    "from random import randint\n",
    "\n",
    "\n",
    "def guessing_game():\n",
    "    play = True\n",
    "    guess_count = 0\n",
    "    new_game = True\n",
    "    while play:\n",
    "        guess = input('This is a guessing game, guess a number between 1 to 9.\\nIf you would like to end the game please write \"exit\".')\n",
    "        if guess.isnumeric() and int(guess) in list(range(1,10)):\n",
    "            guess_count +=1\n",
    "            if new_game:\n",
    "                actual_number = randint(1,9)\n",
    "                new_game = False\n",
    "            if int(guess)>actual_number:\n",
    "                print('Your guess was too high')\n",
    "            elif int(guess)<actual_number:\n",
    "                print('Your guess was too low.')\n",
    "            else:\n",
    "                print(f'You guessed correctly the number was {guess}.')\n",
    "                new_game =True\n",
    "        elif guess in ['EXIT','exit']:\n",
    "            print(f'Thanks for playing you made {guess_count} guess during this game.')\n",
    "            play = False\n",
    "        else:\n",
    "            print('This is not an appropriate guess,\\nplease try again.')\n",
    "\n",
    "guessing_game()\n"
   ]
  },
  {
   "cell_type": "markdown",
   "metadata": {},
   "source": [
    "### Exercise 10\n",
    "\n",
    "Skipped this one as it is the same as exercise 5."
   ]
  },
  {
   "cell_type": "markdown",
   "metadata": {},
   "source": [
    "### Exercise 11"
   ]
  },
  {
   "cell_type": "code",
   "execution_count": 24,
   "metadata": {},
   "outputs": [
    {
     "data": {
      "text/plain": [
       "'31 is a prime number.'"
      ]
     },
     "execution_count": 24,
     "metadata": {},
     "output_type": "execute_result"
    }
   ],
   "source": [
    "num = input('Enter a number to determine if it is a prime number or not.')\n",
    "\n",
    "def prime(num):\n",
    "    if num.isnumeric():\n",
    "        answer = [x for x in list(range(2,10)) if int(num)%x==0 and int(num) not in list(range(2,10))]\n",
    "        if len(answer) == 0:\n",
    "            return f'{num} is a prime number.'\n",
    "        else:\n",
    "            return f'{num} is not a prime number.'\n",
    "    else:\n",
    "        return 'You have entered an inappropriate value. Please try again.'\n",
    "\n",
    "prime(num)"
   ]
  },
  {
   "cell_type": "markdown",
   "metadata": {},
   "source": [
    "### Exercise 12"
   ]
  },
  {
   "cell_type": "code",
   "execution_count": 27,
   "metadata": {},
   "outputs": [
    {
     "data": {
      "text/plain": [
       "[45, 50]"
      ]
     },
     "execution_count": 27,
     "metadata": {},
     "output_type": "execute_result"
    }
   ],
   "source": [
    "a = [45,5, 10, 15, 20, 25,50]\n",
    "\n",
    "def list_end(a):\n",
    "    return [a[0], a[-1]]\n",
    "\n",
    "list_end(a)"
   ]
  },
  {
   "cell_type": "markdown",
   "metadata": {},
   "source": [
    "### Exercise 13"
   ]
  },
  {
   "cell_type": "code",
   "execution_count": 8,
   "metadata": {},
   "outputs": [
    {
     "data": {
      "text/plain": [
       "[1, 1, 2, 3, 5, 8, 13, 21, 34]"
      ]
     },
     "execution_count": 8,
     "metadata": {},
     "output_type": "execute_result"
    }
   ],
   "source": [
    "def fib():\n",
    "    num = input('Please enter the number of sequences present in the Fibonnaci numbers.')\n",
    "    if num.isnumeric():\n",
    "        lst = [1,1]\n",
    "        for i in list(range(int(num))):\n",
    "           lst.append(lst[i] + lst[i+1])\n",
    "        return lst\n",
    "    else:\n",
    "        return f'{num} is not an appropriate choice.'\n",
    "\n",
    "fib()"
   ]
  },
  {
   "cell_type": "markdown",
   "metadata": {},
   "source": [
    "### Exercise 14"
   ]
  },
  {
   "cell_type": "code",
   "execution_count": 9,
   "metadata": {},
   "outputs": [
    {
     "name": "stdout",
     "output_type": "stream",
     "text": [
      "[1, 2, 3, 4, 5, 0, 76, 8, 9, 6, 7] [0, 1, 2, 3, 4, 5, 6, 7, 8, 9, 76]\n"
     ]
    }
   ],
   "source": [
    "# method 1\n",
    "\n",
    "def remove_dup(a):\n",
    "    lst = []\n",
    "    for i in a:\n",
    "        if i not in lst:\n",
    "            lst.append(i)\n",
    "    return lst\n",
    "\n",
    "# method 2\n",
    "\n",
    "def remove_dup2(a):\n",
    "    return list(set(a))\n",
    "\n",
    "a = [1,1,2,2,3,4,5,0,5,76,8,9,6,7]\n",
    "print(remove_dup(a), remove_dup2(a))\n"
   ]
  },
  {
   "cell_type": "markdown",
   "metadata": {},
   "source": [
    "### Exercise 15"
   ]
  },
  {
   "cell_type": "code",
   "execution_count": 13,
   "metadata": {},
   "outputs": [
    {
     "data": {
      "text/plain": [
       "'Tolu is name my there Hi'"
      ]
     },
     "execution_count": 13,
     "metadata": {},
     "output_type": "execute_result"
    }
   ],
   "source": [
    "def reverse_word():\n",
    "    string = input('Please enter a string of words you wish to see in reverse order.')\n",
    "    return (' ').join(string.split(' ')[::-1])\n",
    "reverse_word()"
   ]
  },
  {
   "cell_type": "markdown",
   "metadata": {},
   "source": [
    "### Exercise 16"
   ]
  },
  {
   "cell_type": "code",
   "execution_count": 92,
   "metadata": {},
   "outputs": [
    {
     "data": {
      "text/plain": [
       "\"Your password is: '63ML>bX^2ouvZD8g)]'. This took 0.0 seconds to generate.\""
      ]
     },
     "execution_count": 92,
     "metadata": {},
     "output_type": "execute_result"
    }
   ],
   "source": [
    "import requests\n",
    "import random\n",
    "import string\n",
    "import time\n",
    "\n",
    "def password_genorator():\n",
    "    word_site = \"https://www.mit.edu/~ecprice/wordlist.10000\"\n",
    "    response = requests.get(word_site)\n",
    "    WORDS = response.content.decode().splitlines()\n",
    "    strength = input('Please how strong you would like your password to be? (\"weak\", \"medium\",\"strong\")')\n",
    "    start = time.time()\n",
    "    if strength.lower() in ['w', 'weak']:\n",
    "        stop = time.time()\n",
    "        return f\"Your password is: '{random.choice(WORDS)}'. This took {stop - start} seconds to generate.\"\n",
    "    elif strength.lower() in ['m', 'medium','s', 'strong']:\n",
    "        low_case =[i for i in string.ascii_lowercase]\n",
    "        upper_case = [i for i in string.ascii_uppercase]\n",
    "        nums=[i for i in string.digits]\n",
    "        symbols = [i for i in string.punctuation]\n",
    "        password = []\n",
    "        if strength.lower() in ['m', 'medium']:\n",
    "            for i in [upper_case, nums, symbols]:\n",
    "                password.append(random.choice(i))\n",
    "            num_char = random.randint(8, 14)\n",
    "            password+=random.sample(low_case,(num_char-3))\n",
    "            random.shuffle(password)\n",
    "            stop = time.time()\n",
    "            return f\"Your password is: '{('').join(password)}'. This took {stop - start} seconds to generate.\"\n",
    "        else:\n",
    "            num_char = random.randint(12, 18)\n",
    "            lst = list(range(num_char))\n",
    "            random.shuffle(lst)\n",
    "            u, l, s, n  =[lst[i::4] for i in range(4)]\n",
    "            for i, j in [(u, upper_case), (l, low_case), (s,symbols), (n, nums)]:\n",
    "                password+= (random.sample(j, len(i)))\n",
    "            random.shuffle(password)\n",
    "            stop = time.time()\n",
    "            return f\"Your password is: '{('').join(password)}'. This took {stop - start} seconds to generate.\"\n",
    "    else:\n",
    "        return 'You did not enter a valid password strength.'\n",
    "password_genorator()"
   ]
  },
  {
   "cell_type": "markdown",
   "metadata": {},
   "source": [
    "### Exercise 17"
   ]
  },
  {
   "cell_type": "code",
   "execution_count": null,
   "metadata": {},
   "outputs": [],
   "source": []
  }
 ],
 "metadata": {
  "interpreter": {
   "hash": "30f0092c9ddbd796e6141aacd5c6fb3704c1ea2a2ccd09084af215b63610637b"
  },
  "kernelspec": {
   "display_name": "Python 3.7.11 ('base')",
   "language": "python",
   "name": "python3"
  },
  "language_info": {
   "codemirror_mode": {
    "name": "ipython",
    "version": 3
   },
   "file_extension": ".py",
   "mimetype": "text/x-python",
   "name": "python",
   "nbconvert_exporter": "python",
   "pygments_lexer": "ipython3",
   "version": "3.7.11"
  },
  "orig_nbformat": 4
 },
 "nbformat": 4,
 "nbformat_minor": 2
}
